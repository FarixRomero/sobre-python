{
 "cells": [
  {
   "cell_type": "markdown",
   "id": "1fd692e5",
   "metadata": {},
   "source": [
    "# Módulo Multiprocessing"
   ]
  },
  {
   "cell_type": "markdown",
   "id": "18461909",
   "metadata": {},
   "source": [
    "En estos apuntes se presentará muy brevemente como ejecutar código en paralelo empleando múltiples procesos."
   ]
  },
  {
   "cell_type": "code",
   "execution_count": 1,
   "id": "5c5559cd",
   "metadata": {},
   "outputs": [],
   "source": [
    "from time import sleep, time"
   ]
  },
  {
   "cell_type": "code",
   "execution_count": 2,
   "id": "a1d84c35",
   "metadata": {},
   "outputs": [],
   "source": [
    "def delay(num):\n",
    "    sleep(num)\n",
    "    return num"
   ]
  },
  {
   "cell_type": "markdown",
   "id": "ee762f54",
   "metadata": {},
   "source": [
    "Estas celdas sirven para realizar mediciones al vuelo de tiempo. Con la opción `-r` se indican la cantidad de repeticiones y con `-n` el número de interaciones por repetición."
   ]
  },
  {
   "cell_type": "code",
   "execution_count": 3,
   "id": "ac4bfbd9",
   "metadata": {},
   "outputs": [
    {
     "name": "stdout",
     "output_type": "stream",
     "text": [
      "1.1 s ± 0 ns per loop (mean ± std. dev. of 1 run, 10 loops each)\n"
     ]
    }
   ],
   "source": [
    "%timeit -r 1 -n 10 delay(1)"
   ]
  },
  {
   "cell_type": "code",
   "execution_count": 4,
   "id": "c64c9750",
   "metadata": {},
   "outputs": [
    {
     "data": {
      "text/plain": [
       "2.2614564895629883"
      ]
     },
     "execution_count": 4,
     "metadata": {},
     "output_type": "execute_result"
    }
   ],
   "source": [
    "tic = time()\n",
    "delay(1)\n",
    "delay(1)\n",
    "toc = time()\n",
    "toc - tic"
   ]
  },
  {
   "cell_type": "code",
   "execution_count": 5,
   "id": "3f61d289",
   "metadata": {},
   "outputs": [],
   "source": [
    "from multiprocessing import Process"
   ]
  },
  {
   "cell_type": "markdown",
   "id": "7dc13718",
   "metadata": {},
   "source": [
    "Para crear un proceso:"
   ]
  },
  {
   "cell_type": "code",
   "execution_count": 6,
   "id": "4d8df87d",
   "metadata": {},
   "outputs": [],
   "source": [
    "p1 = Process(target=delay,args=(1,))\n",
    "p2 = Process(target=delay,args=(1,))"
   ]
  },
  {
   "cell_type": "markdown",
   "id": "50d9fd35",
   "metadata": {},
   "source": [
    "Los procesos han sido creados, pero no han sido ejecutados."
   ]
  },
  {
   "cell_type": "code",
   "execution_count": 7,
   "id": "bf80f136",
   "metadata": {},
   "outputs": [],
   "source": [
    "p1.start()\n",
    "p2.start()"
   ]
  },
  {
   "cell_type": "markdown",
   "id": "9540c167",
   "metadata": {},
   "source": [
    "Para esperar a que los procesos terminen"
   ]
  },
  {
   "cell_type": "code",
   "execution_count": 8,
   "id": "b6c8294c",
   "metadata": {},
   "outputs": [],
   "source": [
    "p1.join()\n",
    "p2.join()"
   ]
  },
  {
   "cell_type": "markdown",
   "id": "411895b8",
   "metadata": {},
   "source": [
    "Si se junta todo en una celda se puede observar el tiempo total"
   ]
  },
  {
   "cell_type": "code",
   "execution_count": 9,
   "id": "6e598290",
   "metadata": {},
   "outputs": [
    {
     "data": {
      "text/plain": [
       "5.027055263519287"
      ]
     },
     "execution_count": 9,
     "metadata": {},
     "output_type": "execute_result"
    }
   ],
   "source": [
    "tic = time()\n",
    "p1 = Process(target=delay,args=(5,))\n",
    "p2 = Process(target=delay,args=(5,))\n",
    "p1.start()\n",
    "p2.start()\n",
    "p1.join()\n",
    "p2.join()\n",
    "toc = time()\n",
    "toc - tic"
   ]
  },
  {
   "cell_type": "markdown",
   "id": "46acee6c",
   "metadata": {},
   "source": [
    "Ejecutar los dos procesos en simultáneo toma una cantidad cercana a 5 segundos, y ejecutarlas las funciones en simultáneo hubiera tomado 10 segundos. Sin embargo, el código es poco escalable ¿qué pasaría si se quisiera emplear más de dos procesos en simultáneo? "
   ]
  },
  {
   "cell_type": "code",
   "execution_count": 10,
   "id": "4d0e8aef",
   "metadata": {},
   "outputs": [
    {
     "data": {
      "text/plain": [
       "8.12626838684082"
      ]
     },
     "execution_count": 10,
     "metadata": {},
     "output_type": "execute_result"
    }
   ],
   "source": [
    "# lista de procesos\n",
    "processes = []\n",
    "# cantidad de procesos\n",
    "cp = 4\n",
    "# empezar a medir el tiempo\n",
    "tic = time()\n",
    "# crear una lista de procesos\n",
    "for _ in range(cp):\n",
    "    processes.append(Process(target=delay,args=(8,)))\n",
    "# iniciar los procesos\n",
    "for p in processes:\n",
    "    p.start()\n",
    "# esperar a que terminen los procesos\n",
    "for p in processes:\n",
    "    p.join()\n",
    "# terminar de medir el tiempo\n",
    "toc = time()\n",
    "# mostrar tiempo transcurrido\n",
    "toc - tic"
   ]
  },
  {
   "cell_type": "markdown",
   "id": "8a34f9a3",
   "metadata": {},
   "source": [
    "Ahora se puede definir una versión multriproceso para la función `delay`"
   ]
  },
  {
   "cell_type": "code",
   "execution_count": 11,
   "id": "c53ec0a3",
   "metadata": {},
   "outputs": [],
   "source": [
    "def mpdelay(num,cp):\n",
    "    processes = []\n",
    "    for _ in range(cp):\n",
    "        processes.append(Process(target=delay,args=(num,)))\n",
    "\n",
    "    for p in processes:\n",
    "        p.start()\n",
    "\n",
    "    for p in processes:\n",
    "        p.join()\n",
    "    return num"
   ]
  },
  {
   "cell_type": "code",
   "execution_count": 12,
   "id": "777f38e3",
   "metadata": {},
   "outputs": [
    {
     "name": "stdout",
     "output_type": "stream",
     "text": [
      "4.28 s ± 0 ns per loop (mean ± std. dev. of 1 run, 10 loops each)\n"
     ]
    }
   ],
   "source": [
    "%timeit -r 1 -n 10 mpdelay(4,2)"
   ]
  },
  {
   "cell_type": "code",
   "execution_count": 13,
   "id": "1f533ace",
   "metadata": {},
   "outputs": [
    {
     "name": "stdout",
     "output_type": "stream",
     "text": [
      "4.33 s ± 0 ns per loop (mean ± std. dev. of 1 run, 10 loops each)\n"
     ]
    }
   ],
   "source": [
    "%timeit -r 1 -n 10 mpdelay(4,4)"
   ]
  },
  {
   "cell_type": "markdown",
   "id": "84d2b0d1",
   "metadata": {},
   "source": [
    "Al mismo tiempo, el módulo `multiprocessing` proporciona la clase `Pool` la cual crea un objeto que ofrece un medio para paralelizar la ejecución de una función a través de múltiples valores de entrada, distribuyendo los datos de entrada entre los procesos. Esto se ejemplificará por medio la función factorial."
   ]
  },
  {
   "cell_type": "code",
   "execution_count": 14,
   "id": "0aaec91c",
   "metadata": {},
   "outputs": [],
   "source": [
    "def factorial(n):\n",
    "    f = 1\n",
    "    for x in range(1,n+1):\n",
    "        f *= x\n",
    "    return f"
   ]
  },
  {
   "cell_type": "markdown",
   "id": "a2b564d2",
   "metadata": {},
   "source": [
    "Por poner un ejemplo, el factorial es una multiplicación de una secuencia de números, para optimizar su tiempo de ejecución usando múltiples procesos se puede dividir esa secuencia en pequeñas subsecuencias y luego multiplicar esos resultados parciales. Para esto vamos a crear dos funciones auxiliares; una para multiplicar una secuencia de números, y otra para multiplicar los elementos de una lista de números no necesariamente secuenciales."
   ]
  },
  {
   "cell_type": "code",
   "execution_count": 15,
   "id": "10f37741",
   "metadata": {},
   "outputs": [],
   "source": [
    "def prodseq(start,stop):\n",
    "    p = start\n",
    "    for n in range(start+1,stop+1):\n",
    "        p *= n\n",
    "    return p"
   ]
  },
  {
   "cell_type": "code",
   "execution_count": 16,
   "id": "633e5f5f",
   "metadata": {},
   "outputs": [],
   "source": [
    "def prodlist(nums):\n",
    "    p = 1\n",
    "    for num in nums:\n",
    "        p *= num\n",
    "    return p"
   ]
  },
  {
   "cell_type": "code",
   "execution_count": 17,
   "id": "7da5e281",
   "metadata": {},
   "outputs": [],
   "source": [
    "from multiprocessing import Pool"
   ]
  },
  {
   "cell_type": "code",
   "execution_count": 18,
   "id": "d50ebabd",
   "metadata": {},
   "outputs": [],
   "source": [
    "def mpfactorial(n,cp):\n",
    "    # se le indica la cantidad de procesos y se crea el objeto\n",
    "    p = Pool(cp)\n",
    "    l1 = [((x*n)//cp)+1 for x in range(cp)]\n",
    "    l2 = [((x*n)//cp) for x in range(1,cp+1)]\n",
    "    rp = p.starmap(prodseq, zip(l1,l2))\n",
    "    p.close()\n",
    "    p.join()\n",
    "    return prodlist(rp)"
   ]
  },
  {
   "cell_type": "markdown",
   "id": "e5026267",
   "metadata": {},
   "source": [
    "Se realiza una prueba numérica para verificar que el valor es correcto"
   ]
  },
  {
   "cell_type": "code",
   "execution_count": 19,
   "id": "9178ab45",
   "metadata": {},
   "outputs": [
    {
     "data": {
      "text/plain": [
       "True"
      ]
     },
     "execution_count": 19,
     "metadata": {},
     "output_type": "execute_result"
    }
   ],
   "source": [
    "n = 100000\n",
    "mpfactorial(n,2) == mpfactorial(n,4) == factorial(n)"
   ]
  },
  {
   "cell_type": "markdown",
   "id": "e532f115",
   "metadata": {},
   "source": [
    "Podemos realizar una prueba de tiempo al vuelo para tener una idea de como serán los tiempos de ejecución."
   ]
  },
  {
   "cell_type": "code",
   "execution_count": 20,
   "id": "e17ac3f8",
   "metadata": {},
   "outputs": [
    {
     "name": "stdout",
     "output_type": "stream",
     "text": [
      "1.78 s ± 0 ns per loop (mean ± std. dev. of 1 run, 10 loops each)\n"
     ]
    }
   ],
   "source": [
    "%timeit -r 2 -n 10 factorial(n)"
   ]
  },
  {
   "cell_type": "code",
   "execution_count": 21,
   "id": "9cb5db03",
   "metadata": {},
   "outputs": [
    {
     "name": "stdout",
     "output_type": "stream",
     "text": [
      "585 ms ± 0 ns per loop (mean ± std. dev. of 1 run, 10 loops each)\n"
     ]
    }
   ],
   "source": [
    "%timeit -r 2 -n 10 mpfactorial(n,2)"
   ]
  },
  {
   "cell_type": "code",
   "execution_count": 22,
   "id": "a0db20a1",
   "metadata": {},
   "outputs": [
    {
     "name": "stdout",
     "output_type": "stream",
     "text": [
      "295 ms ± 0 ns per loop (mean ± std. dev. of 1 run, 10 loops each)\n"
     ]
    }
   ],
   "source": [
    "%timeit -r 2 -n 10 mpfactorial(n,4)"
   ]
  },
  {
   "cell_type": "markdown",
   "id": "80bc317a",
   "metadata": {},
   "source": [
    "# Módulo Concurrent"
   ]
  },
  {
   "cell_type": "markdown",
   "id": "421ba93d",
   "metadata": {},
   "source": [
    "Otra forma de hacer multiprocessing es con el módulo `concurrent`, cuyo funcionamiento es equivalente, pero nos permite ahorrar bastante código pues la función enviada por el método submit junto con su argumento será puesta en ejecución y se esperará a que termine su ejecución."
   ]
  },
  {
   "cell_type": "code",
   "execution_count": 23,
   "id": "383251d9",
   "metadata": {},
   "outputs": [],
   "source": [
    "import concurrent.futures"
   ]
  },
  {
   "cell_type": "code",
   "execution_count": 24,
   "id": "ec860d55",
   "metadata": {},
   "outputs": [],
   "source": [
    "from concurrent.futures import ProcessPoolExecutor as executor"
   ]
  },
  {
   "cell_type": "code",
   "execution_count": 25,
   "id": "db869747",
   "metadata": {},
   "outputs": [
    {
     "data": {
      "text/plain": [
       "5"
      ]
     },
     "execution_count": 25,
     "metadata": {},
     "output_type": "execute_result"
    }
   ],
   "source": [
    "f1 = executor().submit(delay,5)\n",
    "f1.result()"
   ]
  },
  {
   "cell_type": "markdown",
   "id": "e167fcb8",
   "metadata": {},
   "source": [
    "Si quisieramos lanzar un proceso extra sería parecido al procedimiento realizado con el módulo multiprocessing"
   ]
  },
  {
   "cell_type": "code",
   "execution_count": 26,
   "id": "fea00f09",
   "metadata": {},
   "outputs": [],
   "source": [
    "f1 = executor().submit(delay,5)\n",
    "f2 = executor().submit(delay,5)"
   ]
  },
  {
   "cell_type": "code",
   "execution_count": 27,
   "id": "cc90f9f7",
   "metadata": {},
   "outputs": [
    {
     "data": {
      "text/plain": [
       "(5, 5)"
      ]
     },
     "execution_count": 27,
     "metadata": {},
     "output_type": "execute_result"
    }
   ],
   "source": [
    "f1.result(), f2.result()"
   ]
  },
  {
   "cell_type": "markdown",
   "id": "10911f79",
   "metadata": {},
   "source": [
    "También se puede definir una forma general para una cantidad parametrizada de procesos"
   ]
  },
  {
   "cell_type": "code",
   "execution_count": 28,
   "id": "938e75e4",
   "metadata": {},
   "outputs": [],
   "source": [
    "def condelay(num,cp):\n",
    "    res = [executor().submit(delay,num) for _ in range(cp)]\n",
    "    return [r.result() for r in concurrent.futures.as_completed(res)]"
   ]
  },
  {
   "cell_type": "code",
   "execution_count": 29,
   "id": "50d39c87",
   "metadata": {},
   "outputs": [
    {
     "name": "stdout",
     "output_type": "stream",
     "text": [
      "3.42 s ± 0 ns per loop (mean ± std. dev. of 1 run, 10 loops each)\n"
     ]
    }
   ],
   "source": [
    "%timeit -r 1 -n 10 condelay(3,4)"
   ]
  },
  {
   "cell_type": "markdown",
   "id": "e6504a7a",
   "metadata": {},
   "source": [
    "También se puede modificar la función para pasar una lista de números"
   ]
  },
  {
   "cell_type": "code",
   "execution_count": 30,
   "id": "1d9206b1",
   "metadata": {},
   "outputs": [],
   "source": [
    "def condelay(nums):\n",
    "    res = [executor().submit(delay,num) for num in nums]\n",
    "    return [r.result() for r in concurrent.futures.as_completed(res)]"
   ]
  },
  {
   "cell_type": "code",
   "execution_count": 31,
   "id": "effa0b08",
   "metadata": {},
   "outputs": [
    {
     "name": "stdout",
     "output_type": "stream",
     "text": [
      "4.31 s ± 0 ns per loop (mean ± std. dev. of 1 run, 10 loops each)\n"
     ]
    }
   ],
   "source": [
    "%timeit -r 1 -n 10 condelay([1,2,3,4])"
   ]
  },
  {
   "cell_type": "markdown",
   "id": "09953925",
   "metadata": {},
   "source": [
    "Note que en la implementación anterior se genera un proceso para cada elemento de la lista, y que el tiempo total es cercano al mayor de los tiempos indicados en la lista. Una forma aún más simplicada se puede realizar empleando el método `map`."
   ]
  },
  {
   "cell_type": "code",
   "execution_count": 32,
   "id": "2d24a4b6",
   "metadata": {},
   "outputs": [],
   "source": [
    "def condelay(nums):\n",
    "    return list(executor().map(delay,nums))"
   ]
  },
  {
   "cell_type": "code",
   "execution_count": 33,
   "id": "9e6d9555",
   "metadata": {},
   "outputs": [
    {
     "name": "stdout",
     "output_type": "stream",
     "text": [
      "6.72 s ± 0 ns per loop (mean ± std. dev. of 1 run, 10 loops each)\n"
     ]
    }
   ],
   "source": [
    "%timeit -r 1 -n 10 condelay([1,2,3,6])"
   ]
  },
  {
   "cell_type": "markdown",
   "id": "88dd978c",
   "metadata": {},
   "source": [
    "Con una ligera variante respecto de `Pool` también se pueden pasar varios argumentos al método `map`. La diferencia es que en lugar de hacer un `zip` de los dos iterables, se pasan los iterables por separados."
   ]
  },
  {
   "cell_type": "code",
   "execution_count": 34,
   "id": "48c2274c",
   "metadata": {},
   "outputs": [],
   "source": [
    "def confactorial(n, cp):\n",
    "    l1 = [((x*n)//cp)+1 for x in range(cp)]\n",
    "    l2 = [((x*n)//cp) for x in range(1,cp+1)]\n",
    "    r = list(executor().map(prodseq, l1, l2))\n",
    "    return prodlist(r)"
   ]
  },
  {
   "cell_type": "markdown",
   "id": "9179c359",
   "metadata": {},
   "source": [
    "Se realiza una prueba numérica para validar el resultado obtenido con 2 y 4 procesos"
   ]
  },
  {
   "cell_type": "code",
   "execution_count": 35,
   "id": "f4993ab0",
   "metadata": {},
   "outputs": [
    {
     "data": {
      "text/plain": [
       "True"
      ]
     },
     "execution_count": 35,
     "metadata": {},
     "output_type": "execute_result"
    }
   ],
   "source": [
    "n = 100000\n",
    "confactorial(n,2) == confactorial(n,4) == factorial(n)"
   ]
  },
  {
   "cell_type": "code",
   "execution_count": 36,
   "id": "450eabf0",
   "metadata": {},
   "outputs": [
    {
     "name": "stdout",
     "output_type": "stream",
     "text": [
      "1.78 s ± 21.3 ms per loop (mean ± std. dev. of 2 runs, 10 loops each)\n"
     ]
    }
   ],
   "source": [
    "%timeit -r 2 -n 10 factorial(n)"
   ]
  },
  {
   "cell_type": "code",
   "execution_count": 37,
   "id": "abf8eb61",
   "metadata": {},
   "outputs": [
    {
     "name": "stdout",
     "output_type": "stream",
     "text": [
      "619 ms ± 21.4 ms per loop (mean ± std. dev. of 2 runs, 10 loops each)\n"
     ]
    }
   ],
   "source": [
    "%timeit -r 2 -n 10 confactorial(n,2)"
   ]
  },
  {
   "cell_type": "code",
   "execution_count": 38,
   "id": "bf9b1056",
   "metadata": {},
   "outputs": [
    {
     "name": "stdout",
     "output_type": "stream",
     "text": [
      "293 ms ± 21.7 ms per loop (mean ± std. dev. of 2 runs, 10 loops each)\n"
     ]
    }
   ],
   "source": [
    "%timeit -r 2 -n 10 confactorial(n,4)"
   ]
  },
  {
   "cell_type": "markdown",
   "id": "84a63d97",
   "metadata": {},
   "source": [
    "# Pruebas"
   ]
  },
  {
   "cell_type": "code",
   "execution_count": 39,
   "id": "101731e2",
   "metadata": {},
   "outputs": [],
   "source": [
    "import statistics\n",
    "\n",
    "def filtro_mediana(sign, w):\n",
    "    signc = []\n",
    "    lc = sign+sign+sign\n",
    "    ii = len(sign)\n",
    "    for i in range(len(sign)):\n",
    "        izq = i + ii - w//2\n",
    "        der = i + ii + w//2\n",
    "        signc.append(statistics.median(lc[izq:der+1]))\n",
    "    return signc"
   ]
  },
  {
   "cell_type": "code",
   "execution_count": 40,
   "id": "ad857f1d",
   "metadata": {},
   "outputs": [],
   "source": [
    "from statistics import mean"
   ]
  },
  {
   "cell_type": "code",
   "execution_count": 41,
   "id": "fb586ded",
   "metadata": {},
   "outputs": [],
   "source": [
    "import matplotlib.pyplot as plt"
   ]
  },
  {
   "cell_type": "code",
   "execution_count": 42,
   "id": "9754faad",
   "metadata": {},
   "outputs": [],
   "source": [
    "start = 10000\n",
    "stop = 50000 + start\n",
    "step = start\n",
    "tams = range(start,stop,step)\n",
    "veces = range(20)"
   ]
  },
  {
   "cell_type": "code",
   "execution_count": 43,
   "id": "ac2f37f9",
   "metadata": {},
   "outputs": [],
   "source": [
    "ls = []\n",
    "lmp2 = []\n",
    "lmp4 = []\n",
    "lcon2 = []\n",
    "lcon4 = []\n",
    "for tam in tams:\n",
    "    lsi = []\n",
    "    lmp2i = []\n",
    "    lmp4i = []\n",
    "    lcon2i = []\n",
    "    lcon4i = []\n",
    "    for _ in veces:\n",
    "        tic = time()\n",
    "        rs = factorial(tam)\n",
    "        toc = time()\n",
    "        lsi.append(toc-tic)\n",
    "        \n",
    "        tic = time()\n",
    "        rmp2 = mpfactorial(tam,2)\n",
    "        toc = time()\n",
    "        lmp2i.append(toc-tic)\n",
    "        \n",
    "        tic = time()\n",
    "        rmp4 = mpfactorial(tam,4)\n",
    "        toc = time()\n",
    "        lmp4i.append(toc-tic)\n",
    "        \n",
    "        tic = time()\n",
    "        rcon2 = confactorial(tam,2)\n",
    "        toc = time()\n",
    "        lcon2i.append(toc-tic)\n",
    "        \n",
    "        tic = time()\n",
    "        rcon4 = confactorial(tam,4)\n",
    "        toc = time()\n",
    "        lcon4i.append(toc-tic)\n",
    "        \n",
    "    ls.append(mean(filtro_mediana(lsi,7)))\n",
    "    lmp2.append(mean(filtro_mediana(lmp2i,7)))\n",
    "    lmp4.append(mean(filtro_mediana(lmp4i,7)))\n",
    "    lcon2.append(mean(filtro_mediana(lcon2i,7)))\n",
    "    lcon4.append(mean(filtro_mediana(lcon4i,7)))"
   ]
  },
  {
   "cell_type": "code",
   "execution_count": 44,
   "id": "e3cc99fc",
   "metadata": {},
   "outputs": [
    {
     "data": {
      "text/plain": [
       "<matplotlib.legend.Legend at 0x7fb73854ccd0>"
      ]
     },
     "execution_count": 44,
     "metadata": {},
     "output_type": "execute_result"
    },
    {
     "data": {
      "image/png": "[encoded data removed]",
      "text/plain": [
       "<Figure size 432x288 with 1 Axes>"
      ]
     },
     "metadata": {
      "needs_background": "light"
     },
     "output_type": "display_data"
    }
   ],
   "source": [
    "plt.plot(tams,ls,'r-o',label='serial')\n",
    "plt.plot(tams,lmp2,'g-o',label='mp2')\n",
    "plt.plot(tams,lmp4,'b-o',label='mp4')\n",
    "plt.plot(tams,lcon2,'c-o',label='con2')\n",
    "plt.plot(tams,lcon4,'y-o',label='con4')\n",
    "plt.xlabel('N')\n",
    "plt.ylabel('Tiempo promedio')\n",
    "plt.legend()"
   ]
  },
  {
   "cell_type": "markdown",
   "id": "1db1997b",
   "metadata": {},
   "source": [
    "Se observa que para el primer caso todas las formas con múltiples procesos presentaron tiempos menores a la forma serial, y luego recién a partir del segundo tamagno se empieza a observar ganancia."
   ]
  },
  {
   "cell_type": "code",
   "execution_count": 45,
   "id": "8f6ce703",
   "metadata": {},
   "outputs": [
    {
     "data": {
      "text/plain": [
       "<matplotlib.legend.Legend at 0x7fb73812b640>"
      ]
     },
     "execution_count": 45,
     "metadata": {},
     "output_type": "execute_result"
    },
    {
     "data": {
      "image/png": "[encoded data removed]",
      "text/plain": [
       "<Figure size 432x288 with 1 Axes>"
      ]
     },
     "metadata": {
      "needs_background": "light"
     },
     "output_type": "display_data"
    }
   ],
   "source": [
    "plt.plot(tams[1:3],ls[1:3],'r-o',label='serial')\n",
    "plt.plot(tams[1:3],lmp2[1:3],'g-o',label='mp2')\n",
    "plt.plot(tams[1:3],lmp4[1:3],'b-o',label='mp4')\n",
    "plt.plot(tams[1:3],lcon2[1:3],'c-o',label='con2')\n",
    "plt.plot(tams[1:3],lcon4[1:3],'y-o',label='con4')\n",
    "plt.xlabel('N')\n",
    "plt.ylabel('Tiempo promedio')\n",
    "plt.legend()"
   ]
  },
  {
   "cell_type": "markdown",
   "id": "51134398",
   "metadata": {},
   "source": [
    "También se observó en la primera gráfica que los casos para igual cantidad de procesos tienen curvas muy cercanas en valores. Por eso se les realizará una gráfica aislada a cada correspondencia."
   ]
  },
  {
   "cell_type": "code",
   "execution_count": 46,
   "id": "d867e4d9",
   "metadata": {},
   "outputs": [
    {
     "data": {
      "text/plain": [
       "<matplotlib.legend.Legend at 0x7fb7380ae2e0>"
      ]
     },
     "execution_count": 46,
     "metadata": {},
     "output_type": "execute_result"
    },
    {
     "data": {
      "image/png": "[encoded data removed]",
      "text/plain": [
       "<Figure size 432x288 with 1 Axes>"
      ]
     },
     "metadata": {
      "needs_background": "light"
     },
     "output_type": "display_data"
    }
   ],
   "source": [
    "plt.plot(tams,lmp2,'g-o',label='mp2')\n",
    "plt.plot(tams,lcon2,'c-o',label='con2')\n",
    "plt.xlabel('N')\n",
    "plt.ylabel('Tiempo promedio')\n",
    "plt.legend()"
   ]
  },
  {
   "cell_type": "markdown",
   "id": "52bc6d4c",
   "metadata": {},
   "source": [
    "Con dos procesos no parece haber diferencia sustancial entre ambos módulos."
   ]
  },
  {
   "cell_type": "code",
   "execution_count": 47,
   "id": "099e6e05",
   "metadata": {},
   "outputs": [
    {
     "data": {
      "text/plain": [
       "<matplotlib.legend.Legend at 0x7fb73802ed60>"
      ]
     },
     "execution_count": 47,
     "metadata": {},
     "output_type": "execute_result"
    },
    {
     "data": {
      "image/png": "[encoded data removed]",
      "text/plain": [
       "<Figure size 432x288 with 1 Axes>"
      ]
     },
     "metadata": {
      "needs_background": "light"
     },
     "output_type": "display_data"
    }
   ],
   "source": [
    "plt.plot(tams,lmp4,'b-o',label='mp4')\n",
    "plt.plot(tams,lcon4,'y-o',label='con4')\n",
    "plt.xlabel('N')\n",
    "plt.ylabel('Tiempo promedio')\n",
    "plt.legend()"
   ]
  },
  {
   "cell_type": "markdown",
   "id": "6834d45e",
   "metadata": {},
   "source": [
    "Con cuatro procesos ya se aprecia una ligera distancia, siendo el módulo `multiprocessing` el que brinda un mejor resultado en tiempo. Ahora se procederá a calcular el _speedup_, con el tiempo serial como referencia."
   ]
  },
  {
   "cell_type": "code",
   "execution_count": 48,
   "id": "f1857a1c",
   "metadata": {},
   "outputs": [],
   "source": [
    "from numpy import asarray"
   ]
  },
  {
   "cell_type": "code",
   "execution_count": 49,
   "id": "ea30e518",
   "metadata": {},
   "outputs": [
    {
     "data": {
      "text/plain": [
       "<matplotlib.legend.Legend at 0x7fb737fba2b0>"
      ]
     },
     "execution_count": 49,
     "metadata": {},
     "output_type": "execute_result"
    },
    {
     "data": {
      "image/png": "[encoded data removed]",
      "text/plain": [
       "<Figure size 432x288 with 1 Axes>"
      ]
     },
     "metadata": {
      "needs_background": "light"
     },
     "output_type": "display_data"
    }
   ],
   "source": [
    "plt.plot(tams,asarray(ls)/asarray(lmp2),'g-o',label='mp2')\n",
    "plt.plot(tams,asarray(ls)/asarray(lmp4),'b-o',label='mp4')\n",
    "plt.plot(tams,asarray(ls)/asarray(lcon2),'c-o',label='con2')\n",
    "plt.plot(tams,asarray(ls)/asarray(lcon4),'y-o',label='con4')\n",
    "plt.xlabel('N')\n",
    "plt.ylabel('Speedup')\n",
    "plt.legend()"
   ]
  },
  {
   "cell_type": "markdown",
   "id": "36051e64",
   "metadata": {},
   "source": [
    "En línea con las observaciones anteriores, en el primer caso, la gráfica muestra que todos presentan pérdidas en tiempo de ejecución, y a partir del segundo caso todos presentan ganancia."
   ]
  },
  {
   "cell_type": "markdown",
   "id": "5a2f9437",
   "metadata": {},
   "source": [
    "Como comentario, solo mencionar que el uso de múltiples procesos se recomienda solo en casos de una aplicación que esté limitada por CPU, y que requiera mucha computación. Por otro lado, la cantidad de procesos que puede lanzar no está limitada, pero se recomienda que no exceda a la cantidad de núcleos que posee su ordenador."
   ]
  },
  {
   "cell_type": "code",
   "execution_count": 50,
   "id": "db365c07",
   "metadata": {},
   "outputs": [],
   "source": [
    "from multiprocessing import cpu_count"
   ]
  },
  {
   "cell_type": "code",
   "execution_count": 51,
   "id": "b93b4a71",
   "metadata": {},
   "outputs": [
    {
     "data": {
      "text/plain": [
       "4"
      ]
     },
     "execution_count": 51,
     "metadata": {},
     "output_type": "execute_result"
    }
   ],
   "source": [
    "cpu_count()"
   ]
  },
  {
   "cell_type": "markdown",
   "id": "dc71bfc5",
   "metadata": {},
   "source": [
    "Se recomienda al lector realizar mediciones con una cantidad de procesos mayor a la cantidad de CPUs y comentar las observaciones."
   ]
  }
 ],
 "metadata": {
  "kernelspec": {
   "display_name": "Python 3 (ipykernel)",
   "language": "python",
   "name": "python3"
  },
  "language_info": {
   "codemirror_mode": {
    "name": "ipython",
    "version": 3
   },
   "file_extension": ".py",
   "mimetype": "text/x-python",
   "name": "python",
   "nbconvert_exporter": "python",
   "pygments_lexer": "ipython3",
   "version": "3.8.10"
  }
 },
 "nbformat": 4,
 "nbformat_minor": 5
}
