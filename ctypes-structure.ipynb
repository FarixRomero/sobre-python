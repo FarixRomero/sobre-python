{
 "cells": [
  {
   "cell_type": "markdown",
   "id": "adc2e800",
   "metadata": {},
   "source": [
    "# Ctypes con estructuras"
   ]
  },
  {
   "cell_type": "markdown",
   "id": "c3416d58",
   "metadata": {},
   "source": [
    "En apuntes anteriores de ctypes se hizo un enlace usando los numpy arrays. En estos apuntes, se muestra como crear un enlace con estructuras definidas en C."
   ]
  },
  {
   "cell_type": "markdown",
   "id": "0ecbb08a",
   "metadata": {},
   "source": [
    "## Dependencias"
   ]
  },
  {
   "cell_type": "code",
   "execution_count": 1,
   "id": "11a456bd",
   "metadata": {},
   "outputs": [],
   "source": [
    "from ctypes import *"
   ]
  },
  {
   "cell_type": "code",
   "execution_count": 2,
   "id": "83b495f2",
   "metadata": {},
   "outputs": [],
   "source": [
    "import numpy as np"
   ]
  },
  {
   "cell_type": "markdown",
   "id": "469be6f3",
   "metadata": {},
   "source": [
    "Esta función auxiliar permite realizar el enlace formal, sin tener que repetir procedimientos."
   ]
  },
  {
   "cell_type": "code",
   "execution_count": 3,
   "id": "d418a8bc",
   "metadata": {},
   "outputs": [],
   "source": [
    "def set_function(lib, funcname, argtypes, restype):\n",
    "    func = lib.__getattr__(funcname)\n",
    "    func.argtypes = argtypes\n",
    "    func.restype = restype\n",
    "    return func"
   ]
  },
  {
   "cell_type": "markdown",
   "id": "9a8798db",
   "metadata": {},
   "source": [
    "## Ejemplo básico"
   ]
  },
  {
   "cell_type": "code",
   "execution_count": 4,
   "id": "1a75da34",
   "metadata": {},
   "outputs": [
    {
     "name": "stdout",
     "output_type": "stream",
     "text": [
      "Writing ejemplo.c\n"
     ]
    }
   ],
   "source": [
    "%%file ejemplo.c\n",
    "#include <string.h>\n",
    "\n",
    "struct ejemplo {\n",
    "    char* datos;\n",
    "    int tam;\n",
    "    double* elems;\n",
    "    int num;\n",
    "};\n",
    "\n",
    "void inds(struct ejemplo* p)\n",
    "{\n",
    "    strncpy(p->datos,\"hello, world!\",p->tam);\n",
    "    for(int i = 0; i < p->num; i++)\n",
    "        p->elems[i] = ((double)i);\n",
    "}\n",
    "\n",
    "void ones(struct ejemplo* p)\n",
    "{\n",
    "    for(int i = 0; i < p->num; i++)\n",
    "        p->elems[i] = 1.0;    \n",
    "}"
   ]
  },
  {
   "cell_type": "code",
   "execution_count": 5,
   "id": "5acdd4bf",
   "metadata": {},
   "outputs": [],
   "source": [
    "! gcc -c -fpic ejemplo.c -o ejemplo.o \n",
    "! gcc -shared ejemplo.o -o ejemplo.so"
   ]
  },
  {
   "cell_type": "code",
   "execution_count": 6,
   "id": "bab98990",
   "metadata": {},
   "outputs": [],
   "source": [
    "ejemplolib = CDLL('./ejemplo.so')"
   ]
  },
  {
   "cell_type": "code",
   "execution_count": 7,
   "id": "2179015e",
   "metadata": {},
   "outputs": [],
   "source": [
    "class Lib:\n",
    "\n",
    "    def __init__(self):\n",
    "        self.inds = set_function(ejemplolib, 'inds', [POINTER(Ejemplo)], None)\n",
    "        self.ones = set_function(ejemplolib, 'ones', [POINTER(Ejemplo)], None)\n",
    "\n",
    "    def inds(self, ex):\n",
    "        self.inds(byref(ex))\n",
    "        \n",
    "    def ones(self, ex):\n",
    "        self.func(byref(ex))"
   ]
  },
  {
   "cell_type": "code",
   "execution_count": 8,
   "id": "7c6aca33",
   "metadata": {},
   "outputs": [],
   "source": [
    "class Ejemplo(Structure):\n",
    "\n",
    "    _fields_ = [\n",
    "        ('datos', POINTER(c_char)),\n",
    "        ('tam', c_int),\n",
    "        ('elems', POINTER(c_double)),\n",
    "        ('num', c_int)]\n",
    "\n",
    "    def __init__(self, tam, num):\n",
    "        self.datos = cast(create_string_buffer(tam), POINTER(c_char))\n",
    "        self.tam = tam\n",
    "        self.elems = (c_double * num)()\n",
    "        self.num = num\n",
    "        l = Lib()\n",
    "        self = l.ones(self)\n",
    "\n",
    "    def __repr__(self):\n",
    "        return 'Ejemplo({},[{}])'.format(string_at(self.datos),','.join(str(self.elems[i]) for i in range(self.num)))"
   ]
  },
  {
   "cell_type": "code",
   "execution_count": 9,
   "id": "1bfd4bcb",
   "metadata": {},
   "outputs": [],
   "source": [
    "l = Lib()"
   ]
  },
  {
   "cell_type": "code",
   "execution_count": 10,
   "id": "6407771e",
   "metadata": {},
   "outputs": [],
   "source": [
    "e = Ejemplo(20,5)"
   ]
  },
  {
   "cell_type": "code",
   "execution_count": 11,
   "id": "03f0cbce",
   "metadata": {},
   "outputs": [
    {
     "data": {
      "text/plain": [
       "Ejemplo(b'',[1.0,1.0,1.0,1.0,1.0])"
      ]
     },
     "execution_count": 11,
     "metadata": {},
     "output_type": "execute_result"
    }
   ],
   "source": [
    "e"
   ]
  },
  {
   "cell_type": "code",
   "execution_count": 12,
   "id": "4ed638f7",
   "metadata": {},
   "outputs": [],
   "source": [
    "l.inds(e)"
   ]
  },
  {
   "cell_type": "code",
   "execution_count": 13,
   "id": "2bbf0fbf",
   "metadata": {},
   "outputs": [
    {
     "data": {
      "text/plain": [
       "Ejemplo(b'hello, world!',[0.0,1.0,2.0,3.0,4.0])"
      ]
     },
     "execution_count": 13,
     "metadata": {},
     "output_type": "execute_result"
    }
   ],
   "source": [
    "e"
   ]
  },
  {
   "cell_type": "code",
   "execution_count": 14,
   "id": "f4b44fc3",
   "metadata": {},
   "outputs": [],
   "source": [
    "! rm ejemplo.c ejemplo.o ejemplo.so"
   ]
  },
  {
   "cell_type": "markdown",
   "id": "c5a98296",
   "metadata": {},
   "source": [
    "## Librería para hacer operaciones ariméticas con matrices"
   ]
  },
  {
   "cell_type": "code",
   "execution_count": 15,
   "id": "b603fd04",
   "metadata": {},
   "outputs": [
    {
     "name": "stdout",
     "output_type": "stream",
     "text": [
      "Writing matrixlib.c\n"
     ]
    }
   ],
   "source": [
    "%%file matrixlib.c\n",
    "#include <math.h>\n",
    "#include <time.h>\n",
    "#include <stdio.h>\n",
    "#include <stdlib.h>\n",
    "\n",
    "typedef struct matrix matrix;\n",
    "\n",
    "struct matrix\n",
    "{\n",
    "    int m;\n",
    "    int n;\n",
    "    double *arr;\n",
    "};\n",
    "\n",
    "matrix creatematrix(int m, int n)\n",
    "{\n",
    "    matrix ret;\n",
    "    ret.m = m;\n",
    "    ret.n = n;\n",
    "    double *arr = (double *)malloc(sizeof(double) * m * n);\n",
    "    ret.arr = arr;\n",
    "    return ret;\n",
    "}\n",
    "\n",
    "matrix randmatrix(int m, int n)\n",
    "{\n",
    "    matrix R = creatematrix(m, n);\n",
    "    double ele = 0.0;\n",
    "    double den = sqrt(2.0);\n",
    "    for (int i = 0; i < m * n; i++)\n",
    "    {\n",
    "        ele = (double)rand();\n",
    "        R.arr[i] = (sin(ele)+cos(ele))/den;\n",
    "    }\n",
    "    return R;\n",
    "}\n",
    "\n",
    "matrix copymatrix(matrix A)\n",
    "{\n",
    "    int m = A.m;\n",
    "    int n = A.n;\n",
    "    matrix B = creatematrix(m, n);\n",
    "    for (int i = 0; i < m * n; i++)\n",
    "    {\n",
    "        B.arr[i] = A.arr[i];\n",
    "    }\n",
    "    return B;\n",
    "}\n",
    "\n",
    "matrix zerosmatrix(int m, int n)\n",
    "{\n",
    "    matrix B = creatematrix(m, n);\n",
    "    for (int i = 0; i < m * n; i++)\n",
    "    {\n",
    "        B.arr[i] = 0.0;\n",
    "    }\n",
    "    return B;\n",
    "}\n",
    "\n",
    "matrix zeroslikematrix(matrix A)\n",
    "{\n",
    "    return zerosmatrix(A.m, A.n);\n",
    "}\n",
    "\n",
    "matrix onesmatrix(int m, int n)\n",
    "{\n",
    "    matrix B = creatematrix(m, n);\n",
    "    for (int i = 0; i < m * n; i++)\n",
    "    {\n",
    "        B.arr[i] = 1.0;\n",
    "    }\n",
    "    return B;\n",
    "}\n",
    "\n",
    "matrix oneslikematrix(matrix A)\n",
    "{\n",
    "    return onesmatrix(A.m, A.n);\n",
    "}\n",
    "\n",
    "matrix eyematrix(int m, int n)\n",
    "{\n",
    "    matrix I = zerosmatrix(m, n);\n",
    "    for (int i = 0; i < m; i++)\n",
    "    {\n",
    "        for (int j = 0; j < n; j++)\n",
    "        {\n",
    "            if (i == j)\n",
    "            {\n",
    "                I.arr[i*n + j] = 1.0;\n",
    "            }\n",
    "        }\n",
    "    }\n",
    "    return I;\n",
    "}\n",
    "\n",
    "matrix negmatrix(matrix A)\n",
    "{\n",
    "    int m = A.m;\n",
    "    int n = A.n;\n",
    "    matrix B = creatematrix(m,n);\n",
    "    for (int i = 0; i < m * n; i++)\n",
    "    {\n",
    "        B.arr[i] = -A.arr[i];\n",
    "    }\n",
    "    return B;\n",
    "}\n",
    "\n",
    "matrix addmatrix(matrix A, matrix B)\n",
    "{\n",
    "    int m = A.m;\n",
    "    int n = A.n;\n",
    "    matrix C = creatematrix(m, n);\n",
    "    for (int i = 0; i < m * n; i++)\n",
    "    {\n",
    "        C.arr[i] = A.arr[i] + B.arr[i];\n",
    "    }\n",
    "    return C;\n",
    "}\n",
    "\n",
    "matrix submatrix(matrix A, matrix B)\n",
    "{\n",
    "    int m = A.m;\n",
    "    int n = A.n;\n",
    "    matrix C = creatematrix(m, n);\n",
    "    for (int i = 0; i < m * n; i++)\n",
    "    {\n",
    "        C.arr[i] = A.arr[i] - B.arr[i];\n",
    "    }\n",
    "    return C;\n",
    "}\n",
    "\n",
    "matrix scalmatprod(matrix s, matrix X)\n",
    "{    \n",
    "    int m = X.m;\n",
    "    int n = X.n;\n",
    "    matrix R = creatematrix(m, n);\n",
    "    double alpha = s.arr[0];\n",
    "    for (int i = 0; i < m*n; i++)\n",
    "    {\n",
    "        R.arr[i] = alpha*(X.arr[i]);\n",
    "    }\n",
    "    return R;\n",
    "}\n",
    "\n",
    "matrix innerprod(matrix x, matrix y)\n",
    "{    \n",
    "    int n = x.n;\n",
    "    matrix d = creatematrix(1, 1);\n",
    "    double s = 0.0;\n",
    "    for (int i = 0; i < n; i++)\n",
    "    {\n",
    "        s += (x.arr[i])*(y.arr[i]);\n",
    "    }\n",
    "    d.arr[0] = s;\n",
    "    return d;\n",
    "}\n",
    "\n",
    "matrix outerprod(matrix u, matrix v)\n",
    "{    \n",
    "    int m = u.m;\n",
    "    int n = v.n;\n",
    "    matrix o = creatematrix(m, n);\n",
    "    \n",
    "    for (int i = 0; i < m; i++)\n",
    "    {\n",
    "        for (int j = 0; j < n; j++)\n",
    "        {\n",
    "            o.arr[i*n + j] = u.arr[i]*v.arr[j];\n",
    "        }\n",
    "    }\n",
    "    return o;\n",
    "}\n",
    "\n",
    "matrix matvecprod(matrix A, matrix x)\n",
    "{    \n",
    "    int m = A.m;\n",
    "    int n = A.n;\n",
    "    matrix b = creatematrix(m, 1);\n",
    "    double s = 0.0;\n",
    "    for (int i = 0; i < m; i++)\n",
    "    {\n",
    "        s = 0.0;\n",
    "        for (int j = 0; j < n; j++)\n",
    "        {\n",
    "            s += (A.arr[i*n + j])*(x.arr[j]);\n",
    "        }\n",
    "        b.arr[i] = s;\n",
    "    }\n",
    "    return b;\n",
    "}\n",
    "\n",
    "matrix matmatprod(matrix A, matrix B)\n",
    "{\n",
    "    int i, j, k;\n",
    "    double s = 0.0;\n",
    "    matrix C = zerosmatrix(A.m, B.n);\n",
    "    for (i = 0; i < (A.m); i++)\n",
    "    {\n",
    "        for (k = 0; k < (A.n); k++)\n",
    "        {\n",
    "            for (j = 0; j < (B.n); j++)\n",
    "            {\n",
    "                C.arr[i * (B.n) + j] += (A.arr[i * (A.n) + k]) * (B.arr[j + k * (B.n)]);\n",
    "            }\n",
    "        }\n",
    "    }\n",
    "    return C;\n",
    "}\n",
    "\n",
    "matrix mulmatrix(matrix A, matrix B)\n",
    "{\n",
    "    if (((A.m) == 1) && ((A.n) == 1))\n",
    "    {\n",
    "        return scalmatprod(A,B);\n",
    "    }\n",
    "    \n",
    "    if (((B.m) == 1) && ((B.n) == 1))\n",
    "    {\n",
    "        return scalmatprod(B,A);\n",
    "    }\n",
    "\n",
    "    if (((A.m) == 1) && ((A.n) == (B.m)) && ((B.n) == 1))\n",
    "    {\n",
    "        return innerprod(A,B);\n",
    "    }\n",
    "    \n",
    "    if (((A.n) == 1) && ((B.m) == 1))\n",
    "    {\n",
    "        return outerprod(A,B);\n",
    "    }\n",
    "    \n",
    "    if (((A.n) == (B.m)) && ((B.n) == 1))\n",
    "    {\n",
    "        return matvecprod(A,B);\n",
    "    }\n",
    "    \n",
    "    if ((A.n) == (B.m))\n",
    "    {\n",
    "        return matmatprod(A,B);\n",
    "    }\n",
    "    \n",
    "    return zerosmatrix(1,1);\n",
    "}\n",
    "\n",
    "matrix scalmatdiv(matrix s, matrix A)\n",
    "{\n",
    "    int m = A.m;\n",
    "    int n = A.n;\n",
    "    matrix C = creatematrix(m, n);\n",
    "    double scal = s.arr[0];\n",
    "    for(int i = 0; i < m * n; i++)\n",
    "    {\n",
    "        C.arr[i] = scal/A.arr[i];\n",
    "    }\n",
    "    return C;\n",
    "}\n",
    "\n",
    "matrix matscaldiv(matrix A, matrix s)\n",
    "{\n",
    "    int m = A.m;\n",
    "    int n = A.n;\n",
    "    matrix C = creatematrix(m, n);\n",
    "    double scal = s.arr[0];\n",
    "    for(int i = 0; i < m * n; i++)\n",
    "    {\n",
    "        C.arr[i] = A.arr[i]/scal;\n",
    "    }\n",
    "    return C;\n",
    "}\n",
    "\n",
    "matrix matmatdiv(matrix A, matrix B)\n",
    "{\n",
    "    int m = A.m;\n",
    "    int n = A.n;\n",
    "    matrix C = creatematrix(m, n);\n",
    "    for(int i = 0; i < m * n; i++)\n",
    "    {\n",
    "        C.arr[i] = (A.arr[i])/(B.arr[i]);\n",
    "    }\n",
    "    return C;\n",
    "}\n",
    "\n",
    "matrix divmatrix(matrix A, matrix B)\n",
    "{\n",
    "    if (((A.m) == 1) && ((A.n) == 1))\n",
    "    {\n",
    "        return scalmatdiv(A,B);\n",
    "    }\n",
    "    \n",
    "    if (((B.m) == 1) && ((B.n) == 1))\n",
    "    {\n",
    "        return matscaldiv(A,B);\n",
    "    }\n",
    "    \n",
    "    if (((A.m) == (B.m)) && ((A.n) == (B.n)))\n",
    "    {\n",
    "        return matmatdiv(A,B);\n",
    "    }\n",
    "    \n",
    "    return zerosmatrix(1,1);\n",
    "}\n",
    "\n",
    "matrix transposematrix(matrix A)\n",
    "{\n",
    "    int m = A.m;\n",
    "    int n = A.n;\n",
    "    matrix T = creatematrix(n, m);\n",
    "    for (int i = 0; i < m; i++)\n",
    "    {\n",
    "        for (int j = 0; j < n; j++)\n",
    "        {\n",
    "            T.arr[j * m + i] = A.arr[i * n + j];\n",
    "        }\n",
    "    }\n",
    "    return T;\n",
    "}\n",
    "\n",
    "matrix norm2matrix(matrix A)\n",
    "{    \n",
    "    matrix R = zerosmatrix(1,1);\n",
    "    int m = A.m;\n",
    "    int n = A.n;\n",
    "    double s = 0.0;\n",
    "    for (int i = 0; i < m*n; i++)\n",
    "    {\n",
    "        s += (A.arr[i])*(A.arr[i]);\n",
    "    }\n",
    "    R.arr[0] = sqrtf(s);\n",
    "    return R;\n",
    "}"
   ]
  },
  {
   "cell_type": "code",
   "execution_count": 16,
   "id": "f333bcef",
   "metadata": {},
   "outputs": [],
   "source": [
    "! gcc -c -fpic -O3 matrixlib.c -o matrixlib.o -lm\n",
    "! gcc -shared matrixlib.o -o matrixlib.so"
   ]
  },
  {
   "cell_type": "code",
   "execution_count": 17,
   "id": "fa216270",
   "metadata": {},
   "outputs": [],
   "source": [
    "matrixlib = CDLL('./matrixlib.so')"
   ]
  },
  {
   "cell_type": "code",
   "execution_count": 18,
   "id": "2bfe2e7b",
   "metadata": {},
   "outputs": [],
   "source": [
    "class matrix(Structure):\n",
    "    _fields_ = [\n",
    "        ('m', c_int),\n",
    "        ('n', c_int),\n",
    "        (\"arr\", POINTER(c_double))\n",
    "    ]\n",
    "    \n",
    "    def __init__(self, m, n, name=\"zeros\"):\n",
    "        self.m, self.n = m, n \n",
    "        self.arr = (c_double * (m * n))()\n",
    "        if name == \"random\":\n",
    "            self.arr = randmatrix(m, n).arr\n",
    "        elif name == \"eye\":\n",
    "            self.arr = eyematrix(m, n).arr\n",
    "        elif name == \"ones\":\n",
    "            self.arr = onesmatrix(m, n).arr\n",
    "        else:\n",
    "            self.arr = zerosmatrix(m, n).arr\n",
    "    \n",
    "    # para ver un formato de los datos en la salida\n",
    "    def __repr__(self):\n",
    "        m = self.m\n",
    "        n = self.n\n",
    "        data = self.arr\n",
    "\n",
    "        mat = []\n",
    "        if (n > 5):\n",
    "            for i in range(m):\n",
    "                row = []\n",
    "                for j in range(4):\n",
    "                    row.append(str(data[i*n+j]))\n",
    "                row.append('...')\n",
    "                row.append(str(data[i*n+m-1]))\n",
    "                mat.append(row)\n",
    "            return '\\n'.join(['\\t'.join(str(c) for c in row) for row in mat])\n",
    "        \n",
    "        for i in range(m):\n",
    "            row = []\n",
    "            for j in range(n):\n",
    "                row.append(data[i*n+j])\n",
    "            mat.append(row)\n",
    "        return '\\n'.join(['\\t'.join(str(c) for c in row) for row in mat])\n",
    "    \n",
    "    # para hacer a[i,j] = val o a[ind] = val\n",
    "    def __setitem__(self, index, value):\n",
    "        m = self.m\n",
    "        n = self.n        \n",
    "        if isinstance(index, tuple):\n",
    "            i, j = index\n",
    "            self.arr[i*n + j] = value\n",
    "        else:\n",
    "            self.arr[index] = value\n",
    "\n",
    "    # para ver el valor a[i,j] o a[ind]\n",
    "    def __getitem__(self, args):\n",
    "        m = self.m\n",
    "        n = self.n        \n",
    "        if isinstance(args, tuple):\n",
    "            i, j = args\n",
    "            return self.arr[i*n + j]\n",
    "        return self.arr[args]\n",
    "    \n",
    "    # para saber la cantidad de elementos\n",
    "    def __len__(self):\n",
    "        return self.m * self.n\n",
    "    \n",
    "    # para sumar \n",
    "    def __add__(self,B):\n",
    "        return addmatrix(self,B)\n",
    "\n",
    "    # para restar\n",
    "    def __sub__(self,B):\n",
    "        return submatrix(self,B)\n",
    "    \n",
    "    # para multiplicar\n",
    "    def __mul__(self,B):\n",
    "        return mulmatrix(self,B)\n",
    "    \n",
    "    # para dividir con coma flotante\n",
    "    def __truediv__(self,B):\n",
    "        return divmatrix(self,B)\n",
    "    \n",
    "    # para invetir el signo de los elementos\n",
    "    def __invert__(self):\n",
    "        return negmatrix(self)\n",
    "    \n",
    "    # para saber las dimensiones\n",
    "    def shape(self):\n",
    "        return (self.m, self.n)\n",
    "    \n",
    "    # para calcular la transpuesta\n",
    "    def transpose(self):\n",
    "        return transposematrix(self)"
   ]
  },
  {
   "cell_type": "markdown",
   "id": "5e367657",
   "metadata": {},
   "source": [
    "Las funciones de la librería"
   ]
  },
  {
   "cell_type": "code",
   "execution_count": 19,
   "id": "b4675065",
   "metadata": {},
   "outputs": [],
   "source": [
    "randmatrix = set_function(matrixlib,'randmatrix',[c_int, c_int],matrix)\n",
    "zerosmatrix = set_function(matrixlib,'zerosmatrix',[c_int, c_int],matrix)\n",
    "onesmatrix = set_function(matrixlib,'onesmatrix',[c_int, c_int],matrix)\n",
    "addmatrix = set_function(matrixlib,'addmatrix',[matrix,matrix],matrix)\n",
    "submatrix = set_function(matrixlib,'submatrix',[matrix,matrix],matrix)\n",
    "mulmatrix = set_function(matrixlib,'mulmatrix',[matrix,matrix],matrix)\n",
    "divmatrix = set_function(matrixlib,'divmatrix',[matrix,matrix],matrix)\n",
    "negmatrix = set_function(matrixlib,'negmatrix',[matrix],matrix)\n",
    "copymatrix = set_function(matrixlib,'copymatrix',[matrix],matrix)\n",
    "zeroslikematrix = set_function(matrixlib,'zeroslikematrix',[matrix],matrix)\n",
    "oneslikematrix = set_function(matrixlib,'oneslikematrix',[matrix],matrix)\n",
    "eyematrix = set_function(matrixlib,'eyematrix',[c_int, c_int],matrix)\n",
    "transposematrix = set_function(matrixlib,'transposematrix',[matrix],matrix)\n",
    "norm2matrix = set_function(matrixlib,'norm2matrix',[matrix],matrix)"
   ]
  },
  {
   "cell_type": "markdown",
   "id": "3dad3cc0",
   "metadata": {},
   "source": [
    "## Prueba de la clase y la librería"
   ]
  },
  {
   "cell_type": "markdown",
   "id": "2760d6f4",
   "metadata": {},
   "source": [
    "Una matriz de dos filas y tres columnas cuyos elementos son ceros."
   ]
  },
  {
   "cell_type": "code",
   "execution_count": 20,
   "id": "f5d800f0",
   "metadata": {},
   "outputs": [
    {
     "data": {
      "text/plain": [
       "0.0\t0.0\t0.0\n",
       "0.0\t0.0\t0.0"
      ]
     },
     "execution_count": 20,
     "metadata": {},
     "output_type": "execute_result"
    }
   ],
   "source": [
    "A = matrix(2,3,name=\"zeros\")\n",
    "A"
   ]
  },
  {
   "cell_type": "markdown",
   "id": "e0968397",
   "metadata": {},
   "source": [
    "Una matriz de dos filas y tres columnas cuyos elementos son números aleatorios entre -1 y 1"
   ]
  },
  {
   "cell_type": "code",
   "execution_count": 21,
   "id": "ec275a5d",
   "metadata": {},
   "outputs": [
    {
     "data": {
      "text/plain": [
       "-0.963365078409512\t-0.11508608588968523\t0.5779696421830516\n",
       "0.7167340089935325\t0.9866952167154839\t0.30926539733452424"
      ]
     },
     "execution_count": 21,
     "metadata": {},
     "output_type": "execute_result"
    }
   ],
   "source": [
    "A = matrix(2,3,name=\"random\")\n",
    "A"
   ]
  },
  {
   "cell_type": "markdown",
   "id": "1ced57aa",
   "metadata": {},
   "source": [
    "Una matriz de dos filas y tres columnas cuyos elementos son unos."
   ]
  },
  {
   "cell_type": "code",
   "execution_count": 22,
   "id": "ee4ec464",
   "metadata": {},
   "outputs": [
    {
     "data": {
      "text/plain": [
       "1.0\t1.0\t1.0\n",
       "1.0\t1.0\t1.0"
      ]
     },
     "execution_count": 22,
     "metadata": {},
     "output_type": "execute_result"
    }
   ],
   "source": [
    "A = matrix(2,3,name=\"ones\")\n",
    "A"
   ]
  },
  {
   "cell_type": "markdown",
   "id": "1af0f5c8",
   "metadata": {},
   "source": [
    "Modificación del tercer elemento."
   ]
  },
  {
   "cell_type": "code",
   "execution_count": 23,
   "id": "57191305",
   "metadata": {},
   "outputs": [
    {
     "data": {
      "text/plain": [
       "1.0\t1.0\t1.0\n",
       "4.0\t1.0\t1.0"
      ]
     },
     "execution_count": 23,
     "metadata": {},
     "output_type": "execute_result"
    }
   ],
   "source": [
    "A[3] = 4.0\n",
    "A"
   ]
  },
  {
   "cell_type": "markdown",
   "id": "355b8c1a",
   "metadata": {},
   "source": [
    "Modificación del elemento en la fila 0 y columna 0."
   ]
  },
  {
   "cell_type": "code",
   "execution_count": 24,
   "id": "c81d9825",
   "metadata": {},
   "outputs": [
    {
     "data": {
      "text/plain": [
       "5.0\t1.0\t1.0\n",
       "4.0\t1.0\t1.0"
      ]
     },
     "execution_count": 24,
     "metadata": {},
     "output_type": "execute_result"
    }
   ],
   "source": [
    "A[0,0] = 5.0\n",
    "A"
   ]
  },
  {
   "cell_type": "markdown",
   "id": "6960d626",
   "metadata": {},
   "source": [
    "Leer el elemento de índice 0"
   ]
  },
  {
   "cell_type": "code",
   "execution_count": 25,
   "id": "22033d0d",
   "metadata": {},
   "outputs": [
    {
     "data": {
      "text/plain": [
       "5.0"
      ]
     },
     "execution_count": 25,
     "metadata": {},
     "output_type": "execute_result"
    }
   ],
   "source": [
    "A[0]"
   ]
  },
  {
   "cell_type": "markdown",
   "id": "e2b86fef",
   "metadata": {},
   "source": [
    "Leer el elemento en la fila 0 y columna 1"
   ]
  },
  {
   "cell_type": "code",
   "execution_count": 26,
   "id": "7ffd0356",
   "metadata": {},
   "outputs": [
    {
     "data": {
      "text/plain": [
       "1.0"
      ]
     },
     "execution_count": 26,
     "metadata": {},
     "output_type": "execute_result"
    }
   ],
   "source": [
    "A[0,1]"
   ]
  },
  {
   "cell_type": "markdown",
   "id": "71f971c1",
   "metadata": {},
   "source": [
    "Cantidad de elementos"
   ]
  },
  {
   "cell_type": "code",
   "execution_count": 27,
   "id": "b0ecfe70",
   "metadata": {},
   "outputs": [
    {
     "data": {
      "text/plain": [
       "6"
      ]
     },
     "execution_count": 27,
     "metadata": {},
     "output_type": "execute_result"
    }
   ],
   "source": [
    "len(A)"
   ]
  },
  {
   "cell_type": "code",
   "execution_count": 28,
   "id": "5ab98a86",
   "metadata": {},
   "outputs": [
    {
     "data": {
      "text/plain": [
       "1.0\t1.0\t1.0\n",
       "1.0\t1.0\t1.0"
      ]
     },
     "execution_count": 28,
     "metadata": {},
     "output_type": "execute_result"
    }
   ],
   "source": [
    "B = matrix(2,3,name=\"ones\")\n",
    "B"
   ]
  },
  {
   "cell_type": "markdown",
   "id": "f0bd077c",
   "metadata": {},
   "source": [
    "Filas y columnas de B"
   ]
  },
  {
   "cell_type": "code",
   "execution_count": 29,
   "id": "9e534479",
   "metadata": {},
   "outputs": [
    {
     "data": {
      "text/plain": [
       "(2, 3)"
      ]
     },
     "execution_count": 29,
     "metadata": {},
     "output_type": "execute_result"
    }
   ],
   "source": [
    "B.m, B.n"
   ]
  },
  {
   "cell_type": "code",
   "execution_count": 30,
   "id": "4e6c1dd8",
   "metadata": {},
   "outputs": [
    {
     "data": {
      "text/plain": [
       "(2, 3)"
      ]
     },
     "execution_count": 30,
     "metadata": {},
     "output_type": "execute_result"
    }
   ],
   "source": [
    "B.shape()"
   ]
  },
  {
   "cell_type": "markdown",
   "id": "528d9249",
   "metadata": {},
   "source": [
    "Sumar A y B"
   ]
  },
  {
   "cell_type": "code",
   "execution_count": 31,
   "id": "51d9886d",
   "metadata": {},
   "outputs": [
    {
     "data": {
      "text/plain": [
       "6.0\t2.0\t2.0\n",
       "5.0\t2.0\t2.0"
      ]
     },
     "execution_count": 31,
     "metadata": {},
     "output_type": "execute_result"
    }
   ],
   "source": [
    "C = A + B\n",
    "C"
   ]
  },
  {
   "cell_type": "markdown",
   "id": "5695ed8f",
   "metadata": {},
   "source": [
    "Restar A y B"
   ]
  },
  {
   "cell_type": "code",
   "execution_count": 32,
   "id": "a91946a1",
   "metadata": {},
   "outputs": [
    {
     "data": {
      "text/plain": [
       "4.0\t0.0\t0.0\n",
       "3.0\t0.0\t0.0"
      ]
     },
     "execution_count": 32,
     "metadata": {},
     "output_type": "execute_result"
    }
   ],
   "source": [
    "D = A - B\n",
    "D"
   ]
  },
  {
   "cell_type": "code",
   "execution_count": 33,
   "id": "4f49dc24",
   "metadata": {},
   "outputs": [
    {
     "data": {
      "text/plain": [
       "6.0\t2.0\t2.0\n",
       "5.0\t2.0\t2.0"
      ]
     },
     "execution_count": 33,
     "metadata": {},
     "output_type": "execute_result"
    }
   ],
   "source": [
    "C"
   ]
  },
  {
   "cell_type": "code",
   "execution_count": 34,
   "id": "c8c4dd8e",
   "metadata": {},
   "outputs": [
    {
     "data": {
      "text/plain": [
       "4.0\t0.0\t0.0\n",
       "3.0\t0.0\t0.0"
      ]
     },
     "execution_count": 34,
     "metadata": {},
     "output_type": "execute_result"
    }
   ],
   "source": [
    "D"
   ]
  },
  {
   "cell_type": "markdown",
   "id": "3aaa8ac0",
   "metadata": {},
   "source": [
    "Sumar los resultados parciales"
   ]
  },
  {
   "cell_type": "code",
   "execution_count": 35,
   "id": "7c8f0f5e",
   "metadata": {},
   "outputs": [
    {
     "data": {
      "text/plain": [
       "10.0\t2.0\t2.0\n",
       "8.0\t2.0\t2.0"
      ]
     },
     "execution_count": 35,
     "metadata": {},
     "output_type": "execute_result"
    }
   ],
   "source": [
    "E = C + D\n",
    "E"
   ]
  },
  {
   "cell_type": "code",
   "execution_count": 36,
   "id": "06e965b4",
   "metadata": {},
   "outputs": [
    {
     "data": {
      "text/plain": [
       "1.0\t1.0\n",
       "1.0\t1.0\n",
       "1.0\t1.0"
      ]
     },
     "execution_count": 36,
     "metadata": {},
     "output_type": "execute_result"
    }
   ],
   "source": [
    "B = matrix(3,2,name=\"ones\")\n",
    "B"
   ]
  },
  {
   "cell_type": "markdown",
   "id": "fef2078d",
   "metadata": {},
   "source": [
    "Una matriz de ceros con las mismas dimensiones que B"
   ]
  },
  {
   "cell_type": "code",
   "execution_count": 37,
   "id": "b1f78fd8",
   "metadata": {},
   "outputs": [
    {
     "data": {
      "text/plain": [
       "0.0\t0.0\n",
       "0.0\t0.0\n",
       "0.0\t0.0"
      ]
     },
     "execution_count": 37,
     "metadata": {},
     "output_type": "execute_result"
    }
   ],
   "source": [
    "zeroslikematrix(B)"
   ]
  },
  {
   "cell_type": "markdown",
   "id": "8e9d4265",
   "metadata": {},
   "source": [
    "La transpuesta de B"
   ]
  },
  {
   "cell_type": "code",
   "execution_count": 38,
   "id": "6b486fb3",
   "metadata": {},
   "outputs": [
    {
     "data": {
      "text/plain": [
       "1.0\t1.0\t1.0\n",
       "1.0\t1.0\t1.0"
      ]
     },
     "execution_count": 38,
     "metadata": {},
     "output_type": "execute_result"
    }
   ],
   "source": [
    "B.transpose()"
   ]
  },
  {
   "cell_type": "markdown",
   "id": "ef097981",
   "metadata": {},
   "source": [
    "Una matriz de cero con las mismas dimensiones que la transpuesta de B"
   ]
  },
  {
   "cell_type": "code",
   "execution_count": 39,
   "id": "2fa96c38",
   "metadata": {},
   "outputs": [
    {
     "data": {
      "text/plain": [
       "0.0\t0.0\t0.0\n",
       "0.0\t0.0\t0.0"
      ]
     },
     "execution_count": 39,
     "metadata": {},
     "output_type": "execute_result"
    }
   ],
   "source": [
    "zeroslikematrix(B.transpose())"
   ]
  },
  {
   "cell_type": "markdown",
   "id": "2a95547d",
   "metadata": {},
   "source": [
    "Producto de A y B (matriz por matriz)"
   ]
  },
  {
   "cell_type": "code",
   "execution_count": 40,
   "id": "e1154362",
   "metadata": {},
   "outputs": [
    {
     "data": {
      "text/plain": [
       "7.0\t7.0\n",
       "6.0\t6.0"
      ]
     },
     "execution_count": 40,
     "metadata": {},
     "output_type": "execute_result"
    }
   ],
   "source": [
    "F = A * B\n",
    "F"
   ]
  },
  {
   "cell_type": "markdown",
   "id": "96fba6ad",
   "metadata": {},
   "source": [
    "Llenar B con el mismo elemento"
   ]
  },
  {
   "cell_type": "code",
   "execution_count": 41,
   "id": "883b6968",
   "metadata": {},
   "outputs": [
    {
     "data": {
      "text/plain": [
       "2.0\t2.0\t2.0\n",
       "2.0\t2.0\t2.0"
      ]
     },
     "execution_count": 41,
     "metadata": {},
     "output_type": "execute_result"
    }
   ],
   "source": [
    "B = matrix(2,3)\n",
    "for i in range(2):\n",
    "    for j in range(3):\n",
    "        B[i,j] = 2.0\n",
    "B"
   ]
  },
  {
   "cell_type": "markdown",
   "id": "566b92c4",
   "metadata": {},
   "source": [
    "Dividir A y B elemento a elemento"
   ]
  },
  {
   "cell_type": "code",
   "execution_count": 42,
   "id": "1fea85e0",
   "metadata": {},
   "outputs": [
    {
     "data": {
      "text/plain": [
       "2.5\t0.5\t0.5\n",
       "2.0\t0.5\t0.5"
      ]
     },
     "execution_count": 42,
     "metadata": {},
     "output_type": "execute_result"
    },
    {
     "name": "stdout",
     "output_type": "stream",
     "text": [
      "matriz entre matriz\n"
     ]
    }
   ],
   "source": [
    "C = A / B\n",
    "C"
   ]
  },
  {
   "cell_type": "markdown",
   "id": "2de06923",
   "metadata": {},
   "source": [
    "Invertir el signo de A"
   ]
  },
  {
   "cell_type": "code",
   "execution_count": 43,
   "id": "f8873750",
   "metadata": {},
   "outputs": [
    {
     "data": {
      "text/plain": [
       "-5.0\t-1.0\t-1.0\n",
       "-4.0\t-1.0\t-1.0"
      ]
     },
     "execution_count": 43,
     "metadata": {},
     "output_type": "execute_result"
    }
   ],
   "source": [
    "~A"
   ]
  },
  {
   "cell_type": "markdown",
   "id": "0c138302",
   "metadata": {},
   "source": [
    "Una matriz identidad"
   ]
  },
  {
   "cell_type": "code",
   "execution_count": 44,
   "id": "8ddccf52",
   "metadata": {},
   "outputs": [
    {
     "data": {
      "text/plain": [
       "1.0\t0.0\t0.0\n",
       "0.0\t1.0\t0.0\n",
       "0.0\t0.0\t1.0"
      ]
     },
     "execution_count": 44,
     "metadata": {},
     "output_type": "execute_result"
    }
   ],
   "source": [
    "I = matrix(3,3,\"eye\")\n",
    "I"
   ]
  },
  {
   "cell_type": "code",
   "execution_count": 45,
   "id": "1947900e",
   "metadata": {},
   "outputs": [
    {
     "data": {
      "text/plain": [
       "5.0\t1.0\t1.0\n",
       "4.0\t1.0\t1.0"
      ]
     },
     "execution_count": 45,
     "metadata": {},
     "output_type": "execute_result"
    }
   ],
   "source": [
    "A"
   ]
  },
  {
   "cell_type": "markdown",
   "id": "dd852b38",
   "metadata": {},
   "source": [
    "Una matriz multiplicada por la matriz identidad devuelve la misma matriz."
   ]
  },
  {
   "cell_type": "code",
   "execution_count": 46,
   "id": "0a69a367",
   "metadata": {},
   "outputs": [
    {
     "data": {
      "text/plain": [
       "5.0\t1.0\t1.0\n",
       "4.0\t1.0\t1.0"
      ]
     },
     "execution_count": 46,
     "metadata": {},
     "output_type": "execute_result"
    }
   ],
   "source": [
    "A * I"
   ]
  },
  {
   "cell_type": "code",
   "execution_count": 47,
   "id": "4f56501b",
   "metadata": {},
   "outputs": [
    {
     "data": {
      "text/plain": [
       "1.0\n",
       "0.0\n",
       "0.0"
      ]
     },
     "execution_count": 47,
     "metadata": {},
     "output_type": "execute_result"
    }
   ],
   "source": [
    "I = matrix(3,1,\"eye\")\n",
    "I"
   ]
  },
  {
   "cell_type": "code",
   "execution_count": 48,
   "id": "c9c48634",
   "metadata": {},
   "outputs": [
    {
     "data": {
      "text/plain": [
       "5.0\n",
       "4.0"
      ]
     },
     "execution_count": 48,
     "metadata": {},
     "output_type": "execute_result"
    }
   ],
   "source": [
    "A * I"
   ]
  },
  {
   "cell_type": "markdown",
   "id": "f65fca2d",
   "metadata": {},
   "source": [
    "Matriz fila:"
   ]
  },
  {
   "cell_type": "code",
   "execution_count": 49,
   "id": "130d746d",
   "metadata": {},
   "outputs": [
    {
     "data": {
      "text/plain": [
       "0.983600885228758\t-0.727800972851546\t-0.06579034779638843\t-0.6416964775221091"
      ]
     },
     "execution_count": 49,
     "metadata": {},
     "output_type": "execute_result"
    }
   ],
   "source": [
    "rv = matrix(1,4,\"random\")\n",
    "rv"
   ]
  },
  {
   "cell_type": "markdown",
   "id": "a378a2f8",
   "metadata": {},
   "source": [
    "Matriz columna:"
   ]
  },
  {
   "cell_type": "code",
   "execution_count": 50,
   "id": "854c80b1",
   "metadata": {},
   "outputs": [
    {
     "data": {
      "text/plain": [
       "0.06514321346465243\n",
       "0.9961535682614354\n",
       "0.562496589060558\n",
       "0.9415646214313625"
      ]
     },
     "execution_count": 50,
     "metadata": {},
     "output_type": "execute_result"
    }
   ],
   "source": [
    "cv = matrix(4,1,\"random\")\n",
    "cv"
   ]
  },
  {
   "cell_type": "markdown",
   "id": "ce767da7",
   "metadata": {},
   "source": [
    "Su producto es equivalente al producto interno."
   ]
  },
  {
   "cell_type": "code",
   "execution_count": 51,
   "id": "9719f80e",
   "metadata": {},
   "outputs": [
    {
     "data": {
      "text/plain": [
       "-1.3021321608202534"
      ]
     },
     "execution_count": 51,
     "metadata": {},
     "output_type": "execute_result"
    }
   ],
   "source": [
    "rv * cv"
   ]
  },
  {
   "cell_type": "markdown",
   "id": "9ddc70f8",
   "metadata": {},
   "source": [
    "En el orden contrario sería el producto externo."
   ]
  },
  {
   "cell_type": "code",
   "execution_count": 52,
   "id": "8557ea75",
   "metadata": {},
   "outputs": [
    {
     "data": {
      "text/plain": [
       "0.06407492243047808\t-0.04741129413424997\t-0.004285794670413857\t-0.041802170614738295\n",
       "0.9798175315657339\t-0.7250015360902117\t-0.0655372897145332\t-0.639228235824443\n",
       "0.5532721429381218\t-0.4093855647439504\t-0.037006846228576286\t-0.3609520798183614\n",
       "0.9261237951399686\t-0.6852716474803433\t-0.06194586391674414\t-0.6041987009319435"
      ]
     },
     "execution_count": 52,
     "metadata": {},
     "output_type": "execute_result"
    }
   ],
   "source": [
    "cv * rv"
   ]
  },
  {
   "cell_type": "markdown",
   "id": "3b2913a3",
   "metadata": {},
   "source": [
    "Comparación con Numpy en tiempo de ejecución."
   ]
  },
  {
   "cell_type": "code",
   "execution_count": 53,
   "id": "d8dae4a0",
   "metadata": {},
   "outputs": [],
   "source": [
    "n = 1024\n",
    "A = matrix(n,n,\"random\")\n",
    "B = matrix(n,n,\"random\")"
   ]
  },
  {
   "cell_type": "code",
   "execution_count": 54,
   "id": "a2415973",
   "metadata": {},
   "outputs": [
    {
     "name": "stdout",
     "output_type": "stream",
     "text": [
      "436 ms ± 6.09 ms per loop (mean ± std. dev. of 3 runs, 3 loops each)\n"
     ]
    }
   ],
   "source": [
    "%timeit -r 3 -n 3 C = A * B"
   ]
  },
  {
   "cell_type": "code",
   "execution_count": 55,
   "id": "40164076",
   "metadata": {},
   "outputs": [],
   "source": [
    "a = np.random.rand(n,n)\n",
    "b = np.random.rand(n,n)"
   ]
  },
  {
   "cell_type": "code",
   "execution_count": 56,
   "id": "8f03da23",
   "metadata": {},
   "outputs": [
    {
     "name": "stdout",
     "output_type": "stream",
     "text": [
      "40.1 ms ± 1.09 ms per loop (mean ± std. dev. of 3 runs, 3 loops each)\n"
     ]
    }
   ],
   "source": [
    "%timeit -r 3 -n 3 c = np.dot(a,b)"
   ]
  },
  {
   "cell_type": "markdown",
   "id": "175500e9",
   "metadata": {},
   "source": [
    "Muy lejos de numpy :'v"
   ]
  },
  {
   "cell_type": "markdown",
   "id": "d7ae78e1",
   "metadata": {},
   "source": [
    "## Implementación del método Gradiente Conjugado con la clase"
   ]
  },
  {
   "cell_type": "code",
   "execution_count": 57,
   "id": "222bff76",
   "metadata": {},
   "outputs": [],
   "source": [
    "n = 1024\n",
    "num = matrix(1,1)\n",
    "num[0,0] = float(n)\n",
    "M = matrix(n,n,\"random\")\n",
    "I = matrix(n,n,\"eye\")\n",
    "A = (transposematrix(M)*M)+I\n",
    "s = matrix(n,1,\"random\")\n",
    "b = A*s"
   ]
  },
  {
   "cell_type": "code",
   "execution_count": 58,
   "id": "58671521",
   "metadata": {},
   "outputs": [],
   "source": [
    "def conjgradmeth(A,b,tol):\n",
    "    x = zeroslikematrix(b)\n",
    "    r = b\n",
    "    p = r \n",
    "    ro = transposematrix(r) * r\n",
    "    for i in range(len(b)):\n",
    "        Ap = A*p\n",
    "        alpha = ro / (transposematrix(p) * Ap)\n",
    "        x = x + alpha*p\n",
    "        r = r - alpha*Ap\n",
    "        rn = transposematrix(r) * r\n",
    "        if (rn[0] < tol):\n",
    "            break\n",
    "        p = r + (rn / ro) * p\n",
    "        ro = rn\n",
    "    return x"
   ]
  },
  {
   "cell_type": "code",
   "execution_count": 59,
   "id": "9d0a0e56",
   "metadata": {},
   "outputs": [
    {
     "name": "stdout",
     "output_type": "stream",
     "text": [
      "escalar entre matriz\n",
      "escalar entre matriz\n",
      "escalar entre matriz\n",
      "escalar entre matriz\n",
      "escalar entre matriz\n",
      "escalar entre matriz\n",
      "escalar entre matriz\n",
      "escalar entre matriz\n",
      "escalar entre matriz\n",
      "escalar entre matriz\n",
      "escalar entre matriz\n",
      "escalar entre matriz\n",
      "escalar entre matriz\n",
      "escalar entre matriz\n",
      "escalar entre matriz\n",
      "escalar entre matriz\n",
      "escalar entre matriz\n",
      "escalar entre matriz\n",
      "escalar entre matriz\n",
      "escalar entre matriz\n",
      "escalar entre matriz\n",
      "escalar entre matriz\n",
      "escalar entre matriz\n",
      "escalar entre matriz\n",
      "escalar entre matriz\n",
      "escalar entre matriz\n",
      "escalar entre matriz\n",
      "escalar entre matriz\n",
      "escalar entre matriz\n",
      "escalar entre matriz\n",
      "escalar entre matriz\n",
      "escalar entre matriz\n",
      "escalar entre matriz\n",
      "escalar entre matriz\n",
      "escalar entre matriz\n",
      "escalar entre matriz\n",
      "escalar entre matriz\n",
      "escalar entre matriz\n",
      "escalar entre matriz\n",
      "escalar entre matriz\n",
      "escalar entre matriz\n",
      "escalar entre matriz\n",
      "escalar entre matriz\n",
      "escalar entre matriz\n",
      "escalar entre matriz\n",
      "escalar entre matriz\n",
      "escalar entre matriz\n",
      "escalar entre matriz\n",
      "escalar entre matriz\n",
      "escalar entre matriz\n",
      "escalar entre matriz\n",
      "escalar entre matriz\n",
      "escalar entre matriz\n",
      "escalar entre matriz\n",
      "escalar entre matriz\n",
      "escalar entre matriz\n",
      "escalar entre matriz\n",
      "escalar entre matriz\n",
      "escalar entre matriz\n",
      "escalar entre matriz\n",
      "escalar entre matriz\n",
      "escalar entre matriz\n",
      "escalar entre matriz\n",
      "escalar entre matriz\n",
      "escalar entre matriz\n",
      "escalar entre matriz\n",
      "escalar entre matriz\n",
      "escalar entre matriz\n",
      "escalar entre matriz\n",
      "escalar entre matriz\n",
      "escalar entre matriz\n",
      "escalar entre matriz\n",
      "escalar entre matriz\n",
      "escalar entre matriz\n",
      "escalar entre matriz\n",
      "escalar entre matriz\n",
      "escalar entre matriz\n",
      "escalar entre matriz\n",
      "escalar entre matriz\n",
      "escalar entre matriz\n",
      "escalar entre matriz\n",
      "escalar entre matriz\n",
      "escalar entre matriz\n",
      "escalar entre matriz\n",
      "escalar entre matriz\n",
      "escalar entre matriz\n",
      "escalar entre matriz\n",
      "escalar entre matriz\n",
      "escalar entre matriz\n",
      "escalar entre matriz\n",
      "escalar entre matriz\n",
      "escalar entre matriz\n",
      "escalar entre matriz\n",
      "escalar entre matriz\n",
      "escalar entre matriz\n",
      "escalar entre matriz\n",
      "escalar entre matriz\n",
      "escalar entre matriz\n",
      "escalar entre matriz\n",
      "escalar entre matriz\n",
      "escalar entre matriz\n",
      "escalar entre matriz\n",
      "escalar entre matriz\n",
      "escalar entre matriz\n",
      "escalar entre matriz\n",
      "escalar entre matriz\n",
      "escalar entre matriz\n",
      "escalar entre matriz\n",
      "escalar entre matriz\n",
      "escalar entre matriz\n",
      "escalar entre matriz\n",
      "escalar entre matriz\n",
      "escalar entre matriz\n",
      "escalar entre matriz\n",
      "escalar entre matriz\n",
      "escalar entre matriz\n",
      "escalar entre matriz\n",
      "escalar entre matriz\n",
      "escalar entre matriz\n",
      "escalar entre matriz\n",
      "escalar entre matriz\n",
      "escalar entre matriz\n",
      "escalar entre matriz\n",
      "escalar entre matriz\n",
      "escalar entre matriz\n",
      "escalar entre matriz\n",
      "escalar entre matriz\n",
      "escalar entre matriz\n",
      "escalar entre matriz\n",
      "escalar entre matriz\n",
      "escalar entre matriz\n",
      "escalar entre matriz\n",
      "escalar entre matriz\n",
      "escalar entre matriz\n",
      "escalar entre matriz\n",
      "escalar entre matriz\n",
      "escalar entre matriz\n",
      "escalar entre matriz\n",
      "escalar entre matriz\n",
      "escalar entre matriz\n",
      "escalar entre matriz\n",
      "escalar entre matriz\n",
      "escalar entre matriz\n",
      "escalar entre matriz\n",
      "escalar entre matriz\n",
      "escalar entre matriz\n",
      "escalar entre matriz\n",
      "escalar entre matriz\n",
      "escalar entre matriz\n",
      "escalar entre matriz\n",
      "escalar entre matriz\n",
      "escalar entre matriz\n",
      "escalar entre matriz\n",
      "escalar entre matriz\n",
      "escalar entre matriz\n",
      "escalar entre matriz\n",
      "escalar entre matriz\n",
      "escalar entre matriz\n",
      "escalar entre matriz\n",
      "escalar entre matriz\n",
      "escalar entre matriz\n",
      "escalar entre matriz\n",
      "escalar entre matriz\n",
      "escalar entre matriz\n",
      "escalar entre matriz\n",
      "escalar entre matriz\n",
      "escalar entre matriz\n",
      "escalar entre matriz\n",
      "escalar entre matriz\n",
      "escalar entre matriz\n",
      "escalar entre matriz\n",
      "escalar entre matriz\n",
      "escalar entre matriz\n",
      "escalar entre matriz\n",
      "escalar entre matriz\n",
      "escalar entre matriz\n",
      "escalar entre matriz\n",
      "escalar entre matriz\n",
      "escalar entre matriz\n",
      "escalar entre matriz\n",
      "escalar entre matriz\n",
      "escalar entre matriz\n",
      "escalar entre matriz\n",
      "escalar entre matriz\n",
      "escalar entre matriz\n",
      "escalar entre matriz\n",
      "escalar entre matriz\n",
      "escalar entre matriz\n",
      "escalar entre matriz\n",
      "escalar entre matriz\n",
      "escalar entre matriz\n",
      "escalar entre matriz\n",
      "escalar entre matriz\n",
      "escalar entre matriz\n",
      "escalar entre matriz\n",
      "escalar entre matriz\n",
      "escalar entre matriz\n",
      "escalar entre matriz\n",
      "escalar entre matriz\n",
      "escalar entre matriz\n",
      "escalar entre matriz\n",
      "escalar entre matriz\n",
      "escalar entre matriz\n",
      "escalar entre matriz\n",
      "escalar entre matriz\n",
      "escalar entre matriz\n",
      "escalar entre matriz\n",
      "escalar entre matriz\n",
      "escalar entre matriz\n",
      "escalar entre matriz\n",
      "escalar entre matriz\n",
      "escalar entre matriz\n",
      "escalar entre matriz\n",
      "escalar entre matriz\n",
      "escalar entre matriz\n",
      "escalar entre matriz\n",
      "escalar entre matriz\n",
      "escalar entre matriz\n",
      "escalar entre matriz\n",
      "escalar entre matriz\n",
      "escalar entre matriz\n",
      "escalar entre matriz\n",
      "escalar entre matriz\n",
      "escalar entre matriz\n",
      "escalar entre matriz\n",
      "escalar entre matriz\n",
      "escalar entre matriz\n",
      "escalar entre matriz\n",
      "escalar entre matriz\n",
      "escalar entre matriz\n",
      "escalar entre matriz\n",
      "escalar entre matriz\n",
      "escalar entre matriz\n",
      "escalar entre matriz\n",
      "escalar entre matriz\n",
      "escalar entre matriz\n",
      "escalar entre matriz\n",
      "escalar entre matriz\n",
      "escalar entre matriz\n",
      "escalar entre matriz\n",
      "escalar entre matriz\n",
      "escalar entre matriz\n",
      "escalar entre matriz\n",
      "escalar entre matriz\n",
      "escalar entre matriz\n",
      "escalar entre matriz\n",
      "escalar entre matriz\n",
      "escalar entre matriz\n",
      "escalar entre matriz\n",
      "escalar entre matriz\n",
      "escalar entre matriz\n",
      "escalar entre matriz\n",
      "escalar entre matriz\n",
      "escalar entre matriz\n",
      "escalar entre matriz\n",
      "escalar entre matriz\n",
      "escalar entre matriz\n",
      "escalar entre matriz\n",
      "escalar entre matriz\n",
      "escalar entre matriz\n",
      "escalar entre matriz\n",
      "escalar entre matriz\n",
      "escalar entre matriz\n",
      "escalar entre matriz\n",
      "escalar entre matriz\n",
      "escalar entre matriz\n",
      "escalar entre matriz\n",
      "escalar entre matriz\n",
      "escalar entre matriz\n",
      "escalar entre matriz\n",
      "escalar entre matriz\n",
      "escalar entre matriz\n",
      "escalar entre matriz\n",
      "escalar entre matriz\n",
      "escalar entre matriz\n",
      "escalar entre matriz\n",
      "escalar entre matriz\n",
      "escalar entre matriz\n",
      "escalar entre matriz\n",
      "escalar entre matriz\n",
      "escalar entre matriz\n",
      "escalar entre matriz\n",
      "escalar entre matriz\n",
      "escalar entre matriz\n",
      "escalar entre matriz\n",
      "escalar entre matriz\n",
      "escalar entre matriz\n",
      "escalar entre matriz\n",
      "escalar entre matriz\n",
      "escalar entre matriz\n",
      "escalar entre matriz\n",
      "escalar entre matriz\n",
      "escalar entre matriz\n",
      "escalar entre matriz\n",
      "escalar entre matriz\n",
      "escalar entre matriz\n",
      "escalar entre matriz\n",
      "escalar entre matriz\n",
      "escalar entre matriz\n",
      "escalar entre matriz\n",
      "escalar entre matriz\n",
      "escalar entre matriz\n",
      "escalar entre matriz\n",
      "escalar entre matriz\n",
      "escalar entre matriz\n",
      "escalar entre matriz\n",
      "escalar entre matriz\n",
      "escalar entre matriz\n",
      "escalar entre matriz\n",
      "escalar entre matriz\n",
      "escalar entre matriz\n",
      "escalar entre matriz\n",
      "escalar entre matriz\n",
      "escalar entre matriz\n",
      "escalar entre matriz\n",
      "escalar entre matriz\n",
      "escalar entre matriz\n",
      "escalar entre matriz\n",
      "escalar entre matriz\n",
      "escalar entre matriz\n",
      "escalar entre matriz\n",
      "escalar entre matriz\n",
      "escalar entre matriz\n",
      "escalar entre matriz\n",
      "escalar entre matriz\n",
      "escalar entre matriz\n",
      "escalar entre matriz\n",
      "escalar entre matriz\n",
      "escalar entre matriz\n",
      "escalar entre matriz\n",
      "escalar entre matriz\n",
      "escalar entre matriz\n",
      "escalar entre matriz\n",
      "escalar entre matriz\n",
      "escalar entre matriz\n",
      "escalar entre matriz\n",
      "escalar entre matriz\n",
      "escalar entre matriz\n",
      "escalar entre matriz\n",
      "escalar entre matriz\n",
      "escalar entre matriz\n",
      "escalar entre matriz\n",
      "escalar entre matriz\n",
      "escalar entre matriz\n",
      "escalar entre matriz\n",
      "escalar entre matriz\n",
      "escalar entre matriz\n",
      "escalar entre matriz\n",
      "escalar entre matriz\n",
      "escalar entre matriz\n",
      "escalar entre matriz\n",
      "escalar entre matriz\n",
      "escalar entre matriz\n",
      "escalar entre matriz\n",
      "escalar entre matriz\n",
      "escalar entre matriz\n",
      "escalar entre matriz\n",
      "escalar entre matriz\n",
      "escalar entre matriz\n",
      "escalar entre matriz\n",
      "escalar entre matriz\n",
      "escalar entre matriz\n",
      "escalar entre matriz\n",
      "escalar entre matriz\n",
      "escalar entre matriz\n",
      "escalar entre matriz\n",
      "escalar entre matriz\n",
      "escalar entre matriz\n",
      "escalar entre matriz\n",
      "escalar entre matriz\n",
      "escalar entre matriz\n",
      "escalar entre matriz\n",
      "escalar entre matriz\n",
      "escalar entre matriz\n",
      "escalar entre matriz\n",
      "escalar entre matriz\n",
      "escalar entre matriz\n",
      "escalar entre matriz\n",
      "escalar entre matriz\n",
      "escalar entre matriz\n",
      "escalar entre matriz\n",
      "escalar entre matriz\n",
      "escalar entre matriz\n",
      "escalar entre matriz\n",
      "escalar entre matriz\n",
      "escalar entre matriz\n",
      "escalar entre matriz\n",
      "escalar entre matriz\n",
      "escalar entre matriz\n",
      "escalar entre matriz\n",
      "escalar entre matriz\n",
      "escalar entre matriz\n",
      "escalar entre matriz\n",
      "escalar entre matriz\n",
      "escalar entre matriz\n",
      "escalar entre matriz\n",
      "escalar entre matriz\n",
      "escalar entre matriz\n",
      "escalar entre matriz\n",
      "escalar entre matriz\n",
      "escalar entre matriz\n",
      "escalar entre matriz\n",
      "escalar entre matriz\n",
      "escalar entre matriz\n",
      "escalar entre matriz\n",
      "escalar entre matriz\n",
      "escalar entre matriz\n",
      "escalar entre matriz\n",
      "escalar entre matriz\n",
      "escalar entre matriz\n",
      "escalar entre matriz\n",
      "escalar entre matriz\n",
      "escalar entre matriz\n",
      "escalar entre matriz\n",
      "escalar entre matriz\n",
      "escalar entre matriz\n",
      "escalar entre matriz\n",
      "escalar entre matriz\n",
      "escalar entre matriz\n",
      "escalar entre matriz\n",
      "escalar entre matriz\n",
      "escalar entre matriz\n",
      "escalar entre matriz\n",
      "escalar entre matriz\n",
      "escalar entre matriz\n",
      "escalar entre matriz\n",
      "escalar entre matriz\n",
      "escalar entre matriz\n",
      "escalar entre matriz\n",
      "escalar entre matriz\n",
      "escalar entre matriz\n",
      "escalar entre matriz\n",
      "escalar entre matriz\n",
      "escalar entre matriz\n",
      "escalar entre matriz\n",
      "escalar entre matriz\n",
      "escalar entre matriz\n",
      "escalar entre matriz\n",
      "escalar entre matriz\n",
      "escalar entre matriz\n",
      "escalar entre matriz\n",
      "escalar entre matriz\n",
      "escalar entre matriz\n",
      "escalar entre matriz\n",
      "escalar entre matriz\n",
      "escalar entre matriz\n",
      "escalar entre matriz\n",
      "escalar entre matriz\n",
      "escalar entre matriz\n",
      "escalar entre matriz\n",
      "escalar entre matriz\n",
      "escalar entre matriz\n",
      "escalar entre matriz\n",
      "escalar entre matriz\n",
      "escalar entre matriz\n",
      "escalar entre matriz\n",
      "escalar entre matriz\n",
      "escalar entre matriz\n",
      "escalar entre matriz\n",
      "escalar entre matriz\n",
      "escalar entre matriz\n",
      "escalar entre matriz\n",
      "escalar entre matriz\n",
      "escalar entre matriz\n",
      "escalar entre matriz\n",
      "escalar entre matriz\n",
      "escalar entre matriz\n",
      "escalar entre matriz\n",
      "escalar entre matriz\n",
      "escalar entre matriz\n",
      "escalar entre matriz\n",
      "escalar entre matriz\n",
      "escalar entre matriz\n",
      "escalar entre matriz\n",
      "escalar entre matriz\n",
      "escalar entre matriz\n",
      "escalar entre matriz\n",
      "escalar entre matriz\n",
      "escalar entre matriz\n",
      "escalar entre matriz\n",
      "escalar entre matriz\n",
      "escalar entre matriz\n",
      "escalar entre matriz\n",
      "escalar entre matriz\n",
      "escalar entre matriz\n",
      "escalar entre matriz\n",
      "escalar entre matriz\n",
      "escalar entre matriz\n",
      "escalar entre matriz\n",
      "escalar entre matriz\n",
      "escalar entre matriz\n",
      "escalar entre matriz\n",
      "escalar entre matriz\n",
      "escalar entre matriz\n",
      "escalar entre matriz\n",
      "escalar entre matriz\n",
      "escalar entre matriz\n",
      "escalar entre matriz\n",
      "escalar entre matriz\n",
      "escalar entre matriz\n"
     ]
    },
    {
     "name": "stdout",
     "output_type": "stream",
     "text": [
      "escalar entre matriz\n",
      "escalar entre matriz\n",
      "escalar entre matriz\n",
      "escalar entre matriz\n",
      "escalar entre matriz\n",
      "escalar entre matriz\n",
      "escalar entre matriz\n",
      "escalar entre matriz\n",
      "escalar entre matriz\n",
      "escalar entre matriz\n",
      "escalar entre matriz\n",
      "escalar entre matriz\n",
      "escalar entre matriz\n",
      "escalar entre matriz\n",
      "escalar entre matriz\n",
      "escalar entre matriz\n",
      "escalar entre matriz\n",
      "escalar entre matriz\n",
      "escalar entre matriz\n",
      "escalar entre matriz\n",
      "escalar entre matriz\n",
      "escalar entre matriz\n",
      "escalar entre matriz\n",
      "escalar entre matriz\n",
      "escalar entre matriz\n",
      "escalar entre matriz\n",
      "escalar entre matriz\n",
      "escalar entre matriz\n",
      "escalar entre matriz\n",
      "escalar entre matriz\n",
      "escalar entre matriz\n",
      "escalar entre matriz\n",
      "escalar entre matriz\n",
      "escalar entre matriz\n",
      "escalar entre matriz\n",
      "escalar entre matriz\n",
      "escalar entre matriz\n",
      "escalar entre matriz\n",
      "escalar entre matriz\n",
      "escalar entre matriz\n",
      "escalar entre matriz\n",
      "escalar entre matriz\n",
      "escalar entre matriz\n",
      "escalar entre matriz\n",
      "escalar entre matriz\n",
      "escalar entre matriz\n",
      "escalar entre matriz\n",
      "escalar entre matriz\n",
      "escalar entre matriz\n",
      "escalar entre matriz\n",
      "escalar entre matriz\n",
      "escalar entre matriz\n",
      "escalar entre matriz\n",
      "escalar entre matriz\n",
      "escalar entre matriz\n",
      "escalar entre matriz\n",
      "escalar entre matriz\n",
      "escalar entre matriz\n"
     ]
    },
    {
     "data": {
      "text/plain": [
       "3.7115460145287216e-05"
      ]
     },
     "execution_count": 59,
     "metadata": {},
     "output_type": "execute_result"
    },
    {
     "name": "stdout",
     "output_type": "stream",
     "text": [
      "escalar entre matriz\n"
     ]
    }
   ],
   "source": [
    "norm2matrix(conjgradmeth(A,b,1e-7)-s)"
   ]
  },
  {
   "cell_type": "code",
   "execution_count": 60,
   "id": "c260f8e3",
   "metadata": {},
   "outputs": [],
   "source": [
    "! rm matrixlib.c\n",
    "! rm matrixlib.o\n",
    "! rm matrixlib.so"
   ]
  }
 ],
 "metadata": {
  "kernelspec": {
   "display_name": "Python 3 (ipykernel)",
   "language": "python",
   "name": "python3"
  },
  "language_info": {
   "codemirror_mode": {
    "name": "ipython",
    "version": 3
   },
   "file_extension": ".py",
   "mimetype": "text/x-python",
   "name": "python",
   "nbconvert_exporter": "python",
   "pygments_lexer": "ipython3",
   "version": "3.8.10"
  }
 },
 "nbformat": 4,
 "nbformat_minor": 5
}
