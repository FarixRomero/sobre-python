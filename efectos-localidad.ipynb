{
 "cells": [
  {
   "cell_type": "markdown",
   "id": "e5ce328e",
   "metadata": {},
   "source": [
    "# Efectos de localidad espacial"
   ]
  },
  {
   "cell_type": "markdown",
   "id": "bf08cc22",
   "metadata": {},
   "source": [
    "El propósito de estos apuntes es mostrar como el orden en que los elementos de un arreglo están distribuidos en la memoria, y la forma en como son leídos afectan al tiempo de ejecución de una función. En particular, el estudio estará centrado en la operación del producto Matriz-Vector."
   ]
  },
  {
   "cell_type": "markdown",
   "id": "19df4357",
   "metadata": {},
   "source": [
    "## Dependencias"
   ]
  },
  {
   "cell_type": "code",
   "execution_count": 1,
   "id": "f29f751c",
   "metadata": {},
   "outputs": [],
   "source": [
    "import numpy as np\n",
    "import ctypes\n",
    "import time\n",
    "import statistics\n",
    "from utilities import filtro_mediana\n",
    "import matplotlib.pyplot as plt"
   ]
  },
  {
   "cell_type": "markdown",
   "id": "9d0792b0",
   "metadata": {},
   "source": [
    "## Row-Major Row-View"
   ]
  },
  {
   "cell_type": "markdown",
   "id": "a2026b99",
   "metadata": {},
   "source": [
    "En este caso los elementos de la matriz han sido escritos en memoria, fila por fila, y serán leídos también fila por fila."
   ]
  },
  {
   "cell_type": "code",
   "execution_count": 2,
   "id": "d201f4d6",
   "metadata": {},
   "outputs": [
    {
     "name": "stdout",
     "output_type": "stream",
     "text": [
      "Writing matvecRMRV.c\n"
     ]
    }
   ],
   "source": [
    "%%file matvecRMRV.c\n",
    "void matvecRMRV(double *A, double *x, double *b, int N)\n",
    "{\n",
    "    float tmp = 0.0;\n",
    "    for(int i = 0; i < N; i++)\n",
    "    {\n",
    "        tmp = 0.0;\n",
    "        for(int j = 0; j < N; j++)\n",
    "        {\n",
    "            tmp += A[i*N + j]*x[j];\n",
    "        }\n",
    "        b[i] = tmp;\n",
    "    }\n",
    "}"
   ]
  },
  {
   "cell_type": "code",
   "execution_count": 3,
   "id": "559c056b",
   "metadata": {},
   "outputs": [],
   "source": [
    "! gcc -c -fpic matvecRMRV.c -o matvecRMRV.o\n",
    "! gcc -shared matvecRMRV.o -o matvecRMRV.so"
   ]
  },
  {
   "cell_type": "code",
   "execution_count": 4,
   "id": "7fcb36d9",
   "metadata": {},
   "outputs": [],
   "source": [
    "def ctypes_matvecRMRV():\n",
    "    # ruta de la shared library\n",
    "    lib = ctypes.CDLL('./matvecRMRV.so')\n",
    "    \n",
    "    # tipo de los argumentos\n",
    "    lib.matvecRMRV.argtypes = [\n",
    "        np.ctypeslib.ndpointer(dtype=np.float64),\n",
    "        np.ctypeslib.ndpointer(dtype=np.float64),\n",
    "        np.ctypeslib.ndpointer(dtype=np.float64),\n",
    "        ctypes.c_int\n",
    "    ]\n",
    "    \n",
    "    # se devuelve la función configurada\n",
    "    return lib.matvecRMRV"
   ]
  },
  {
   "cell_type": "code",
   "execution_count": 5,
   "id": "68d16f9d",
   "metadata": {},
   "outputs": [],
   "source": [
    "matvecRMRV = ctypes_matvecRMRV()"
   ]
  },
  {
   "cell_type": "code",
   "execution_count": 6,
   "id": "3bec8eca",
   "metadata": {},
   "outputs": [
    {
     "data": {
      "text/plain": [
       "5.895550907467221e-07"
      ]
     },
     "execution_count": 6,
     "metadata": {},
     "output_type": "execute_result"
    }
   ],
   "source": [
    "n = 2048\n",
    "A = np.random.rand(n,n)\n",
    "Y = A.flatten()\n",
    "x = np.random.rand(n,1)\n",
    "bref = np.dot(A,x)\n",
    "bRMRV = np.zeros_like(x)\n",
    "matvecRMRV(Y,x,bRMRV,n)\n",
    "np.linalg.norm(bref-bRMRV)/np.linalg.norm(bref)"
   ]
  },
  {
   "cell_type": "markdown",
   "id": "5e610400",
   "metadata": {},
   "source": [
    "## Row-Major Column-View"
   ]
  },
  {
   "cell_type": "markdown",
   "id": "98e29726",
   "metadata": {},
   "source": [
    "En este caso los elementos de la matriz han sido escritos en memoria, fila por fila, y serán leídos columna por columna."
   ]
  },
  {
   "cell_type": "code",
   "execution_count": 7,
   "id": "636fd438",
   "metadata": {},
   "outputs": [
    {
     "name": "stdout",
     "output_type": "stream",
     "text": [
      "Writing matvecRMCV.c\n"
     ]
    }
   ],
   "source": [
    "%%file matvecRMCV.c\n",
    "void matvecRMCV(double *A, double *x, double *b, int N)\n",
    "{\n",
    "    float tmp = 0.0;\n",
    "    for(int j = 0; j < N; j++)\n",
    "    {\n",
    "        for(int i = 0; i < N; i++)\n",
    "        {\n",
    "            b[i] += A[i*N + j]*x[j];\n",
    "        }\n",
    "    }\n",
    "}"
   ]
  },
  {
   "cell_type": "code",
   "execution_count": 8,
   "id": "6573ada3",
   "metadata": {},
   "outputs": [],
   "source": [
    "! gcc -c -fpic matvecRMCV.c -o matvecRMCV.o\n",
    "! gcc -shared matvecRMCV.o -o matvecRMCV.so"
   ]
  },
  {
   "cell_type": "code",
   "execution_count": 9,
   "id": "d78b9227",
   "metadata": {},
   "outputs": [],
   "source": [
    "def ctypes_matvecRMCV():\n",
    "    # ruta de la shared library\n",
    "    lib = ctypes.CDLL('./matvecRMCV.so')\n",
    "    \n",
    "    # tipo de los argumentos\n",
    "    lib.matvecRMCV.argtypes = [\n",
    "        np.ctypeslib.ndpointer(dtype=np.float64),\n",
    "        np.ctypeslib.ndpointer(dtype=np.float64),\n",
    "        np.ctypeslib.ndpointer(dtype=np.float64),\n",
    "        ctypes.c_int\n",
    "    ]\n",
    "    \n",
    "    # se devuelve la función configurada\n",
    "    return lib.matvecRMCV"
   ]
  },
  {
   "cell_type": "code",
   "execution_count": 10,
   "id": "1b23e268",
   "metadata": {},
   "outputs": [],
   "source": [
    "matvecRMCV = ctypes_matvecRMCV()"
   ]
  },
  {
   "cell_type": "code",
   "execution_count": 11,
   "id": "b36ec3d1",
   "metadata": {},
   "outputs": [
    {
     "data": {
      "text/plain": [
       "1.3750948544271998e-15"
      ]
     },
     "execution_count": 11,
     "metadata": {},
     "output_type": "execute_result"
    }
   ],
   "source": [
    "n = 2048\n",
    "A = np.random.rand(n,n)\n",
    "Y = A.flatten()\n",
    "x = np.random.rand(n,1)\n",
    "bref = np.dot(A,x)\n",
    "# zeros_like te da un arreglo con las mismas dimensiones que el argumento, pero lleno de zeros\n",
    "bRMCV = np.zeros_like(bref)\n",
    "matvecRMCV(Y,x,bRMCV,n)\n",
    "# error relativo\n",
    "np.linalg.norm(bref-bRMCV)/np.linalg.norm(bref)"
   ]
  },
  {
   "cell_type": "markdown",
   "id": "66ea674e",
   "metadata": {},
   "source": [
    "## Column-Major Row-View"
   ]
  },
  {
   "cell_type": "markdown",
   "id": "819c5940",
   "metadata": {},
   "source": [
    "En este caso los elementos de la matriz han sido escritos en memoria columna por columna, y serán leídos fila por fila."
   ]
  },
  {
   "cell_type": "code",
   "execution_count": 12,
   "id": "ce88fdba",
   "metadata": {},
   "outputs": [
    {
     "name": "stdout",
     "output_type": "stream",
     "text": [
      "Writing matvecCMRV.c\n"
     ]
    }
   ],
   "source": [
    "%%file matvecCMRV.c\n",
    "void matvecCMRV(double *A, double *x, double *b, int N)\n",
    "{\n",
    "    float tmp = 0.0;\n",
    "    for(int i = 0; i < N; i++)\n",
    "    {\n",
    "        tmp = 0.0;\n",
    "        for(int j = 0; j < N; j++)\n",
    "        {\n",
    "            tmp += A[i + j*N]*x[j];\n",
    "        }\n",
    "        b[i] = tmp;\n",
    "    }\n",
    "}"
   ]
  },
  {
   "cell_type": "code",
   "execution_count": 13,
   "id": "dc110d2e",
   "metadata": {},
   "outputs": [],
   "source": [
    "! gcc -c -fpic matvecCMRV.c -o matvecCMRV.o\n",
    "! gcc -shared matvecCMRV.o -o matvecCMRV.so"
   ]
  },
  {
   "cell_type": "code",
   "execution_count": 14,
   "id": "e1add642",
   "metadata": {},
   "outputs": [],
   "source": [
    "def ctypes_matvecCMRV():\n",
    "    # ruta de la shared library\n",
    "    lib = ctypes.CDLL('./matvecCMRV.so')\n",
    "    \n",
    "    # tipo de los argumentos\n",
    "    lib.matvecCMRV.argtypes = [\n",
    "        np.ctypeslib.ndpointer(dtype=np.float64),\n",
    "        np.ctypeslib.ndpointer(dtype=np.float64),\n",
    "        np.ctypeslib.ndpointer(dtype=np.float64),\n",
    "        ctypes.c_int\n",
    "    ]\n",
    "    \n",
    "    # se devuelve la función configurada\n",
    "    return lib.matvecCMRV"
   ]
  },
  {
   "cell_type": "code",
   "execution_count": 15,
   "id": "d8458d6d",
   "metadata": {},
   "outputs": [],
   "source": [
    "matvecCMRV = ctypes_matvecCMRV()"
   ]
  },
  {
   "cell_type": "code",
   "execution_count": 16,
   "id": "d0ab5399",
   "metadata": {},
   "outputs": [
    {
     "data": {
      "text/plain": [
       "6.026351015950483e-07"
      ]
     },
     "execution_count": 16,
     "metadata": {},
     "output_type": "execute_result"
    }
   ],
   "source": [
    "n = 2048\n",
    "A = np.random.rand(n,n)\n",
    "Y = np.transpose(A).flatten()\n",
    "x = np.random.rand(n,1)\n",
    "bref = np.dot(A,x)\n",
    "# zeros_like te da un arreglo con las mismas dimensiones que el argumento, pero lleno de zeros\n",
    "bCMRV = np.zeros_like(bref)\n",
    "matvecCMRV(Y,x,bCMRV,n)\n",
    "# error relativo\n",
    "np.linalg.norm(bref-bCMRV)/np.linalg.norm(bref)"
   ]
  },
  {
   "cell_type": "markdown",
   "id": "4ee1c700",
   "metadata": {},
   "source": [
    "## Column-Major Column-View"
   ]
  },
  {
   "cell_type": "markdown",
   "id": "e2a7ef39",
   "metadata": {},
   "source": [
    "En este caso los elementos de la matriz han sido escritos en memoria columna por columna, y serán leídos también columna por columna."
   ]
  },
  {
   "cell_type": "code",
   "execution_count": 17,
   "id": "24f49af8",
   "metadata": {},
   "outputs": [
    {
     "name": "stdout",
     "output_type": "stream",
     "text": [
      "Writing matvecCMCV.c\n"
     ]
    }
   ],
   "source": [
    "%%file matvecCMCV.c\n",
    "void matvecCMCV(double *A, double *x, double *b, int N)\n",
    "{\n",
    "    for(int j = 0; j < N; j++)\n",
    "    {\n",
    "        for(int i = 0; i < N; i++)\n",
    "        {\n",
    "            b[i] += A[i + j*N]*x[j];\n",
    "        }\n",
    "    }\n",
    "}"
   ]
  },
  {
   "cell_type": "code",
   "execution_count": 18,
   "id": "219a64c1",
   "metadata": {},
   "outputs": [],
   "source": [
    "! gcc -c -fpic matvecCMCV.c -o matvecCMCV.o\n",
    "! gcc -shared matvecCMCV.o -o matvecCMCV.so"
   ]
  },
  {
   "cell_type": "code",
   "execution_count": 19,
   "id": "d89632a0",
   "metadata": {},
   "outputs": [],
   "source": [
    "def ctypes_matvecCMCV():\n",
    "    # ruta de la shared library\n",
    "    lib = ctypes.CDLL('./matvecCMCV.so')\n",
    "    \n",
    "    # tipo de los argumentos\n",
    "    lib.matvecCMCV.argtypes = [\n",
    "        np.ctypeslib.ndpointer(dtype=np.float64),\n",
    "        np.ctypeslib.ndpointer(dtype=np.float64),\n",
    "        np.ctypeslib.ndpointer(dtype=np.float64),\n",
    "        ctypes.c_int\n",
    "    ]\n",
    "    \n",
    "    # se devuelve la función configurada\n",
    "    return lib.matvecCMCV"
   ]
  },
  {
   "cell_type": "code",
   "execution_count": 20,
   "id": "ef8fd9e7",
   "metadata": {},
   "outputs": [],
   "source": [
    "matvecCMCV = ctypes_matvecCMCV()"
   ]
  },
  {
   "cell_type": "code",
   "execution_count": 21,
   "id": "b904cd98",
   "metadata": {},
   "outputs": [
    {
     "data": {
      "text/plain": [
       "1.306388897222314e-15"
      ]
     },
     "execution_count": 21,
     "metadata": {},
     "output_type": "execute_result"
    }
   ],
   "source": [
    "n = 2048\n",
    "A = np.random.rand(n,n)\n",
    "Y = np.transpose(A).flatten()\n",
    "x = np.random.rand(n,1)\n",
    "bref = np.dot(A,x)\n",
    "# zeros_like te da un arreglo con las mismas dimensiones que el argumento, pero lleno de zeros\n",
    "bCMCV = np.zeros_like(bref)\n",
    "matvecCMCV(Y,x,bCMCV,n)\n",
    "# error relativo\n",
    "np.linalg.norm(bref-bCMCV)/np.linalg.norm(bref)"
   ]
  },
  {
   "cell_type": "markdown",
   "id": "cb41fd61",
   "metadata": {},
   "source": [
    "## Mediciones"
   ]
  },
  {
   "cell_type": "code",
   "execution_count": 22,
   "id": "faa19f62",
   "metadata": {},
   "outputs": [],
   "source": [
    "trmrv = []\n",
    "trmcv = []\n",
    "tcmrv = []\n",
    "tcmcv = []\n",
    "ns = 2**np.arange(5,14)\n",
    "veces = 40\n",
    "for n in ns:\n",
    "    trmrvi = []\n",
    "    trmcvi = []\n",
    "    tcmrvi = []\n",
    "    tcmcvi = []\n",
    "    for j in range(veces):\n",
    "        # datos\n",
    "        A = np.random.rand(n,n)\n",
    "        x = np.random.rand(n,1)\n",
    "        \n",
    "        # entradas RM\n",
    "        Arm = A.flatten()\n",
    "        \n",
    "        # entradas CM\n",
    "        Acm = np.transpose(A).flatten()\n",
    "        \n",
    "        # referencia\n",
    "        bref = np.dot(A,x)\n",
    "        \n",
    "        # salidas\n",
    "        bRMRV = np.zeros_like(bref)\n",
    "        bRMCV = np.zeros_like(bref)\n",
    "        bCMRV = np.zeros_like(bref)\n",
    "        bCMCV = np.zeros_like(bref)\n",
    "        \n",
    "        # tiempo RMRV\n",
    "        t = time.time()\n",
    "        matvecRMRV(Arm,x,bRMRV,n)\n",
    "        trmrvi.append(time.time() - t)\n",
    "    \n",
    "        # tiempo RMCV\n",
    "        t = time.time()\n",
    "        matvecRMCV(Arm,x,bRMCV,n)\n",
    "        trmcvi.append(time.time() - t)\n",
    "        \n",
    "        # tiempo CMRV\n",
    "        t = time.time()\n",
    "        matvecCMRV(Acm,x,bCMRV,n)\n",
    "        tcmrvi.append(time.time() - t)\n",
    "        \n",
    "        # tiempo CMCV\n",
    "        t = time.time()\n",
    "        matvecCMCV(Acm,x,bCMCV,n)\n",
    "        tcmcvi.append(time.time() - t)\n",
    "    \n",
    "    trmrv.append(statistics.mean(filtro_mediana(trmrvi,9)))\n",
    "    trmcv.append(statistics.mean(filtro_mediana(trmcvi,9)))\n",
    "    tcmrv.append(statistics.mean(filtro_mediana(tcmrvi,9)))\n",
    "    tcmcv.append(statistics.mean(filtro_mediana(tcmcvi,9)))"
   ]
  },
  {
   "cell_type": "code",
   "execution_count": 23,
   "id": "b959d1c0",
   "metadata": {},
   "outputs": [
    {
     "data": {
      "image/png": "[encoded data removed]",
      "text/plain": [
       "<Figure size 432x288 with 1 Axes>"
      ]
     },
     "metadata": {
      "needs_background": "light"
     },
     "output_type": "display_data"
    }
   ],
   "source": [
    "plt.plot(ns, trmrv, 'r-o', label='RowMajor-RowView')\n",
    "plt.plot(ns, trmcv, 'g-o', label='RowMajor-ColumnView')\n",
    "plt.plot(ns, tcmrv, 'b-o', label='ColumnMajor-RowView')\n",
    "plt.plot(ns, tcmcv, 'c-o', label='ColumnMajor-ColumnView')\n",
    "plt.title('Efectos de la localidad')\n",
    "plt.xlabel('tamagno')\n",
    "plt.ylabel('tiempo promedio')\n",
    "plt.legend()\n",
    "plt.show()"
   ]
  },
  {
   "cell_type": "code",
   "execution_count": 24,
   "id": "2e05ad76",
   "metadata": {},
   "outputs": [],
   "source": [
    "! rm *.o\n",
    "! rm *.so\n",
    "! rm *.c"
   ]
  }
 ],
 "metadata": {
  "kernelspec": {
   "display_name": "Python 3 (ipykernel)",
   "language": "python",
   "name": "python3"
  },
  "language_info": {
   "codemirror_mode": {
    "name": "ipython",
    "version": 3
   },
   "file_extension": ".py",
   "mimetype": "text/x-python",
   "name": "python",
   "nbconvert_exporter": "python",
   "pygments_lexer": "ipython3",
   "version": "3.8.10"
  }
 },
 "nbformat": 4,
 "nbformat_minor": 5
}
