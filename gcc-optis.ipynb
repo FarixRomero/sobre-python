{
 "cells": [
  {
   "cell_type": "markdown",
   "id": "265c5b19",
   "metadata": {},
   "source": [
    "# Optimizaciones de GCC\n",
    "\n",
    "En estos apuntes se presentan gráficas de los tiempos de ejecución, para una función que suma los elementos de dos arreglos de vectores y almacena el resultado en otro vector. La función será compilada con optimizaciones para observar como estas afectan al tiempo de ejecución y a la precisión. "
   ]
  },
  {
   "cell_type": "markdown",
   "id": "aee2650c",
   "metadata": {},
   "source": [
    "## Dependencias"
   ]
  },
  {
   "cell_type": "code",
   "execution_count": 1,
   "id": "cbee4199",
   "metadata": {},
   "outputs": [],
   "source": [
    "import ctypes\n",
    "import numpy\n",
    "from numpy import linalg as LA"
   ]
  },
  {
   "cell_type": "markdown",
   "id": "4656a425",
   "metadata": {},
   "source": [
    "## Suma de arreglos de floats"
   ]
  },
  {
   "cell_type": "code",
   "execution_count": 2,
   "id": "8942e5e0",
   "metadata": {},
   "outputs": [
    {
     "name": "stdout",
     "output_type": "stream",
     "text": [
      "Writing vectorFloatAdd.c\n"
     ]
    }
   ],
   "source": [
    "%%file vectorFloatAdd.c\n",
    "// funcion que suma dos arrays de floats\n",
    "void vectorFloatAdd(float* a, float* b, float* c, int size){\n",
    "    for(int i = 0; i < size; i++){\n",
    "        c[i] = a[i] + b[i];\n",
    "    }\n",
    "}"
   ]
  },
  {
   "cell_type": "code",
   "execution_count": 3,
   "id": "c10df5c9",
   "metadata": {},
   "outputs": [],
   "source": [
    "# crear el object file\n",
    "! gcc -c -Wall -Werror -fpic -O0 vectorFloatAdd.c -o vectorFloatAddO0.o\n",
    "! gcc -c -Wall -Werror -fpic -O1 vectorFloatAdd.c -o vectorFloatAddO1.o\n",
    "! gcc -c -Wall -Werror -fpic -O2 vectorFloatAdd.c -o vectorFloatAddO2.o\n",
    "! gcc -c -Wall -Werror -fpic -O3 vectorFloatAdd.c -o vectorFloatAddO3.o\n",
    "! gcc -c -Wall -Werror -fpic -Os vectorFloatAdd.c -o vectorFloatAddOs.o\n",
    "\n",
    "# crear la shared library\n",
    "! gcc -shared vectorFloatAddO0.o -o _vectorFloatAddO0.so\n",
    "! gcc -shared vectorFloatAddO1.o -o _vectorFloatAddO1.so\n",
    "! gcc -shared vectorFloatAddO2.o -o _vectorFloatAddO2.so\n",
    "! gcc -shared vectorFloatAddO3.o -o _vectorFloatAddO3.so\n",
    "! gcc -shared vectorFloatAddOs.o -o _vectorFloatAddOs.so"
   ]
  },
  {
   "cell_type": "code",
   "execution_count": 4,
   "id": "f1e77250",
   "metadata": {},
   "outputs": [],
   "source": [
    "def ctypes_vector_float_add(libfile):\n",
    "    # cargar la shared library\n",
    "    lib = ctypes.CDLL(libfile)\n",
    "    # tipo de dato de los argumentos\n",
    "    lib.vectorFloatAdd.argtypes = [\n",
    "        numpy.ctypeslib.ndpointer(dtype=numpy.float32),\n",
    "        numpy.ctypeslib.ndpointer(dtype=numpy.float32),\n",
    "        numpy.ctypeslib.ndpointer(dtype=numpy.float32),\n",
    "        ctypes.c_int\n",
    "    ]\n",
    "     # funcion configurada\n",
    "    return lib.vectorFloatAdd"
   ]
  },
  {
   "cell_type": "code",
   "execution_count": 5,
   "id": "64d35012",
   "metadata": {},
   "outputs": [],
   "source": [
    "cvfaddO0 = ctypes_vector_float_add('./_vectorFloatAddO0.so')\n",
    "cvfaddO1 = ctypes_vector_float_add('./_vectorFloatAddO1.so')\n",
    "cvfaddO2 = ctypes_vector_float_add('./_vectorFloatAddO2.so')\n",
    "cvfaddO3 = ctypes_vector_float_add('./_vectorFloatAddO3.so')\n",
    "cvfaddOs = ctypes_vector_float_add('./_vectorFloatAddOs.so')"
   ]
  },
  {
   "cell_type": "markdown",
   "id": "4354d9d9",
   "metadata": {},
   "source": [
    "### Comparación de los errores relativos y tiempos de ejecución"
   ]
  },
  {
   "cell_type": "code",
   "execution_count": 6,
   "id": "a1471c08",
   "metadata": {},
   "outputs": [],
   "source": [
    "# modulo para poder usar estadisticas\n",
    "import statistics\n",
    "\n",
    "# funcion para eliminar el ruido de una lista\n",
    "from utilities import filtro_mediana"
   ]
  },
  {
   "cell_type": "code",
   "execution_count": 7,
   "id": "ed310526",
   "metadata": {},
   "outputs": [],
   "source": [
    "# modulo para graficar\n",
    "import matplotlib.pyplot as plt\n",
    "\n",
    "# modulo para medir el tiempo\n",
    "import time"
   ]
  },
  {
   "cell_type": "code",
   "execution_count": 8,
   "id": "9115b7c8",
   "metadata": {},
   "outputs": [],
   "source": [
    "# nombres de las optimizaciones\n",
    "optis = ['O0','O1','O2','O3','Os']\n",
    "\n",
    "# funciones\n",
    "funcs = [cvfaddO0, cvfaddO1, cvfaddO2, cvfaddO3, cvfaddOs]\n",
    "\n",
    "# colores\n",
    "colores = ['r-o','g-o','b-o','y-o','c-o']\n",
    "\n",
    "# tamagnos de los arreglos\n",
    "sizes = 2**numpy.arange(10,21)\n",
    "\n",
    "# errores de la suma de arreglos de floats\n",
    "errs = [\n",
    "    numpy.zeros((len(sizes),1),dtype=numpy.float64),\n",
    "    numpy.zeros((len(sizes),1),dtype=numpy.float64),\n",
    "    numpy.zeros((len(sizes),1),dtype=numpy.float64),\n",
    "    numpy.zeros((len(sizes),1),dtype=numpy.float64),\n",
    "    numpy.zeros((len(sizes),1),dtype=numpy.float64)\n",
    "]\n",
    "\n",
    "# tiempos de la suma de arreglos de floats\n",
    "tiemps = [\n",
    "    numpy.zeros((len(sizes),1),dtype=numpy.float64),\n",
    "    numpy.zeros((len(sizes),1),dtype=numpy.float64),\n",
    "    numpy.zeros((len(sizes),1),dtype=numpy.float64),\n",
    "    numpy.zeros((len(sizes),1),dtype=numpy.float64),\n",
    "    numpy.zeros((len(sizes),1),dtype=numpy.float64)\n",
    "]\n",
    "\n",
    "# cantidad de repeticiones\n",
    "veces = 50\n",
    "\n",
    "# diccionario de datos\n",
    "dct = dict(\n",
    "    map(lambda a, b, c, d, e : (a, {'color': b, 'error': c, 'tiempo': d, 'func': e}), optis, colores, errs, tiemps, funcs)\n",
    ")"
   ]
  },
  {
   "cell_type": "code",
   "execution_count": 9,
   "id": "337541c2",
   "metadata": {},
   "outputs": [],
   "source": [
    "# mediciones de los errores relativos con cada optimización\n",
    "for key in dct:\n",
    "    for i,size in enumerate(sizes):\n",
    "        ei = []\n",
    "        for j in range(veces):\n",
    "            # entradas\n",
    "            x = numpy.random.rand(size,1).astype(numpy.float32)\n",
    "            y = numpy.random.rand(size,1).astype(numpy.float32)\n",
    "            # salida\n",
    "            z = numpy.zeros((size,1),dtype=numpy.float32)\n",
    "            # referencia\n",
    "            r = numpy.zeros((size,1),dtype=numpy.float32)\n",
    "            r = x + y\n",
    "            # llamada a funcion\n",
    "            dct[key]['func'](x,y,z,size)\n",
    "            # medir error y listarlo\n",
    "            ei.append(LA.norm(r-z)/LA.norm(r))\n",
    "        dct[key]['error'][i] = statistics.mean(ei)"
   ]
  },
  {
   "cell_type": "code",
   "execution_count": 10,
   "id": "3ea26a89",
   "metadata": {},
   "outputs": [
    {
     "data": {
      "image/png": "[encoded data removed]",
      "text/plain": [
       "<Figure size 432x288 with 1 Axes>"
      ]
     },
     "metadata": {
      "needs_background": "light"
     },
     "output_type": "display_data"
    }
   ],
   "source": [
    "# grafico de los errores relativos para cada tamagno\n",
    "for key in dct:\n",
    "    plt.plot(sizes,dct[key]['error'],dct[key]['color'],label=key)\n",
    "plt.title('error relativo por tamagno')\n",
    "plt.xlabel('tamagno')\n",
    "plt.ylabel('error relativo')\n",
    "plt.legend()\n",
    "plt.show()"
   ]
  },
  {
   "cell_type": "markdown",
   "id": "2d7d3716",
   "metadata": {},
   "source": [
    "La gráfica de errores relativos da la impresión de solo mostrar la precisón obtenido para la optimización Os, pero lo que ocurre es que todas las curvas están solapadas, y por eso no se aprecian."
   ]
  },
  {
   "cell_type": "code",
   "execution_count": 11,
   "id": "a882b3d0",
   "metadata": {},
   "outputs": [],
   "source": [
    "# luego de comprobar que todas las funciones son precisas\n",
    "# se pueden realizar mediciones de tiempo para cada tamagno\n",
    "for key in dct:\n",
    "    for i,size in enumerate(sizes):\n",
    "        ti = []\n",
    "        for j in range(veces):\n",
    "            # entradas\n",
    "            x = numpy.random.rand(size,1).astype(numpy.float32)\n",
    "            y = numpy.random.rand(size,1).astype(numpy.float32)\n",
    "            # salida\n",
    "            z = numpy.zeros((size,1),dtype=numpy.float32)\n",
    "            # medir tiempo\n",
    "            t = time.time()\n",
    "            # llamada a func\n",
    "            dct[key]['func'](x,y,z,size)\n",
    "            # medir tiempo y listar diferencia\n",
    "            ti.append(time.time() - t)\n",
    "        dct[key]['tiempo'][i] = statistics.mean(filtro_mediana(ti,9))"
   ]
  },
  {
   "cell_type": "code",
   "execution_count": 12,
   "id": "32e32452",
   "metadata": {},
   "outputs": [
    {
     "data": {
      "image/png": "[encoded data removed]",
      "text/plain": [
       "<Figure size 432x288 with 1 Axes>"
      ]
     },
     "metadata": {
      "needs_background": "light"
     },
     "output_type": "display_data"
    }
   ],
   "source": [
    "# grafico de los tiempos promedio por cada tamagno\n",
    "for key in dct:\n",
    "    plt.plot(sizes,dct[key]['tiempo'],dct[key]['color'],label=key)\n",
    "plt.title('tiempo por tamagno')\n",
    "plt.xlabel('tamagno')\n",
    "plt.ylabel('tiempo')\n",
    "plt.legend()\n",
    "plt.show()"
   ]
  },
  {
   "cell_type": "code",
   "execution_count": 13,
   "id": "dd438d4e",
   "metadata": {},
   "outputs": [
    {
     "data": {
      "image/png": "[encoded data removed]",
      "text/plain": [
       "<Figure size 432x288 with 1 Axes>"
      ]
     },
     "metadata": {
      "needs_background": "light"
     },
     "output_type": "display_data"
    }
   ],
   "source": [
    "# grafica de los speedup para cada tamagno segun la optimizacion empleada\n",
    "# el tiempo obtenido con O0 es la referencia\n",
    "for key in dct:\n",
    "    plt.plot(sizes,dct['O0']['tiempo']/dct[key]['tiempo'],dct[key]['color'],label=key)\n",
    "plt.legend()\n",
    "plt.title('speedup por tamagno')\n",
    "plt.xlabel('tamagno')\n",
    "plt.ylabel('speedup')\n",
    "plt.legend()\n",
    "plt.show()"
   ]
  },
  {
   "cell_type": "code",
   "execution_count": 14,
   "id": "5786d9cc",
   "metadata": {},
   "outputs": [],
   "source": [
    "! rm *.o\n",
    "! rm *.so\n",
    "! rm *.c"
   ]
  }
 ],
 "metadata": {
  "kernelspec": {
   "display_name": "Python 3 (ipykernel)",
   "language": "python",
   "name": "python3"
  },
  "language_info": {
   "codemirror_mode": {
    "name": "ipython",
    "version": 3
   },
   "file_extension": ".py",
   "mimetype": "text/x-python",
   "name": "python",
   "nbconvert_exporter": "python",
   "pygments_lexer": "ipython3",
   "version": "3.8.10"
  }
 },
 "nbformat": 4,
 "nbformat_minor": 5
}
