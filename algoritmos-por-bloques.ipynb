{
 "cells": [
  {
   "cell_type": "markdown",
   "id": "a7806344",
   "metadata": {},
   "source": [
    "# Algoritmos por bloques"
   ]
  },
  {
   "cell_type": "markdown",
   "id": "f2d40cbe",
   "metadata": {},
   "source": [
    "El propósito de estos apuntes es mostrar como puede disminuir el tiempo de ejecución de una función al realizar una lectura por bloques de los elementos en memoria. En particular, el estudio estará centrado en la operación transpuesta de una matriz."
   ]
  },
  {
   "cell_type": "markdown",
   "id": "4e34621d",
   "metadata": {},
   "source": [
    "## Dependencias"
   ]
  },
  {
   "cell_type": "code",
   "execution_count": 1,
   "id": "a0ee0c2e",
   "metadata": {},
   "outputs": [],
   "source": [
    "import numpy\n",
    "import ctypes\n",
    "import time\n",
    "from statistics import mean\n",
    "from utilities import filtro_mediana\n",
    "import matplotlib.pyplot as plt\n",
    "from numpy import asarray"
   ]
  },
  {
   "cell_type": "markdown",
   "id": "7f9c8fe8",
   "metadata": {},
   "source": [
    "# Implementación en C de ambas formas"
   ]
  },
  {
   "cell_type": "code",
   "execution_count": 2,
   "id": "9a7574ac",
   "metadata": {},
   "outputs": [
    {
     "name": "stdout",
     "output_type": "stream",
     "text": [
      "Writing transposelib.c\n"
     ]
    }
   ],
   "source": [
    "%%file transposelib.c\n",
    "void transposeclassic(double *A, double *AT, int N)\n",
    "{\n",
    "    for(int i = 0; i < N; i++){\n",
    "        for(int j = 0; j < N; j++){\n",
    "            AT[j+i*N] = A[i+j*N];\n",
    "        }\n",
    "    }   \n",
    "}\n",
    "\n",
    "void transposeblock(double *A, double *AT, int N, int block)\n",
    "{\n",
    "    for (int i = 0; i < N; i += block) {\n",
    "        for (int j = 0; j < N; j += block) {\n",
    "            for (int k = i; k < i + block; ++k) {\n",
    "                for (int l = j; l < j + block; ++l) {\n",
    "                    AT[k + l*N] = A[l + k*N];\n",
    "                }\n",
    "            }\n",
    "        }\n",
    "    }   \n",
    "}"
   ]
  },
  {
   "cell_type": "code",
   "execution_count": 3,
   "id": "9d16c4c9",
   "metadata": {},
   "outputs": [],
   "source": [
    "! gcc -c transposelib.c -o transposelib.o\n",
    "! gcc -shared transposelib.o -o transposelib.so"
   ]
  },
  {
   "cell_type": "markdown",
   "id": "26676390",
   "metadata": {},
   "source": [
    "## Enlace a Python"
   ]
  },
  {
   "cell_type": "code",
   "execution_count": 4,
   "id": "189a48a4",
   "metadata": {},
   "outputs": [],
   "source": [
    "def ctypes_transposelib():\n",
    "    # ruta de la shared library\n",
    "    transposelib = ctypes.CDLL('./transposelib.so')\n",
    "    \n",
    "    # tipo de los argumentos de la forma sin bloques\n",
    "    transposelib.transposeclassic.argtypes = [\n",
    "        numpy.ctypeslib.ndpointer(dtype=numpy.double),\n",
    "        numpy.ctypeslib.ndpointer(dtype=numpy.double),\n",
    "        ctypes.c_int\n",
    "    ]\n",
    "    \n",
    "    # tipo de los argumentos de la forma con bloques\n",
    "    transposelib.transposeblock.argtypes = [\n",
    "        numpy.ctypeslib.ndpointer(dtype=numpy.double),\n",
    "        numpy.ctypeslib.ndpointer(dtype=numpy.double),\n",
    "        ctypes.c_int,\n",
    "        ctypes.c_int\n",
    "    ]\n",
    "    \n",
    "    # se devuelve las funciones configuradas\n",
    "    return transposelib.transposeclassic, transposelib.transposeblock"
   ]
  },
  {
   "cell_type": "markdown",
   "id": "f477ebc0",
   "metadata": {},
   "source": [
    "Instancias de las funciones"
   ]
  },
  {
   "cell_type": "code",
   "execution_count": 5,
   "id": "d85961c7",
   "metadata": {},
   "outputs": [],
   "source": [
    "transposeclassic, transposeblock = ctypes_transposelib()"
   ]
  },
  {
   "cell_type": "markdown",
   "id": "ff1281a0",
   "metadata": {},
   "source": [
    "## Prueba numérica"
   ]
  },
  {
   "cell_type": "code",
   "execution_count": 6,
   "id": "3eef463e",
   "metadata": {},
   "outputs": [],
   "source": [
    "n = 2048\n",
    "b = 2\n",
    "A = numpy.random.rand(n,n)\n",
    "Y = A.flatten()\n",
    "At1 = numpy.zeros_like(A.flatten())\n",
    "At2 = numpy.zeros_like(A.flatten())"
   ]
  },
  {
   "cell_type": "code",
   "execution_count": 7,
   "id": "2cf490d6",
   "metadata": {},
   "outputs": [
    {
     "data": {
      "text/plain": [
       "0.0"
      ]
     },
     "execution_count": 7,
     "metadata": {},
     "output_type": "execute_result"
    }
   ],
   "source": [
    "transposeclassic(Y,At1,n)\n",
    "# error relativo\n",
    "numpy.linalg.norm(numpy.transpose(A).flatten()-At1)/numpy.linalg.norm(numpy.transpose(A).flatten())"
   ]
  },
  {
   "cell_type": "code",
   "execution_count": 8,
   "id": "76bf726d",
   "metadata": {},
   "outputs": [
    {
     "data": {
      "text/plain": [
       "0.0"
      ]
     },
     "execution_count": 8,
     "metadata": {},
     "output_type": "execute_result"
    }
   ],
   "source": [
    "transposeblock(Y,At2,n,b)\n",
    "# error relativo\n",
    "numpy.linalg.norm(numpy.transpose(A).flatten()-At2)/numpy.linalg.norm(numpy.transpose(A).flatten())"
   ]
  },
  {
   "cell_type": "markdown",
   "id": "b2349e27",
   "metadata": {},
   "source": [
    "## Medición de tiempos"
   ]
  },
  {
   "cell_type": "code",
   "execution_count": 9,
   "id": "8f53371e",
   "metadata": {},
   "outputs": [],
   "source": [
    "ns = 2**numpy.arange(5,13)\n",
    "veces = range(40)"
   ]
  },
  {
   "cell_type": "code",
   "execution_count": 10,
   "id": "086f2025",
   "metadata": {},
   "outputs": [],
   "source": [
    "ltb2 = []\n",
    "ltb4 = []\n",
    "ltb8 = []\n",
    "lt = []\n",
    "for n in ns:\n",
    "    ltb2i = []\n",
    "    ltb4i = []\n",
    "    ltb8i = []\n",
    "    lti = []\n",
    "    for _ in veces:\n",
    "        # entradas\n",
    "        A = numpy.random.rand(n,n)\n",
    "        Y = A.flatten()\n",
    "        # referencia\n",
    "        Atn = numpy.transpose(A)\n",
    "        Ytn = Atn.flatten()\n",
    "        \n",
    "        # para la forma sin bloques\n",
    "        At = numpy.zeros_like(Ytn)\n",
    "        # para bloque 2\n",
    "        At2 = numpy.zeros_like(Ytn)\n",
    "        # para bloque 4 \n",
    "        At4 = numpy.zeros_like(Ytn)\n",
    "        # para bloque 8\n",
    "        At8 = numpy.zeros_like(Ytn)\n",
    "\n",
    "        # 2\n",
    "        tic = time.time()\n",
    "        transposeblock(Y,At2,n,2)\n",
    "        toc = time.time()\n",
    "        ltb2i.append(toc-tic)\n",
    "        \n",
    "        # 4\n",
    "        tic = time.time()\n",
    "        transposeblock(Y,At4,n,4)\n",
    "        toc = time.time()\n",
    "        ltb4i.append(toc-tic)\n",
    "        \n",
    "        # 8\n",
    "        tic = time.time()\n",
    "        transposeblock(Y,At8,n,8)\n",
    "        toc = time.time()\n",
    "        ltb8i.append(toc-tic)\n",
    "        \n",
    "        # sin bloques\n",
    "        tic = time.time()\n",
    "        transposeclassic(Y,At,n)\n",
    "        toc = time.time()\n",
    "        lti.append(toc-tic)\n",
    "    \n",
    "    ltb2.append(mean(filtro_mediana(ltb2i,11)))\n",
    "    ltb4.append(mean(filtro_mediana(ltb4i,11)))\n",
    "    ltb8.append(mean(filtro_mediana(ltb8i,11)))\n",
    "    lt.append(mean(filtro_mediana(lti,11)))"
   ]
  },
  {
   "cell_type": "markdown",
   "id": "ff0d5b59",
   "metadata": {},
   "source": [
    "## Presentación de resultados"
   ]
  },
  {
   "cell_type": "code",
   "execution_count": 11,
   "id": "94a6fa94",
   "metadata": {},
   "outputs": [
    {
     "data": {
      "text/plain": [
       "<matplotlib.legend.Legend at 0x7fd77a8c8be0>"
      ]
     },
     "execution_count": 11,
     "metadata": {},
     "output_type": "execute_result"
    },
    {
     "data": {
      "image/png": "[encoded data removed]",
      "text/plain": [
       "<Figure size 432x288 with 1 Axes>"
      ]
     },
     "metadata": {
      "needs_background": "light"
     },
     "output_type": "display_data"
    }
   ],
   "source": [
    "plt.plot(ns[:6],lt[:6],'-co',label='sin bloques')\n",
    "plt.plot(ns[:6],ltb2[:6],'-ro',label='bloque 2')\n",
    "plt.plot(ns[:6],ltb4[:6],'-go',label='bloque 4')\n",
    "plt.plot(ns[:6],ltb8[:6],'-bo',label='bloque 8')\n",
    "plt.xlabel('N')\n",
    "plt.ylabel('Tiempo promedio')\n",
    "plt.legend()"
   ]
  },
  {
   "cell_type": "markdown",
   "id": "8353eb82",
   "metadata": {},
   "source": [
    "Para un `N` de `32` a `1024` la forma con bloques de tamagno `2` salió más lento que la forma sin bloques :'v."
   ]
  },
  {
   "cell_type": "code",
   "execution_count": 12,
   "id": "06bb0202",
   "metadata": {},
   "outputs": [
    {
     "data": {
      "text/plain": [
       "<matplotlib.legend.Legend at 0x7fd77873e4f0>"
      ]
     },
     "execution_count": 12,
     "metadata": {},
     "output_type": "execute_result"
    },
    {
     "data": {
      "image/png": "[encoded data removed]",
      "text/plain": [
       "<Figure size 432x288 with 1 Axes>"
      ]
     },
     "metadata": {
      "needs_background": "light"
     },
     "output_type": "display_data"
    }
   ],
   "source": [
    "plt.plot(ns[6:],lt[6:],'-co',label='sin bloques')\n",
    "plt.plot(ns[6:],ltb2[6:],'-ro',label='bloque 2')\n",
    "plt.plot(ns[6:],ltb4[6:],'-go',label='bloque 4')\n",
    "plt.plot(ns[6:],ltb8[6:],'-bo',label='bloque 8')\n",
    "plt.xlabel('N')\n",
    "plt.ylabel('Tiempo promedio')\n",
    "plt.legend()"
   ]
  },
  {
   "cell_type": "markdown",
   "id": "25d767c6",
   "metadata": {},
   "source": [
    "Para un tamagno de bloque de valor `2` recién mejoró su rendimiento luego de `N=2048`. A pesar de eso, se empleará la forma sin bloques como referencia para calcular el _speedup_."
   ]
  },
  {
   "cell_type": "code",
   "execution_count": 13,
   "id": "e41dda30",
   "metadata": {},
   "outputs": [
    {
     "data": {
      "text/plain": [
       "<matplotlib.legend.Legend at 0x7fd7787150a0>"
      ]
     },
     "execution_count": 13,
     "metadata": {},
     "output_type": "execute_result"
    },
    {
     "data": {
      "image/png": "[encoded data removed]",
      "text/plain": [
       "<Figure size 432x288 with 1 Axes>"
      ]
     },
     "metadata": {
      "needs_background": "light"
     },
     "output_type": "display_data"
    }
   ],
   "source": [
    "plt.plot(ns,asarray(lt)/asarray(ltb2),'-ro',label='bloque 2')\n",
    "plt.plot(ns,asarray(lt)/asarray(ltb4),'-go',label='bloque 4')\n",
    "plt.plot(ns,asarray(lt)/asarray(ltb8),'-bo',label='bloque 8')\n",
    "plt.xlabel('N')\n",
    "plt.ylabel('Speedup')\n",
    "plt.legend()"
   ]
  },
  {
   "cell_type": "markdown",
   "id": "5a05c796",
   "metadata": {},
   "source": [
    "Para un tamaño de bloque 4 y 8 recién se observa ganancia a partir de `N=256`"
   ]
  },
  {
   "cell_type": "code",
   "execution_count": 14,
   "id": "1ab7f4b3",
   "metadata": {},
   "outputs": [],
   "source": [
    "! rm *.o\n",
    "! rm *.so\n",
    "! rm *.c"
   ]
  }
 ],
 "metadata": {
  "kernelspec": {
   "display_name": "Python 3 (ipykernel)",
   "language": "python",
   "name": "python3"
  },
  "language_info": {
   "codemirror_mode": {
    "name": "ipython",
    "version": 3
   },
   "file_extension": ".py",
   "mimetype": "text/x-python",
   "name": "python",
   "nbconvert_exporter": "python",
   "pygments_lexer": "ipython3",
   "version": "3.8.10"
  }
 },
 "nbformat": 4,
 "nbformat_minor": 5
}
