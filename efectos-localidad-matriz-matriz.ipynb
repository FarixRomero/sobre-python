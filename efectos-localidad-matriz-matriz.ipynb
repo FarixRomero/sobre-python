{
 "cells": [
  {
   "cell_type": "markdown",
   "id": "6fe2703a",
   "metadata": {},
   "source": [
    "# Efectos de la localidad"
   ]
  },
  {
   "cell_type": "markdown",
   "id": "c98fa811",
   "metadata": {},
   "source": [
    "## Efectos de no saber usar los bucles for"
   ]
  },
  {
   "cell_type": "code",
   "execution_count": 1,
   "id": "8ce54520",
   "metadata": {},
   "outputs": [
    {
     "name": "stdout",
     "output_type": "stream",
     "text": [
      "Writing f1.c\n"
     ]
    }
   ],
   "source": [
    "%%file f1.c\n",
    "void f1(int *arr1, int *arr2, int tam)\n",
    "{\n",
    "   for (int i = 0; i < tam; i++)\n",
    "   {\n",
    "       arr1[i] *= 3;\n",
    " \n",
    "   }\n",
    "   for (int i = 0; i < tam; i++)\n",
    "   {\n",
    "       arr2[i] *= 3;\n",
    "   }\n",
    "}"
   ]
  },
  {
   "cell_type": "code",
   "execution_count": 2,
   "id": "fcbf1699",
   "metadata": {},
   "outputs": [],
   "source": [
    "# para generar el object file\n",
    "! gcc -c -fpic f1.c\n",
    "\n",
    "# para crear la shared library\n",
    "! gcc -shared  f1.o -o f1.so"
   ]
  },
  {
   "cell_type": "code",
   "execution_count": 3,
   "id": "ab5aca45",
   "metadata": {},
   "outputs": [
    {
     "name": "stdout",
     "output_type": "stream",
     "text": [
      "Writing f2.c\n"
     ]
    }
   ],
   "source": [
    "%%file f2.c\n",
    "void f2(int *arr1, int *arr2, int tam)\n",
    "{\n",
    "   for (int i = 0; i < tam; i++)\n",
    "   {\n",
    "       arr1[i] *= 3;\n",
    "       arr2[i] *= 3;\n",
    "   }\n",
    "}"
   ]
  },
  {
   "cell_type": "code",
   "execution_count": 4,
   "id": "0934e6a8",
   "metadata": {},
   "outputs": [],
   "source": [
    "# para generar el object file\n",
    "! gcc -c -fpic f2.c\n",
    "\n",
    "# para crear la shared library\n",
    "! gcc -shared  f2.o -o f2.so"
   ]
  },
  {
   "cell_type": "code",
   "execution_count": 5,
   "id": "55f4915d",
   "metadata": {},
   "outputs": [],
   "source": [
    "import ctypes\n",
    "import numpy"
   ]
  },
  {
   "cell_type": "code",
   "execution_count": 6,
   "id": "d9f38ee7",
   "metadata": {},
   "outputs": [],
   "source": [
    "def ctypes_f1():\n",
    "    # ruta de la shared library\n",
    "    lib = ctypes.CDLL('./f1.so')\n",
    "    \n",
    "    # tipo de dato de los argumentos\n",
    "    lib.f1.argtypes = [\n",
    "        numpy.ctypeslib.ndpointer(dtype=numpy.int32),\n",
    "        numpy.ctypeslib.ndpointer(dtype=numpy.int32),\n",
    "        ctypes.c_int\n",
    "    ]\n",
    "    \n",
    "    # se devuelve la función configurada\n",
    "    return lib.f1"
   ]
  },
  {
   "cell_type": "code",
   "execution_count": 7,
   "id": "0c91a132",
   "metadata": {},
   "outputs": [],
   "source": [
    "f1 = ctypes_f1()"
   ]
  },
  {
   "cell_type": "code",
   "execution_count": 8,
   "id": "ecf32d4a",
   "metadata": {},
   "outputs": [],
   "source": [
    "def ctypes_f2():\n",
    "    # ruta de la shared library\n",
    "    lib = ctypes.CDLL('./f2.so')\n",
    "    \n",
    "    # tipo de dato de los argumentos\n",
    "    lib.f2.argtypes = [\n",
    "        numpy.ctypeslib.ndpointer(dtype=numpy.int32),\n",
    "        numpy.ctypeslib.ndpointer(dtype=numpy.int32),\n",
    "        ctypes.c_int\n",
    "    ]\n",
    "    \n",
    "    # se devuelve la función configurada\n",
    "    return lib.f2"
   ]
  },
  {
   "cell_type": "code",
   "execution_count": 9,
   "id": "3f67618c",
   "metadata": {},
   "outputs": [],
   "source": [
    "f2 = ctypes_f2()"
   ]
  },
  {
   "cell_type": "code",
   "execution_count": 10,
   "id": "7b9c2a41",
   "metadata": {},
   "outputs": [],
   "source": [
    "low = 1\n",
    "top = 1000000\n",
    "size = top\n",
    "arr1f1 = numpy.random.randint(low,top,size,dtype=numpy.int32)\n",
    "arr1f2 = arr1f1.copy()\n",
    "arr2f1 = numpy.random.randint(low,top,size,dtype=numpy.int32)\n",
    "arr2f2 = arr2f1.copy()"
   ]
  },
  {
   "cell_type": "code",
   "execution_count": 11,
   "id": "3ef77d36",
   "metadata": {},
   "outputs": [
    {
     "data": {
      "text/plain": [
       "1000000"
      ]
     },
     "execution_count": 11,
     "metadata": {},
     "output_type": "execute_result"
    }
   ],
   "source": [
    "f1(arr1f1,arr2f1,size)"
   ]
  },
  {
   "cell_type": "code",
   "execution_count": 12,
   "id": "45729b59",
   "metadata": {},
   "outputs": [
    {
     "data": {
      "text/plain": [
       "1000000"
      ]
     },
     "execution_count": 12,
     "metadata": {},
     "output_type": "execute_result"
    }
   ],
   "source": [
    "f2(arr1f2,arr2f2,size)"
   ]
  },
  {
   "cell_type": "code",
   "execution_count": 13,
   "id": "9cb5717a",
   "metadata": {},
   "outputs": [
    {
     "data": {
      "text/plain": [
       "True"
      ]
     },
     "execution_count": 13,
     "metadata": {},
     "output_type": "execute_result"
    }
   ],
   "source": [
    "numpy.array_equal(arr1f1, arr1f2)"
   ]
  },
  {
   "cell_type": "code",
   "execution_count": 14,
   "id": "455696ea",
   "metadata": {},
   "outputs": [
    {
     "data": {
      "text/plain": [
       "True"
      ]
     },
     "execution_count": 14,
     "metadata": {},
     "output_type": "execute_result"
    }
   ],
   "source": [
    "numpy.array_equal(arr2f1, arr2f2)"
   ]
  },
  {
   "cell_type": "code",
   "execution_count": 15,
   "id": "11bda87b",
   "metadata": {},
   "outputs": [],
   "source": [
    "import time"
   ]
  },
  {
   "cell_type": "code",
   "execution_count": 16,
   "id": "bf607ba9",
   "metadata": {},
   "outputs": [],
   "source": [
    "lf1 = []\n",
    "lf2 = []\n",
    "for i in range(100):\n",
    "    arr1f1 = numpy.random.randint(low,top,size,dtype=numpy.int32)\n",
    "    arr1f2 = arr1f1.copy()\n",
    "    arr2f1 = numpy.random.randint(low,top,size,dtype=numpy.int32)\n",
    "    arr2f2 = arr2f1.copy()\n",
    "    tic = time.time()\n",
    "    f1(arr1f1,arr2f1,size)\n",
    "    toc = time.time()\n",
    "    lf1.append(toc-tic)\n",
    "    tic = time.time()\n",
    "    f2(arr1f1,arr2f1,size)\n",
    "    toc = time.time()\n",
    "    lf2.append(toc-tic)"
   ]
  },
  {
   "cell_type": "code",
   "execution_count": 17,
   "id": "c952cb62",
   "metadata": {},
   "outputs": [],
   "source": [
    "import matplotlib.pyplot as plt"
   ]
  },
  {
   "cell_type": "code",
   "execution_count": 18,
   "id": "54a4c48f",
   "metadata": {},
   "outputs": [],
   "source": [
    "from utilities import filtro_mediana"
   ]
  },
  {
   "cell_type": "code",
   "execution_count": 19,
   "id": "10dda330",
   "metadata": {},
   "outputs": [
    {
     "data": {
      "text/plain": [
       "<matplotlib.legend.Legend at 0x7f3460ca51c0>"
      ]
     },
     "execution_count": 19,
     "metadata": {},
     "output_type": "execute_result"
    },
    {
     "data": {
      "image/png": "[encoded data removed]",
      "text/plain": [
       "<Figure size 432x288 with 1 Axes>"
      ]
     },
     "metadata": {
      "needs_background": "light"
     },
     "output_type": "display_data"
    }
   ],
   "source": [
    "plt.plot(range(100),lf1,label='f1')\n",
    "plt.plot(range(100),filtro_mediana(lf1,13),label='f1')\n",
    "plt.legend()"
   ]
  },
  {
   "cell_type": "code",
   "execution_count": 20,
   "id": "c435df49",
   "metadata": {},
   "outputs": [
    {
     "data": {
      "text/plain": [
       "<matplotlib.legend.Legend at 0x7f3460c75160>"
      ]
     },
     "execution_count": 20,
     "metadata": {},
     "output_type": "execute_result"
    },
    {
     "data": {
      "image/png": "[encoded data removed]",
      "text/plain": [
       "<Figure size 432x288 with 1 Axes>"
      ]
     },
     "metadata": {
      "needs_background": "light"
     },
     "output_type": "display_data"
    }
   ],
   "source": [
    "plt.plot(range(100),lf2,label='f2')\n",
    "plt.plot(range(100),filtro_mediana(lf2,13),label='f2')\n",
    "plt.legend()"
   ]
  },
  {
   "cell_type": "code",
   "execution_count": 21,
   "id": "018ae610",
   "metadata": {},
   "outputs": [],
   "source": [
    "from statistics import mean"
   ]
  },
  {
   "cell_type": "code",
   "execution_count": 22,
   "id": "26a06fab",
   "metadata": {},
   "outputs": [
    {
     "data": {
      "image/png": "[encoded data removed]",
      "text/plain": [
       "<Figure size 432x288 with 1 Axes>"
      ]
     },
     "metadata": {
      "needs_background": "light"
     },
     "output_type": "display_data"
    }
   ],
   "source": [
    "noms = ['f1','f1 sin ruido','f2','f2 sin ruido']\n",
    "proms = [ \n",
    "    mean(lf1), \n",
    "    mean(filtro_mediana(lf1,7)),\n",
    "    mean(lf2), \n",
    "    mean(filtro_mediana(lf2,7))\n",
    "]\n",
    "plt.bar(noms,proms,color='r')\n",
    "plt.xlabel('lenguaje')\n",
    "plt.ylabel('tiempo promedio')\n",
    "plt.tight_layout()"
   ]
  },
  {
   "cell_type": "code",
   "execution_count": 23,
   "id": "1304596d",
   "metadata": {},
   "outputs": [
    {
     "data": {
      "text/plain": [
       "1.4873069183208079"
      ]
     },
     "execution_count": 23,
     "metadata": {},
     "output_type": "execute_result"
    }
   ],
   "source": [
    "mean(filtro_mediana(lf1,21))/mean(filtro_mediana(lf2,21))"
   ]
  },
  {
   "cell_type": "markdown",
   "id": "416c7a47",
   "metadata": {},
   "source": [
    "En este caso, se observa que las operaciones de lectura escritura tienen más influencia en el tiempo de ejecución que el ruido."
   ]
  },
  {
   "cell_type": "markdown",
   "id": "adde5cc8",
   "metadata": {},
   "source": [
    "## Como pasar un puntero a puntero en ctypes"
   ]
  },
  {
   "cell_type": "code",
   "execution_count": 24,
   "id": "786d2b1b",
   "metadata": {},
   "outputs": [
    {
     "name": "stdout",
     "output_type": "stream",
     "text": [
      "Writing negmat.c\n"
     ]
    }
   ],
   "source": [
    "%%file negmat.c\n",
    "void negmat(double **A, double **B, int N)\n",
    "{\n",
    "    for(int i = 0; i < N; i++)\n",
    "    {\n",
    "        for(int j = 0; j < N; j++)\n",
    "        {\n",
    "            B[i][j] = 0.0 - A[i][j];\n",
    "        }\n",
    "    }\n",
    "}"
   ]
  },
  {
   "cell_type": "code",
   "execution_count": 25,
   "id": "b88d1258",
   "metadata": {},
   "outputs": [],
   "source": [
    "# para generar el object file\n",
    "! gcc -c -fpic negmat.c\n",
    "\n",
    "# para crear la shared library\n",
    "! gcc -shared  negmat.o -o negmat.so"
   ]
  },
  {
   "cell_type": "code",
   "execution_count": 26,
   "id": "b5d1eaea",
   "metadata": {},
   "outputs": [],
   "source": [
    "def ctypes_negmat():\n",
    "    # ruta de la shared library\n",
    "    lib = ctypes.CDLL('./negmat.so')\n",
    "    \n",
    "    # tipo de dato de los argumentos\n",
    "    lib.negmat.argtypes = [\n",
    "        numpy.ctypeslib.ndpointer(dtype=numpy.uintp, ndim=1, flags='C'),\n",
    "        numpy.ctypeslib.ndpointer(dtype=numpy.uintp, ndim=1, flags='C'),\n",
    "        ctypes.c_int\n",
    "    ]\n",
    "    \n",
    "    # se devuelve la función configurada\n",
    "    return lib.negmat"
   ]
  },
  {
   "cell_type": "code",
   "execution_count": 27,
   "id": "086a99a6",
   "metadata": {},
   "outputs": [],
   "source": [
    "negmat = ctypes_negmat()"
   ]
  },
  {
   "cell_type": "markdown",
   "id": "ec385d56",
   "metadata": {},
   "source": [
    "Los arreglos de numpy brindan información sobre la cantidad de bytes que hay entre elementos continuos y elementos de una fila y otra."
   ]
  },
  {
   "cell_type": "code",
   "execution_count": 28,
   "id": "65d27e00",
   "metadata": {},
   "outputs": [],
   "source": [
    "def ptr2ptr(x):\n",
    "    return (x.__array_interface__['data'][0] + numpy.arange(x.shape[0])*x.strides[0]).astype(numpy.uintp)"
   ]
  },
  {
   "cell_type": "code",
   "execution_count": 29,
   "id": "950eae95",
   "metadata": {},
   "outputs": [],
   "source": [
    "n = 2048\n",
    "A = numpy.random.rand(n,n)\n",
    "B = 0-A"
   ]
  },
  {
   "cell_type": "code",
   "execution_count": 30,
   "id": "1e8054e9",
   "metadata": {},
   "outputs": [
    {
     "data": {
      "text/plain": [
       "0.0"
      ]
     },
     "execution_count": 30,
     "metadata": {},
     "output_type": "execute_result"
    }
   ],
   "source": [
    "Bc = numpy.zeros_like(B)\n",
    "App = ptr2ptr(A)\n",
    "Bcpp = ptr2ptr(Bc)\n",
    "negmat(App,Bcpp,n)\n",
    "numpy.linalg.norm(B-Bc)/numpy.linalg.norm(B)"
   ]
  },
  {
   "cell_type": "markdown",
   "id": "e611204a",
   "metadata": {},
   "source": [
    "## Efectos de la localidad en la operación Matriz x Matrix"
   ]
  },
  {
   "cell_type": "code",
   "execution_count": 31,
   "id": "64bed800",
   "metadata": {},
   "outputs": [],
   "source": [
    "n = 512\n",
    "A = numpy.random.rand(n,n)\n",
    "B = numpy.random.rand(n,n)\n",
    "C = numpy.dot(A,B)\n",
    "App = ptr2ptr(A)\n",
    "Bpp = ptr2ptr(B)"
   ]
  },
  {
   "cell_type": "markdown",
   "id": "9844b2e5",
   "metadata": {},
   "source": [
    "### Caso IJK"
   ]
  },
  {
   "cell_type": "code",
   "execution_count": 32,
   "id": "e9f3bd1f",
   "metadata": {},
   "outputs": [
    {
     "name": "stdout",
     "output_type": "stream",
     "text": [
      "Writing mmIJK.c\n"
     ]
    }
   ],
   "source": [
    "%%file mmIJK.c\n",
    "void mmIJK(double **A, double **B, double **C, int N)\n",
    "{\n",
    "    for(int i = 0; i < N; i++)\n",
    "    {\n",
    "        for(int j = 0; j < N; j++)\n",
    "        {\n",
    "            for(int k = 0; k < N; k++)\n",
    "            {\n",
    "                C[i][j] += A[i][k] * B[k][j];\n",
    "            }\n",
    "        }\n",
    "    }\n",
    "}"
   ]
  },
  {
   "cell_type": "code",
   "execution_count": 33,
   "id": "69a22ab6",
   "metadata": {},
   "outputs": [],
   "source": [
    "# para generar el object file\n",
    "! gcc -c -fpic mmIJK.c\n",
    "\n",
    "# para crear la shared library\n",
    "! gcc -shared  mmIJK.o -o mmIJK.so"
   ]
  },
  {
   "cell_type": "code",
   "execution_count": 34,
   "id": "2ff9bf1e",
   "metadata": {},
   "outputs": [],
   "source": [
    "def ctypes_mmIJK():\n",
    "    # ruta de la shared library\n",
    "    lib = ctypes.CDLL('./mmIJK.so')\n",
    "    \n",
    "    # tipo de dato de los argumentos\n",
    "    lib.mmIJK.argtypes = [\n",
    "        numpy.ctypeslib.ndpointer(dtype=numpy.uintp, ndim=1, flags='C'),\n",
    "        numpy.ctypeslib.ndpointer(dtype=numpy.uintp, ndim=1, flags='C'),\n",
    "        numpy.ctypeslib.ndpointer(dtype=numpy.uintp, ndim=1, flags='C'),\n",
    "        ctypes.c_int\n",
    "    ]\n",
    "    \n",
    "    # se devuelve la función configurada\n",
    "    return lib.mmIJK"
   ]
  },
  {
   "cell_type": "code",
   "execution_count": 35,
   "id": "35563fff",
   "metadata": {},
   "outputs": [],
   "source": [
    "mmIJK = ctypes_mmIJK()"
   ]
  },
  {
   "cell_type": "code",
   "execution_count": 36,
   "id": "16bf18f8",
   "metadata": {},
   "outputs": [],
   "source": [
    "Cijk = numpy.zeros_like(C)"
   ]
  },
  {
   "cell_type": "code",
   "execution_count": 37,
   "id": "5a4f797f",
   "metadata": {},
   "outputs": [],
   "source": [
    "Cijkpp = ptr2ptr(Cijk)"
   ]
  },
  {
   "cell_type": "code",
   "execution_count": 38,
   "id": "121b4f08",
   "metadata": {},
   "outputs": [
    {
     "data": {
      "text/plain": [
       "6.038164363504874e-16"
      ]
     },
     "execution_count": 38,
     "metadata": {},
     "output_type": "execute_result"
    }
   ],
   "source": [
    "mmIJK(App,Bpp,Cijkpp,n)\n",
    "numpy.linalg.norm(C-Cijk)/numpy.linalg.norm(C)"
   ]
  },
  {
   "cell_type": "markdown",
   "id": "a795b761",
   "metadata": {},
   "source": [
    "### Caso IKJ"
   ]
  },
  {
   "cell_type": "code",
   "execution_count": 39,
   "id": "5e65c206",
   "metadata": {},
   "outputs": [
    {
     "name": "stdout",
     "output_type": "stream",
     "text": [
      "Writing mmIKJ.c\n"
     ]
    }
   ],
   "source": [
    "%%file mmIKJ.c\n",
    "void mmIKJ(double **A, double **B, double **C, int N)\n",
    "{\n",
    "    for(int i = 0; i < N; i++)\n",
    "    {\n",
    "        for(int k = 0; k < N; k++)\n",
    "        {\n",
    "            for(int j = 0; j < N; j++)\n",
    "            {\n",
    "                C[i][j] += A[i][k] * B[k][j];\n",
    "            }\n",
    "        }\n",
    "    }\n",
    "}"
   ]
  },
  {
   "cell_type": "code",
   "execution_count": 40,
   "id": "5c983c02",
   "metadata": {},
   "outputs": [],
   "source": [
    "# para generar el object file\n",
    "! gcc -c -fpic mmIKJ.c\n",
    "\n",
    "# para crear la shared library\n",
    "! gcc -shared  mmIKJ.o -o mmIKJ.so"
   ]
  },
  {
   "cell_type": "code",
   "execution_count": 41,
   "id": "fcdf9cf2",
   "metadata": {},
   "outputs": [],
   "source": [
    "def ctypes_mmIKJ():\n",
    "    # ruta de la shared library\n",
    "    lib = ctypes.CDLL('./mmIKJ.so')\n",
    "    \n",
    "    # tipo de dato de los argumentos\n",
    "    lib.mmIKJ.argtypes = [\n",
    "        numpy.ctypeslib.ndpointer(dtype=numpy.uintp, ndim=1, flags='C'),\n",
    "        numpy.ctypeslib.ndpointer(dtype=numpy.uintp, ndim=1, flags='C'),\n",
    "        numpy.ctypeslib.ndpointer(dtype=numpy.uintp, ndim=1, flags='C'),\n",
    "        ctypes.c_int\n",
    "    ]\n",
    "    \n",
    "    # se devuelve la función configurada\n",
    "    return lib.mmIKJ"
   ]
  },
  {
   "cell_type": "code",
   "execution_count": 42,
   "id": "12cc07dd",
   "metadata": {},
   "outputs": [],
   "source": [
    "mmIKJ = ctypes_mmIKJ()"
   ]
  },
  {
   "cell_type": "code",
   "execution_count": 43,
   "id": "803663d2",
   "metadata": {},
   "outputs": [],
   "source": [
    "Cikj = numpy.zeros_like(C)\n",
    "Cikjpp = ptr2ptr(Cikj)"
   ]
  },
  {
   "cell_type": "code",
   "execution_count": 44,
   "id": "16d348d9",
   "metadata": {},
   "outputs": [
    {
     "data": {
      "text/plain": [
       "6.038164363504874e-16"
      ]
     },
     "execution_count": 44,
     "metadata": {},
     "output_type": "execute_result"
    }
   ],
   "source": [
    "mmIKJ(App,Bpp,Cikjpp,n)\n",
    "numpy.linalg.norm(C-Cikj)/numpy.linalg.norm(C)"
   ]
  },
  {
   "cell_type": "markdown",
   "id": "7994769f",
   "metadata": {},
   "source": [
    "### Caso JKI"
   ]
  },
  {
   "cell_type": "code",
   "execution_count": 45,
   "id": "1f2750b4",
   "metadata": {},
   "outputs": [
    {
     "name": "stdout",
     "output_type": "stream",
     "text": [
      "Writing mmJKI.c\n"
     ]
    }
   ],
   "source": [
    "%%file mmJKI.c\n",
    "void mmJKI(double **A, double **B, double **C, int N)\n",
    "{\n",
    "    for(int j = 0; j < N; j++)\n",
    "    {\n",
    "        for(int k = 0; k < N; k++)\n",
    "        {\n",
    "            for(int i = 0; i < N; i++)\n",
    "            {\n",
    "                C[i][j] += A[i][k] * B[k][j];\n",
    "            }\n",
    "        }\n",
    "    }\n",
    "}"
   ]
  },
  {
   "cell_type": "code",
   "execution_count": 46,
   "id": "7704e2ac",
   "metadata": {},
   "outputs": [],
   "source": [
    "# para generar el object file\n",
    "! gcc -c -fpic mmJKI.c\n",
    "\n",
    "# para crear la shared library\n",
    "! gcc -shared  mmJKI.o -o mmJKI.so"
   ]
  },
  {
   "cell_type": "code",
   "execution_count": 47,
   "id": "8b453502",
   "metadata": {},
   "outputs": [],
   "source": [
    "def ctypes_mmJKI():\n",
    "    # ruta de la shared library\n",
    "    lib = ctypes.CDLL('./mmJKI.so')\n",
    "    \n",
    "    # tipo de dato de los argumentos\n",
    "    lib.mmJKI.argtypes = [\n",
    "        numpy.ctypeslib.ndpointer(dtype=numpy.uintp, ndim=1, flags='C'),\n",
    "        numpy.ctypeslib.ndpointer(dtype=numpy.uintp, ndim=1, flags='C'),\n",
    "        numpy.ctypeslib.ndpointer(dtype=numpy.uintp, ndim=1, flags='C'),\n",
    "        ctypes.c_int\n",
    "    ]\n",
    "    \n",
    "    # se devuelve la función configurada\n",
    "    return lib.mmJKI"
   ]
  },
  {
   "cell_type": "code",
   "execution_count": 48,
   "id": "55252efa",
   "metadata": {},
   "outputs": [],
   "source": [
    "mmJKI = ctypes_mmJKI()"
   ]
  },
  {
   "cell_type": "code",
   "execution_count": 49,
   "id": "2815db20",
   "metadata": {},
   "outputs": [],
   "source": [
    "Cjki = numpy.zeros_like(C)\n",
    "Cjkipp = ptr2ptr(Cjki)"
   ]
  },
  {
   "cell_type": "code",
   "execution_count": 50,
   "id": "7a6180f7",
   "metadata": {},
   "outputs": [
    {
     "data": {
      "text/plain": [
       "6.038164363504874e-16"
      ]
     },
     "execution_count": 50,
     "metadata": {},
     "output_type": "execute_result"
    }
   ],
   "source": [
    "mmJKI(App,Bpp,Cjkipp,n)\n",
    "numpy.linalg.norm(C-Cjki)/numpy.linalg.norm(C)"
   ]
  },
  {
   "cell_type": "markdown",
   "id": "67eac6fb",
   "metadata": {},
   "source": [
    "### Caso JIK"
   ]
  },
  {
   "cell_type": "code",
   "execution_count": 51,
   "id": "20a7653b",
   "metadata": {},
   "outputs": [
    {
     "name": "stdout",
     "output_type": "stream",
     "text": [
      "Writing mmJIK.c\n"
     ]
    }
   ],
   "source": [
    "%%file mmJIK.c\n",
    "void mmJIK(double **A, double **B, double **C, int N)\n",
    "{\n",
    "    for(int j = 0; j < N; j++)\n",
    "    {\n",
    "        for(int i = 0; i < N; i++)\n",
    "        {\n",
    "            for(int k = 0; k < N; k++)\n",
    "            {\n",
    "                C[i][j] += A[i][k] * B[k][j];\n",
    "            }\n",
    "        }\n",
    "    }\n",
    "}"
   ]
  },
  {
   "cell_type": "code",
   "execution_count": 52,
   "id": "55d05b96",
   "metadata": {},
   "outputs": [],
   "source": [
    "# para generar el object file\n",
    "! gcc -c -fpic mmJIK.c\n",
    "\n",
    "# para crear la shared library\n",
    "! gcc -shared  mmJIK.o -o mmJIK.so"
   ]
  },
  {
   "cell_type": "code",
   "execution_count": 53,
   "id": "64bb62da",
   "metadata": {},
   "outputs": [],
   "source": [
    "def ctypes_mmJIK():\n",
    "    # ruta de la shared library\n",
    "    lib = ctypes.CDLL('./mmJIK.so')\n",
    "    \n",
    "    # tipo de dato de los argumentos\n",
    "    lib.mmJIK.argtypes = [\n",
    "        numpy.ctypeslib.ndpointer(dtype=numpy.uintp, ndim=1, flags='C'),\n",
    "        numpy.ctypeslib.ndpointer(dtype=numpy.uintp, ndim=1, flags='C'),\n",
    "        numpy.ctypeslib.ndpointer(dtype=numpy.uintp, ndim=1, flags='C'),\n",
    "        ctypes.c_int\n",
    "    ]\n",
    "    \n",
    "    # se devuelve la función configurada\n",
    "    return lib.mmJIK"
   ]
  },
  {
   "cell_type": "code",
   "execution_count": 54,
   "id": "f2cb4104",
   "metadata": {},
   "outputs": [],
   "source": [
    "mmJIK = ctypes_mmJIK()"
   ]
  },
  {
   "cell_type": "code",
   "execution_count": 55,
   "id": "469b6797",
   "metadata": {},
   "outputs": [],
   "source": [
    "Cjik = numpy.zeros_like(C)\n",
    "Cjikpp = ptr2ptr(Cjik)"
   ]
  },
  {
   "cell_type": "code",
   "execution_count": 56,
   "id": "3a955829",
   "metadata": {},
   "outputs": [
    {
     "data": {
      "text/plain": [
       "6.038164363504874e-16"
      ]
     },
     "execution_count": 56,
     "metadata": {},
     "output_type": "execute_result"
    }
   ],
   "source": [
    "mmJIK(App,Bpp,Cjikpp,n)\n",
    "numpy.linalg.norm(C-Cjik)/numpy.linalg.norm(C)"
   ]
  },
  {
   "cell_type": "markdown",
   "id": "2cb98c13",
   "metadata": {},
   "source": [
    "## Mediciones de tiempo"
   ]
  },
  {
   "cell_type": "code",
   "execution_count": 57,
   "id": "9c28fa97",
   "metadata": {},
   "outputs": [],
   "source": [
    "ns = 2**numpy.arange(1,10)\n",
    "veces = range(40)"
   ]
  },
  {
   "cell_type": "code",
   "execution_count": 58,
   "id": "e20c4a6b",
   "metadata": {},
   "outputs": [],
   "source": [
    "lijk = []\n",
    "likj = []\n",
    "ljki = []\n",
    "ljik = []\n",
    "for n in ns:\n",
    "    lijki = []\n",
    "    likji = []\n",
    "    ljkii = []\n",
    "    ljiki = []\n",
    "    for _ in veces:\n",
    "        # entradas\n",
    "        A = numpy.random.rand(n,n)\n",
    "        B = numpy.random.rand(n,n)\n",
    "        # referencia\n",
    "        C = numpy.dot(A,B)\n",
    "        # para la forma IJK\n",
    "        Cijk = numpy.zeros_like(C)\n",
    "        # para la forma IKJ\n",
    "        Cikj = numpy.zeros_like(C)\n",
    "        # para la forma JKI\n",
    "        Cjki = numpy.zeros_like(C)\n",
    "        # para la forma JIK\n",
    "        Cjik = numpy.zeros_like(C)\n",
    "        # ptr 2 ptr\n",
    "        App = ptr2ptr(A)\n",
    "        Bpp = ptr2ptr(B)\n",
    "        Cijkpp = ptr2ptr(Cijk)\n",
    "        Cikjpp = ptr2ptr(Cikj)\n",
    "        Cjkipp = ptr2ptr(Cjki)\n",
    "        Cjikpp = ptr2ptr(Cjik)\n",
    "        # IJK\n",
    "        tic = time.time()\n",
    "        mmIJK(App,Bpp,Cijkpp,n)\n",
    "        toc = time.time()\n",
    "        lijki.append(toc-tic)\n",
    "        # IKJ\n",
    "        tic = time.time()\n",
    "        mmIKJ(App,Bpp,Cikjpp,n)\n",
    "        toc = time.time()\n",
    "        likji.append(toc-tic)\n",
    "        # JKI\n",
    "        tic = time.time()\n",
    "        mmJKI(App,Bpp,Cjkipp,n)\n",
    "        toc = time.time()\n",
    "        ljkii.append(toc-tic)\n",
    "        # JIK\n",
    "        tic = time.time()\n",
    "        mmJIK(App,Bpp,Cjikpp,n)\n",
    "        toc = time.time()\n",
    "        ljiki.append(toc-tic)\n",
    "    lijk.append(mean(filtro_mediana(lijki,11)))\n",
    "    likj.append(mean(filtro_mediana(likji,11)))\n",
    "    ljki.append(mean(filtro_mediana(ljkii,11)))\n",
    "    ljik.append(mean(filtro_mediana(ljiki,11)))"
   ]
  },
  {
   "cell_type": "code",
   "execution_count": 59,
   "id": "38aee241",
   "metadata": {},
   "outputs": [
    {
     "data": {
      "image/png": "[encoded data removed]",
      "text/plain": [
       "<Figure size 432x288 with 1 Axes>"
      ]
     },
     "metadata": {
      "needs_background": "light"
     },
     "output_type": "display_data"
    }
   ],
   "source": [
    "plt.plot(ns,lijk,'r-o',label='IJK')\n",
    "plt.plot(ns,likj,'g-o',label='IKJ')\n",
    "plt.plot(ns,ljki,'b-o',label='JKI')\n",
    "plt.plot(ns,ljik,'c-o',label='JIK')\n",
    "plt.legend()\n",
    "plt.show()"
   ]
  },
  {
   "cell_type": "markdown",
   "id": "d855993d",
   "metadata": {},
   "source": [
    "Acercamiento a los dos últimos tamaños"
   ]
  },
  {
   "cell_type": "code",
   "execution_count": 60,
   "id": "5ef30d7c",
   "metadata": {},
   "outputs": [
    {
     "data": {
      "image/png": "[encoded data removed]",
      "text/plain": [
       "<Figure size 432x288 with 1 Axes>"
      ]
     },
     "metadata": {
      "needs_background": "light"
     },
     "output_type": "display_data"
    }
   ],
   "source": [
    "plt.plot(ns,lijk,'r-o',label='IJK')\n",
    "plt.plot(ns,likj,'g-o',label='IKJ')\n",
    "plt.plot(ns,ljki,'b-o',label='JKI')\n",
    "plt.plot(ns,ljik,'c-o',label='JIK')\n",
    "plt.xlim([ns[-2],ns[-1]])\n",
    "plt.legend()\n",
    "plt.show()"
   ]
  },
  {
   "cell_type": "markdown",
   "id": "f52e05d6",
   "metadata": {},
   "source": [
    "Una explicación detallada sobre el producto matriz-matriz se puede encontrar en el primer capítulo del libro \"Matrix Computations\" de Golub."
   ]
  },
  {
   "cell_type": "code",
   "execution_count": 61,
   "id": "c26ad045",
   "metadata": {},
   "outputs": [],
   "source": [
    "! rm *.o\n",
    "! rm *.so\n",
    "! rm *.c"
   ]
  }
 ],
 "metadata": {
  "kernelspec": {
   "display_name": "Python 3 (ipykernel)",
   "language": "python",
   "name": "python3"
  },
  "language_info": {
   "codemirror_mode": {
    "name": "ipython",
    "version": 3
   },
   "file_extension": ".py",
   "mimetype": "text/x-python",
   "name": "python",
   "nbconvert_exporter": "python",
   "pygments_lexer": "ipython3",
   "version": "3.8.10"
  }
 },
 "nbformat": 4,
 "nbformat_minor": 5
}
