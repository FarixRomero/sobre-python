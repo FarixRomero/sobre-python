{
 "cells": [
  {
   "cell_type": "markdown",
   "source": [
    "# Perfil de una función con Pthreads con Pandas"
   ],
   "metadata": {}
  },
  {
   "cell_type": "markdown",
   "source": [
    "## Dependencias"
   ],
   "metadata": {}
  },
  {
   "cell_type": "code",
   "execution_count": 1,
   "source": [
    "import pandas as pd"
   ],
   "outputs": [],
   "metadata": {}
  },
  {
   "cell_type": "code",
   "execution_count": 2,
   "source": [
    "import matplotlib.pyplot as plt"
   ],
   "outputs": [],
   "metadata": {}
  },
  {
   "cell_type": "markdown",
   "source": [
    "## Pthreads"
   ],
   "metadata": {}
  },
  {
   "cell_type": "markdown",
   "source": [
    "Suma de vectores con pthreads."
   ],
   "metadata": {}
  },
  {
   "cell_type": "code",
   "execution_count": 3,
   "source": [
    "%%file sumavectpth.c\n",
    "#include <stdio.h>\n",
    "#include <stdlib.h>\n",
    "#include <pthread.h>\n",
    "#include <sys/time.h>\n",
    "\n",
    "void print_vector(float *v, int size)\n",
    "{\n",
    "    printf(\"\\n\");\n",
    "    for (int i = 0; i < size; i++)\n",
    "    {\n",
    "        printf(\"%f\\n\", v[i]);\n",
    "    }\n",
    "    printf(\"\\n\");\n",
    "}\n",
    "\n",
    "void init_vector(float *v, int size)\n",
    "{\n",
    "    for (int i = 0; i < size; i++)\n",
    "    {\n",
    "        v[i] = (float)i;\n",
    "    }\n",
    "}\n",
    "\n",
    "double calcularsegundos(struct timeval ti, struct timeval tf)\n",
    "{\n",
    "    return (tf.tv_sec - ti.tv_sec) + (tf.tv_usec - ti.tv_usec) / 1000000.0;\n",
    "}\n",
    "\n",
    "typedef struct th_info\n",
    "{\n",
    "    pthread_t thread;\n",
    "    int size;\n",
    "    int id;\n",
    "    float *v1;\n",
    "    float *v2;\n",
    "    float *v3;\n",
    "} th_info;\n",
    "\n",
    "void *pth_func(void *args)\n",
    "{\n",
    "    th_info *th_info_args = (th_info *)args;\n",
    "    for (int i = 0; i < th_info_args->size; i++)\n",
    "    {\n",
    "        th_info_args->v3[i] = th_info_args->v1[i] + th_info_args->v2[i];\n",
    "    }\n",
    "    return NULL;\n",
    "}\n",
    "\n",
    "void parallel_vector_sum(float *v1, float *v2, float *v3, int tam, int ths)\n",
    "{\n",
    "    int size = (tam / ths);\n",
    "\n",
    "    th_info threads[ths];\n",
    "\n",
    "    for (int i = 0; i < ths; i++)\n",
    "    {\n",
    "        threads[i].size = size;\n",
    "        threads[i].id = i;\n",
    "        threads[i].v1 = v1 + i * size;\n",
    "        threads[i].v2 = v2 + i * size;\n",
    "        threads[i].v3 = v3 + i * size;\n",
    "    }\n",
    "\n",
    "    pth_func((void *)&threads[0]);\n",
    "\n",
    "    if (ths > 1)\n",
    "    {\n",
    "        for (size_t i = 1; i < ths; ++i)\n",
    "        {\n",
    "            pthread_create(&threads[i].thread, NULL, pth_func, (void *)&threads[i]);\n",
    "        }\n",
    "\n",
    "        for (size_t i = 1; i < ths; ++i)\n",
    "        {\n",
    "            pthread_join(threads[i].thread, NULL);\n",
    "        }\n",
    "    }\n",
    "}\n",
    "\n",
    "int main(int argc, char **argv)\n",
    "{\n",
    "    if (argc != 3)\n",
    "    {\n",
    "        printf(\"Usage: %s <tam> <ths>\\n\", argv[0]);\n",
    "        exit(-1);\n",
    "    }\n",
    "\n",
    "    struct timeval ti, tf;\n",
    "\n",
    "    int tam = atoi(argv[1]);\n",
    "\n",
    "    int ths = atoi(argv[2]);\n",
    "\n",
    "    float *v1 = (float *)malloc(tam * sizeof(float));\n",
    "    float *v2 = (float *)malloc(tam * sizeof(float));\n",
    "    float *v3 = (float *)malloc(tam * sizeof(float));\n",
    "\n",
    "    // init vectores\n",
    "    init_vector(v1, tam);\n",
    "    init_vector(v2, tam);\n",
    "\n",
    "    gettimeofday(&ti, NULL);\n",
    "    parallel_vector_sum(v1, v2, v3, tam, ths);\n",
    "    gettimeofday(&tf, NULL);\n",
    "\n",
    "    double segundos = calcularsegundos(ti, tf);\n",
    "    printf(\"%s,%s,%lf\\n\",argv[1],argv[2],segundos);\n",
    "\n",
    "    free(v1);\n",
    "    free(v2);\n",
    "    free(v3);\n",
    "\n",
    "    return 0;\n",
    "}"
   ],
   "outputs": [
    {
     "output_type": "stream",
     "name": "stdout",
     "text": [
      "Writing sumavectpth.c\n"
     ]
    }
   ],
   "metadata": {}
  },
  {
   "cell_type": "code",
   "execution_count": 4,
   "source": [
    "! gcc sumavectpth.c -o sumavectpth -pthread "
   ],
   "outputs": [],
   "metadata": {}
  },
  {
   "cell_type": "code",
   "execution_count": 5,
   "source": [
    "! ./sumavectpth"
   ],
   "outputs": [
    {
     "output_type": "stream",
     "name": "stdout",
     "text": [
      "Usage: ./sumavectpth <tam> <ths>\r\n"
     ]
    }
   ],
   "metadata": {}
  },
  {
   "cell_type": "markdown",
   "source": [
    "Archivo de bash que servirá para hacer las pruebas y registrar los resultados en archivos de valores separados por comas"
   ],
   "metadata": {}
  },
  {
   "cell_type": "code",
   "execution_count": 6,
   "source": [
    "%%file perfil.sh\n",
    "\n",
    "printf \"n,ths,tiempo\\n\" > perfil.csv\n",
    "\n",
    "for n in 5000000 10000000 50000000 100000000\n",
    "do\n",
    "    for th in 1 2 3 4 6 8\n",
    "    do\n",
    "        for i in {1..20}\n",
    "        do\n",
    "          ./sumavectpth $n $th >> perfil.csv\n",
    "        done\n",
    "    done\n",
    "done"
   ],
   "outputs": [
    {
     "output_type": "stream",
     "name": "stdout",
     "text": [
      "Writing perfil.sh\n"
     ]
    }
   ],
   "metadata": {}
  },
  {
   "cell_type": "markdown",
   "source": [
    "Se ejecuta el archivo de bash"
   ],
   "metadata": {}
  },
  {
   "cell_type": "code",
   "execution_count": 7,
   "source": [
    "! bash perfil.sh"
   ],
   "outputs": [],
   "metadata": {}
  },
  {
   "cell_type": "markdown",
   "source": [
    "Leer el archivo CSV"
   ],
   "metadata": {}
  },
  {
   "cell_type": "code",
   "execution_count": 8,
   "source": [
    "perfil = pd.read_csv('perfil.csv',delimiter=',')"
   ],
   "outputs": [],
   "metadata": {}
  },
  {
   "cell_type": "code",
   "execution_count": 9,
   "source": [
    "perfil"
   ],
   "outputs": [
    {
     "output_type": "execute_result",
     "data": {
      "text/html": [
       "<div>\n",
       "<style scoped>\n",
       "    .dataframe tbody tr th:only-of-type {\n",
       "        vertical-align: middle;\n",
       "    }\n",
       "\n",
       "    .dataframe tbody tr th {\n",
       "        vertical-align: top;\n",
       "    }\n",
       "\n",
       "    .dataframe thead th {\n",
       "        text-align: right;\n",
       "    }\n",
       "</style>\n",
       "<table border=\"1\" class=\"dataframe\">\n",
       "  <thead>\n",
       "    <tr style=\"text-align: right;\">\n",
       "      <th></th>\n",
       "      <th>n</th>\n",
       "      <th>ths</th>\n",
       "      <th>tiempo</th>\n",
       "    </tr>\n",
       "  </thead>\n",
       "  <tbody>\n",
       "    <tr>\n",
       "      <th>0</th>\n",
       "      <td>5000000</td>\n",
       "      <td>1</td>\n",
       "      <td>0.017525</td>\n",
       "    </tr>\n",
       "    <tr>\n",
       "      <th>1</th>\n",
       "      <td>5000000</td>\n",
       "      <td>1</td>\n",
       "      <td>0.017414</td>\n",
       "    </tr>\n",
       "    <tr>\n",
       "      <th>2</th>\n",
       "      <td>5000000</td>\n",
       "      <td>1</td>\n",
       "      <td>0.017411</td>\n",
       "    </tr>\n",
       "    <tr>\n",
       "      <th>3</th>\n",
       "      <td>5000000</td>\n",
       "      <td>1</td>\n",
       "      <td>0.017359</td>\n",
       "    </tr>\n",
       "    <tr>\n",
       "      <th>4</th>\n",
       "      <td>5000000</td>\n",
       "      <td>1</td>\n",
       "      <td>0.017231</td>\n",
       "    </tr>\n",
       "    <tr>\n",
       "      <th>...</th>\n",
       "      <td>...</td>\n",
       "      <td>...</td>\n",
       "      <td>...</td>\n",
       "    </tr>\n",
       "    <tr>\n",
       "      <th>475</th>\n",
       "      <td>100000000</td>\n",
       "      <td>8</td>\n",
       "      <td>0.214148</td>\n",
       "    </tr>\n",
       "    <tr>\n",
       "      <th>476</th>\n",
       "      <td>100000000</td>\n",
       "      <td>8</td>\n",
       "      <td>0.213856</td>\n",
       "    </tr>\n",
       "    <tr>\n",
       "      <th>477</th>\n",
       "      <td>100000000</td>\n",
       "      <td>8</td>\n",
       "      <td>0.231730</td>\n",
       "    </tr>\n",
       "    <tr>\n",
       "      <th>478</th>\n",
       "      <td>100000000</td>\n",
       "      <td>8</td>\n",
       "      <td>0.227134</td>\n",
       "    </tr>\n",
       "    <tr>\n",
       "      <th>479</th>\n",
       "      <td>100000000</td>\n",
       "      <td>8</td>\n",
       "      <td>0.252259</td>\n",
       "    </tr>\n",
       "  </tbody>\n",
       "</table>\n",
       "<p>480 rows × 3 columns</p>\n",
       "</div>"
      ],
      "text/plain": [
       "             n  ths    tiempo\n",
       "0      5000000    1  0.017525\n",
       "1      5000000    1  0.017414\n",
       "2      5000000    1  0.017411\n",
       "3      5000000    1  0.017359\n",
       "4      5000000    1  0.017231\n",
       "..         ...  ...       ...\n",
       "475  100000000    8  0.214148\n",
       "476  100000000    8  0.213856\n",
       "477  100000000    8  0.231730\n",
       "478  100000000    8  0.227134\n",
       "479  100000000    8  0.252259\n",
       "\n",
       "[480 rows x 3 columns]"
      ]
     },
     "metadata": {},
     "execution_count": 9
    }
   ],
   "metadata": {}
  },
  {
   "cell_type": "markdown",
   "source": [
    "Obtener la columna de tamagnos y eliminar los valores repetidos"
   ],
   "metadata": {}
  },
  {
   "cell_type": "code",
   "execution_count": 10,
   "source": [
    "ns = perfil['n'].drop_duplicates().to_numpy()\n",
    "ns"
   ],
   "outputs": [
    {
     "output_type": "execute_result",
     "data": {
      "text/plain": [
       "array([  5000000,  10000000,  50000000, 100000000])"
      ]
     },
     "metadata": {},
     "execution_count": 10
    }
   ],
   "metadata": {}
  },
  {
   "cell_type": "markdown",
   "source": [
    "Obtener la columna de la cantidad de threads y eliminar los valores repetidos"
   ],
   "metadata": {}
  },
  {
   "cell_type": "code",
   "execution_count": 11,
   "source": [
    "ths = perfil['ths'].drop_duplicates().to_numpy()\n",
    "ths"
   ],
   "outputs": [
    {
     "output_type": "execute_result",
     "data": {
      "text/plain": [
       "array([1, 2, 3, 4, 6, 8])"
      ]
     },
     "metadata": {},
     "execution_count": 11
    }
   ],
   "metadata": {}
  },
  {
   "cell_type": "markdown",
   "source": [
    "Gráfica que muestra como varía el tiempo promedio para cada tamagno, de acuerdo al número de threads, luego de realizar una mediana desplazante de ventana 7. "
   ],
   "metadata": {}
  },
  {
   "cell_type": "code",
   "execution_count": 12,
   "source": [
    "for n in ns:\n",
    "    tn = []\n",
    "    for th in ths:\n",
    "        tn.append(perfil[(perfil['n'] == n) & (perfil['ths'] == th)]['tiempo'].rolling(7,min_periods=1).median().mean())\n",
    "    plt.plot(ths,tn,'-o',label=str(n))\n",
    "    plt.legend()\n",
    "plt.xlabel('cantidad de threads')\n",
    "plt.ylabel('tiempo promedio')\n",
    "plt.tight_layout()"
   ],
   "outputs": [
    {
     "output_type": "display_data",
     "data": {
      "image/png": "[encoded data removed]",
      "text/plain": [
       "<Figure size 432x288 with 1 Axes>"
      ]
     },
     "metadata": {
      "needs_background": "light"
     }
    }
   ],
   "metadata": {}
  },
  {
   "cell_type": "markdown",
   "source": [
    "Forma simplificada usando métodos de pandas, pero desconosco como hacer para filtrar cada grupo de forma aislada. A pesar de no haber realizado un filtro, las tendencias parecen ser las mismas que las obtenidas manualmente."
   ],
   "metadata": {}
  },
  {
   "cell_type": "code",
   "execution_count": 13,
   "source": [
    "for n in ns:\n",
    "    ts = perfil[perfil['n'] == n].groupby('ths').mean()['tiempo'].to_numpy()\n",
    "    plt.plot(ths,ts,'-o',label=str(n))\n",
    "plt.legend()\n",
    "plt.xlabel('cantidad de threads')\n",
    "plt.ylabel('tiempo promedio')\n",
    "plt.tight_layout()"
   ],
   "outputs": [
    {
     "output_type": "display_data",
     "data": {
      "image/png": "[encoded data removed]",
      "text/plain": [
       "<Figure size 432x288 with 1 Axes>"
      ]
     },
     "metadata": {
      "needs_background": "light"
     }
    }
   ],
   "metadata": {}
  },
  {
   "cell_type": "markdown",
   "source": [
    "Subgráficos para observar con más detalle como es la variación del tiempo en cada tamagno"
   ],
   "metadata": {}
  },
  {
   "cell_type": "code",
   "execution_count": 14,
   "source": [
    "r = 2\n",
    "c = 2\n",
    "for i in range(r):\n",
    "    for j in range(c):\n",
    "        ind = i*r+j\n",
    "        plt.subplot(r,c,ind+1)\n",
    "        ts = perfil[perfil['n'] == ns[ind]].groupby('ths').mean()['tiempo'].to_numpy()\n",
    "        plt.plot(ths,ts,'-o',label='n='+str(ns[ind]))\n",
    "        plt.legend()\n",
    "plt.tight_layout()"
   ],
   "outputs": [
    {
     "output_type": "display_data",
     "data": {
      "image/png": "[encoded data removed]",
      "text/plain": [
       "<Figure size 432x288 with 4 Axes>"
      ]
     },
     "metadata": {
      "needs_background": "light"
     }
    }
   ],
   "metadata": {}
  },
  {
   "cell_type": "markdown",
   "source": [
    "En las gráficas anteriores se observa para los cuatro tamagnos, que el mayor tiempo no ocurrió necesariamente cuando se usó un solo _thread_. Sin embargo, el tiempo con un solo _thread_ será la referencia para calcular el _speedup_."
   ],
   "metadata": {}
  },
  {
   "cell_type": "code",
   "execution_count": 15,
   "source": [
    "for n in ns:\n",
    "    ts = perfil[perfil['n'] == n].groupby('ths').mean()['tiempo'].to_numpy()\n",
    "    plt.plot(ths[1:],ts[0]/ts[1:],'-o',label=str(n))\n",
    "plt.legend()\n",
    "plt.xlabel('cantidad de threads')\n",
    "plt.ylabel('speedup')\n",
    "plt.tight_layout()"
   ],
   "outputs": [
    {
     "output_type": "display_data",
     "data": {
      "image/png": "[encoded data removed]",
      "text/plain": [
       "<Figure size 432x288 with 1 Axes>"
      ]
     },
     "metadata": {
      "needs_background": "light"
     }
    }
   ],
   "metadata": {}
  },
  {
   "cell_type": "code",
   "execution_count": 16,
   "source": [
    "! rm *.c\n",
    "! rm *.sh"
   ],
   "outputs": [],
   "metadata": {}
  }
 ],
 "metadata": {
  "kernelspec": {
   "display_name": "Python 3 (ipykernel)",
   "language": "python",
   "name": "python3"
  },
  "language_info": {
   "codemirror_mode": {
    "name": "ipython",
    "version": 3
   },
   "file_extension": ".py",
   "mimetype": "text/x-python",
   "name": "python",
   "nbconvert_exporter": "python",
   "pygments_lexer": "ipython3",
   "version": "3.8.10"
  }
 },
 "nbformat": 4,
 "nbformat_minor": 5
}