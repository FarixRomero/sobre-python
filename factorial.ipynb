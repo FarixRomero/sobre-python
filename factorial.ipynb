{
 "cells": [
  {
   "cell_type": "markdown",
   "id": "0dbcf586",
   "metadata": {},
   "source": [
    "# Factorial"
   ]
  },
  {
   "cell_type": "markdown",
   "id": "b91a17dc",
   "metadata": {},
   "source": [
    "En estos apuntes se observará como implementar el factorial de distintas formas, y como cada implementación tiene un impacto en su tiempo de ejecución."
   ]
  },
  {
   "cell_type": "markdown",
   "id": "a78298a6",
   "metadata": {},
   "source": [
    "## Primera aproximación"
   ]
  },
  {
   "cell_type": "markdown",
   "id": "0dbab928",
   "metadata": {},
   "source": [
    "La definición del factorial es\n",
    "$$\n",
    "n! = 1 \\times 2 \\times 3 \\times 4 \\cdots \\times n\n",
    "$$\n",
    "La implementación es directa"
   ]
  },
  {
   "cell_type": "code",
   "execution_count": 1,
   "id": "124c6018",
   "metadata": {},
   "outputs": [],
   "source": [
    "def fact_v1(n):\n",
    "    f = 1\n",
    "    for i in range(1,n+1):\n",
    "        f *= i\n",
    "    return f"
   ]
  },
  {
   "cell_type": "markdown",
   "id": "e7956f34",
   "metadata": {},
   "source": [
    "## Segunda aproximación"
   ]
  },
  {
   "cell_type": "markdown",
   "id": "cbed63e5",
   "metadata": {},
   "source": [
    "Se realizará un ejercicio de reordenamiento de términos para conseguir formas más eficientes en términos de cómputo. Empieza con $n=4$ porque para valores anteriores no había mucho para reordenar.$\\newline$\n",
    "Para $n = 4$:\n",
    "$$\n",
    "4! = 1 \\times 2 \\times 3 \\times 4 = (1 \\times 3)(2 \\times 4) = (1 \\times 3)((2 \\times 1)(2 \\times 2)) = (1 \\times 3) \\times 2^{2} \\times 2!\n",
    "$$\n",
    "\n",
    "Para $n = 5$:\n",
    "$$\n",
    "5! = 1 \\times 2 \\times 3 \\times 4 \\times 5 = (1 \\times 3 \\times 5)(2 \\times 4) = (1 \\times 3 \\times 5)((2 \\times 1)(2 \\times 2)) = (1 \\times 3 \\times 5) \\times 2^{2} \\times 2!\n",
    "$$\n",
    "\n",
    "Para $n = 6$:\n",
    "$$\n",
    "6! = 1 \\times 2 \\times 3 \\times 4 \\times 5 \\times 6 = (1 \\times 3 \\times 5)(2 \\times 4 \\times 6) = (1 \\times 3 \\times 5)((2 \\times 1)(2 \\times 2)(2 \\times 3)) = (1 \\times 3 \\times 5) \\times 2^{3} \\times 3!\n",
    "$$\n",
    "\n",
    "Para $n = 7$:\n",
    "$$\n",
    "7! = 1 \\times 2 \\times 3 \\times 4 \\times 5 \\times 6 \\times 7 = (1 \\times 3 \\times 5 \\times 7)(2 \\times 4 \\times 6) = (1 \\times 3 \\times 5 \\times 7)((2 \\times 1)(2 \\times 2)(2 \\times 3)) = (1 \\times 3 \\times 5 \\times 7) \\times 2^{3} \\times 3!\n",
    "$$\n",
    "\n",
    "En general:\n",
    "$$\n",
    "n! = (1 \\times 3 \\times 5 \\cdots)(2^{n \\div 2})(n \\div 2!)\n",
    "$$\n",
    "\n",
    "Notar que el primer producto son los impares menores o iguales a $n$, y que $\\div$ es el símbolo de la división entera."
   ]
  },
  {
   "cell_type": "code",
   "execution_count": 2,
   "id": "c0503910",
   "metadata": {},
   "outputs": [],
   "source": [
    "def fact_v2(n):\n",
    "    f = 1\n",
    "    t = n//2\n",
    "    m = (n+1)//2\n",
    "    for i in range(1,2*m,2):\n",
    "        f *= i\n",
    "    p = 2 ** t\n",
    "    return f*p*fact_v1(t)"
   ]
  },
  {
   "cell_type": "markdown",
   "id": "f8310ce7",
   "metadata": {},
   "source": [
    "Está forma hace uso de la primera versión, es decir, la definición."
   ]
  },
  {
   "cell_type": "markdown",
   "id": "ec6f8b0f",
   "metadata": {},
   "source": [
    "## Tercera aproximación\n",
    "\n",
    "Se continuará con la deducción de la aproximación anterior, pero sin depender de la primera versión.\n",
    "\n",
    "Para $n = 8$:\n",
    "\n",
    "$$\n",
    "8! = (1 \\times 3 \\times 5 \\times 7)(2 \\times 4 \\times 6 \\times 8) = (1 \\times 3 \\times 5 \\times 7)((2 \\times 1)(2 \\times 2)(2 \\times 3)(2 \\times 4)) = (1 \\times 3 \\times 5 \\times 7) \\times 2^{4} \\times 4! \n",
    "$$\n",
    "\n",
    "Al reemplazar el resultado de $4!$:\n",
    "$$\n",
    "8! = (1 \\times 3 \\times 5 \\times 7) \\times 2^{4} \\times 4! = (1 \\times 3 \\times 5 \\times 7) \\times 2^{4} \\times ((1 \\times 3) \\times 2^{2} \\times 2!)\n",
    "$$\n",
    "\n",
    "Después de ordenar:\n",
    "\n",
    "$$\n",
    "8! = (1 \\times 3 \\times 5 \\times 7)(1 \\times 3)\\times 2^{4} \\times 2^{2} \\times 2!\n",
    "$$\n",
    "\n",
    "Si le damos forma a $2! = 1 \\times 2^{1} \\times 1!$ queda:\n",
    "\n",
    "$$\n",
    "8! = (1 \\times 3 \\times 5 \\times 7)(1 \\times 3)(1) \\times 2^{4} \\times 2^{2} \\times 2^{1} \\times 1!\n",
    "$$\n",
    "\n",
    "Para $n = 9$:\n",
    "\n",
    "$$\n",
    "9! = (1 \\times 3 \\times 5 \\times 7 \\times 9)(2 \\times 4 \\times 6 \\times 8) = (1 \\times 3 \\times 5 \\times 7 \\times 9)((2 \\times 1)(2 \\times 2)(2 \\times 3)(2 \\times 4)) = (1 \\times 3 \\times 5 \\times 7 \\times 9) \\times 2^{4} \\times 4! \n",
    "$$\n",
    "\n",
    "Al reemplazar el resultado de $4!$:\n",
    "$$\n",
    "9! = (1 \\times 3 \\times 5 \\times 7 \\times 9) \\times 2^{4} \\times 4! = (1 \\times 3 \\times 5 \\times 7 \\times 9) \\times 2^{4} \\times ((1 \\times 3) \\times 2^{2} \\times 2!)\n",
    "$$\n",
    "\n",
    "Nos queda:\n",
    "\n",
    "$$\n",
    "9! = (1 \\times 3 \\times 5 \\times 7 \\times 9)(1 \\times 3)(1) \\times 2^{4} \\times 2^{2} \\times 2^{1} \\times 1!\n",
    "$$\n",
    "\n",
    "Si agrupamos:\n",
    "\n",
    "$$\n",
    "9! = \\underbrace{(1 \\times 3 \\times 5 \\times 7 \\times 9)(1 \\times 3)(1)}_\\text{a} \\times \\underbrace{2^{4} \\times 2^{2} \\times 2^{1}}_\\text{b} \\times 1!\n",
    "$$\n",
    "\n",
    "La expresión simbólica sería de el término $a$ sería:\n",
    "\n",
    "$$\n",
    "a = \\underbrace{\\prod_{k}^{}(2k+1)}_\\text{$k \\in impares \\left[0,9\\right]$} \\times \\underbrace{\\prod_{k}^{}(2k+1)}_\\text{$k \\in impares \\left[0,9\\div2\\right]$} \\times \\underbrace{\\prod_{k}^{}(2k+1)}_\\text{$k \\in impares \\left[0,9\\div4\\right]$}\n",
    "$$\n",
    "\n",
    "La expresión simbólica sería de el término $b$ sería:\n",
    "\n",
    "$$\n",
    "b = 2^{9 \\div 2} \\times 2^{9 \\div 4} \\times 2^{9 \\div 8}\n",
    "$$\n",
    "\n",
    "En general:\n",
    "\n",
    "$$\n",
    "a = \\underbrace{\\prod_{k}^{}(2k+1)}_\\text{$k \\in impares \\left[0,n\\right]$} \\times \\underbrace{\\prod_{k}^{}(2k+1)}_\\text{$k \\in impares \\left[0,n\\div2\\right]$} \\times \\underbrace{\\prod_{k}^{}(2k+1)}_\\text{$k \\in impares \\left[0,n\\div4\\right]$} \\times \\cdots\n",
    "$$\n",
    "\n",
    "y:\n",
    "\n",
    "$$\n",
    "b = 2^{n \\div 2} \\times 2^{n \\div 4} \\times 2^{n \\div 8} \\times \\cdots\n",
    "$$\n",
    "\n",
    "Y el factorial de cualquier número sería:\n",
    "\n",
    "$$\n",
    "n! = a \\times b\n",
    "$$"
   ]
  },
  {
   "cell_type": "code",
   "execution_count": 3,
   "id": "4bea98bc",
   "metadata": {},
   "outputs": [],
   "source": [
    "def fact_v3(n):\n",
    "    a = 1\n",
    "    b = 1\n",
    "    while (n):\n",
    "        ai = 1\n",
    "        t = n//2\n",
    "        m = (n+1)//2\n",
    "        for i in range(1,2*m,2):\n",
    "            ai *= i\n",
    "        a *= ai\n",
    "        b *= (2 ** t)\n",
    "        n = t\n",
    "    return a*b"
   ]
  },
  {
   "cell_type": "markdown",
   "id": "0fe4770f",
   "metadata": {},
   "source": [
    "El término $b$ se puede reemplazar por una única potencia de una suma de exponentes"
   ]
  },
  {
   "cell_type": "code",
   "execution_count": 4,
   "id": "27930138",
   "metadata": {},
   "outputs": [],
   "source": [
    "def fact_v4(n):\n",
    "    a = 1\n",
    "    e = 0\n",
    "    while (n):\n",
    "        ai = 1\n",
    "        t = n//2\n",
    "        m = (n+1)//2\n",
    "        for i in range(1,2*m,2):\n",
    "            ai *= i\n",
    "        a *= ai\n",
    "        e += t\n",
    "        n = t\n",
    "    b = 2**e\n",
    "    return a*b"
   ]
  },
  {
   "cell_type": "markdown",
   "id": "9fff0c47",
   "metadata": {},
   "source": [
    "Al ser una potencia de 2 se puede hacer otro cambio"
   ]
  },
  {
   "cell_type": "code",
   "execution_count": 5,
   "id": "c326dfd1",
   "metadata": {},
   "outputs": [],
   "source": [
    "def fact_v5(n):\n",
    "    a = 1\n",
    "    e = 0\n",
    "    while (n):\n",
    "        ai = 1\n",
    "        t = n//2\n",
    "        m = (n+1)//2\n",
    "        for i in range(1,2*m,2):\n",
    "            ai *= i\n",
    "        a *= ai\n",
    "        e += t\n",
    "        n = t\n",
    "    b = (2<<(e-1))\n",
    "    return a*b"
   ]
  },
  {
   "cell_type": "markdown",
   "id": "756337d3",
   "metadata": {},
   "source": [
    "## Pruebas"
   ]
  },
  {
   "cell_type": "markdown",
   "id": "a4e5bc80",
   "metadata": {},
   "source": [
    "### Prueba numérica"
   ]
  },
  {
   "cell_type": "code",
   "execution_count": 6,
   "id": "eb4626d9",
   "metadata": {},
   "outputs": [],
   "source": [
    "r1 = []\n",
    "r2 = []\n",
    "r3 = []\n",
    "r4 = []\n",
    "r5 = []\n",
    "start = 1000\n",
    "end = 10000\n",
    "step = start\n",
    "nums = range(start,end+start,step)\n",
    "for num in nums:\n",
    "    r1.append(fact_v1(num))\n",
    "    r2.append(fact_v2(num))\n",
    "    r3.append(fact_v3(num))\n",
    "    r4.append(fact_v4(num))\n",
    "    r5.append(fact_v5(num))"
   ]
  },
  {
   "cell_type": "code",
   "execution_count": 7,
   "id": "e5b93190",
   "metadata": {},
   "outputs": [
    {
     "data": {
      "text/plain": [
       "True"
      ]
     },
     "execution_count": 7,
     "metadata": {},
     "output_type": "execute_result"
    }
   ],
   "source": [
    "r1 == r2 == r3 == r4 == r5"
   ]
  },
  {
   "cell_type": "markdown",
   "id": "c0fdc66d",
   "metadata": {},
   "source": [
    "Los resultados numpericos son iguales en todas las versiones, para todos los tamagnos."
   ]
  },
  {
   "cell_type": "markdown",
   "id": "af0a854d",
   "metadata": {},
   "source": [
    "### Medición de tiempos"
   ]
  },
  {
   "cell_type": "markdown",
   "id": "39f4f7de",
   "metadata": {},
   "source": [
    "Se realizarán 40 repeticiones por tamagno, y los tamagnos variarán desde 1000 hasta 10000 a pasos de 1000."
   ]
  },
  {
   "cell_type": "code",
   "execution_count": 8,
   "id": "18915019",
   "metadata": {},
   "outputs": [],
   "source": [
    "import time\n",
    "import statistics\n",
    "from utilities import filtro_mediana"
   ]
  },
  {
   "cell_type": "code",
   "execution_count": 9,
   "id": "cd151a42",
   "metadata": {},
   "outputs": [],
   "source": [
    "v1 = []\n",
    "v2 = []\n",
    "v3 = []\n",
    "v4 = []\n",
    "v5 = []\n",
    "start = 1000\n",
    "end = 10000\n",
    "step = start\n",
    "nums = range(start,end+step,step)\n",
    "veces = 40\n",
    "for num in nums:\n",
    "    v1i = []\n",
    "    v2i = []\n",
    "    v3i = []\n",
    "    v4i = []\n",
    "    v5i = []\n",
    "    for i in range(veces):\n",
    "        tic = time.time()\n",
    "        fact_v1(num)\n",
    "        toc = time.time()\n",
    "        v1i.append(toc - tic)\n",
    "        \n",
    "        tic = time.time()\n",
    "        fact_v2(num)\n",
    "        toc = time.time()\n",
    "        v2i.append(toc - tic)\n",
    "        \n",
    "        tic = time.time()\n",
    "        fact_v3(num)\n",
    "        toc = time.time()\n",
    "        v3i.append(toc - tic)\n",
    "        \n",
    "        tic = time.time()\n",
    "        fact_v4(num)\n",
    "        toc = time.time()\n",
    "        v4i.append(toc - tic)\n",
    "        \n",
    "        tic = time.time()\n",
    "        fact_v5(num)\n",
    "        toc = time.time()\n",
    "        v5i.append(toc - tic)\n",
    "    v1.append(statistics.mean(filtro_mediana(v1i, 11)))\n",
    "    v2.append(statistics.mean(filtro_mediana(v2i, 11)))\n",
    "    v3.append(statistics.mean(filtro_mediana(v3i, 11)))\n",
    "    v4.append(statistics.mean(filtro_mediana(v4i, 11)))\n",
    "    v5.append(statistics.mean(filtro_mediana(v5i, 11)))"
   ]
  },
  {
   "cell_type": "markdown",
   "id": "9aaacc86",
   "metadata": {},
   "source": [
    "### Tiempo promedio"
   ]
  },
  {
   "cell_type": "code",
   "execution_count": 10,
   "id": "af5981a9",
   "metadata": {},
   "outputs": [],
   "source": [
    "import matplotlib.pyplot as plt"
   ]
  },
  {
   "cell_type": "code",
   "execution_count": 11,
   "id": "079025c2",
   "metadata": {},
   "outputs": [
    {
     "data": {
      "text/plain": [
       "<matplotlib.legend.Legend at 0x7f1401c637c0>"
      ]
     },
     "execution_count": 11,
     "metadata": {},
     "output_type": "execute_result"
    },
    {
     "data": {
      "image/png": "[encoded data removed]",
      "text/plain": [
       "<Figure size 432x288 with 1 Axes>"
      ]
     },
     "metadata": {
      "needs_background": "light"
     },
     "output_type": "display_data"
    }
   ],
   "source": [
    "plt.plot(nums,v1,'r-o',label='v1')\n",
    "plt.plot(nums,v2,'g-o',label='v2')\n",
    "plt.plot(nums,v3,'b-o',label='v3')\n",
    "plt.plot(nums,v4,'y-o',label='v4')\n",
    "plt.plot(nums,v5,'c-o',label='v5')\n",
    "plt.xlabel('tamagno')\n",
    "plt.ylabel('tiempo promedio')\n",
    "plt.title('tiempo promedio vs tamagno')\n",
    "plt.legend()"
   ]
  },
  {
   "cell_type": "markdown",
   "id": "651d415d",
   "metadata": {},
   "source": [
    "No se observa una ganancia significativa entre las versiones 3, 4 y 5"
   ]
  },
  {
   "cell_type": "code",
   "execution_count": 12,
   "id": "bd0ba237",
   "metadata": {},
   "outputs": [
    {
     "data": {
      "text/plain": [
       "<matplotlib.legend.Legend at 0x7f13ffb0b220>"
      ]
     },
     "execution_count": 12,
     "metadata": {},
     "output_type": "execute_result"
    },
    {
     "data": {
      "image/png": "[encoded data removed]",
      "text/plain": [
       "<Figure size 432x288 with 1 Axes>"
      ]
     },
     "metadata": {
      "needs_background": "light"
     },
     "output_type": "display_data"
    }
   ],
   "source": [
    "plt.plot(nums,v3,'b-o',label='v3')\n",
    "plt.plot(nums,v4,'y-o',label='v4')\n",
    "plt.plot(nums,v5,'c-o',label='v5')\n",
    "plt.xlabel('tamagno')\n",
    "plt.ylabel('tiempo promedio')\n",
    "plt.title('tiempo promedio vs tamagno')\n",
    "plt.legend()"
   ]
  },
  {
   "cell_type": "markdown",
   "id": "ac6096ed",
   "metadata": {},
   "source": [
    "### Speedup"
   ]
  },
  {
   "cell_type": "code",
   "execution_count": 13,
   "id": "97563414",
   "metadata": {},
   "outputs": [],
   "source": [
    "spv2 = [v1[i]/v2[i] for i in range(len(v1))]\n",
    "spv3 = [v1[i]/v3[i] for i in range(len(v1))]\n",
    "spv4 = [v1[i]/v4[i] for i in range(len(v1))]\n",
    "spv5 = [v1[i]/v5[i] for i in range(len(v1))]"
   ]
  },
  {
   "cell_type": "code",
   "execution_count": 14,
   "id": "25df2253",
   "metadata": {},
   "outputs": [
    {
     "data": {
      "text/plain": [
       "<matplotlib.legend.Legend at 0x7f13ffb71700>"
      ]
     },
     "execution_count": 14,
     "metadata": {},
     "output_type": "execute_result"
    },
    {
     "data": {
      "image/png": "[encoded data removed]",
      "text/plain": [
       "<Figure size 432x288 with 1 Axes>"
      ]
     },
     "metadata": {
      "needs_background": "light"
     },
     "output_type": "display_data"
    }
   ],
   "source": [
    "plt.plot(nums,spv2,'g-o',label='speedup de la version 2')\n",
    "plt.plot(nums,spv3,'b-o',label='speedup de la version 3')\n",
    "plt.plot(nums,spv4,'y-o',label='speedup de la version 4')\n",
    "plt.plot(nums,spv5,'c-o',label='speedup de la version 5')\n",
    "plt.xlabel('tamagno')\n",
    "plt.ylabel('speedup')\n",
    "plt.title('speedup vs tamagno')\n",
    "plt.legend()"
   ]
  },
  {
   "cell_type": "code",
   "execution_count": 15,
   "id": "0b7abaf4",
   "metadata": {},
   "outputs": [
    {
     "data": {
      "text/plain": [
       "<matplotlib.legend.Legend at 0x7f13ffa2ca00>"
      ]
     },
     "execution_count": 15,
     "metadata": {},
     "output_type": "execute_result"
    },
    {
     "data": {
      "image/png": "[encoded data removed]",
      "text/plain": [
       "<Figure size 432x288 with 1 Axes>"
      ]
     },
     "metadata": {
      "needs_background": "light"
     },
     "output_type": "display_data"
    }
   ],
   "source": [
    "plt.plot(nums,spv3,'b-o',label='speedup de la version 3')\n",
    "plt.plot(nums,spv4,'y-o',label='speedup de la version 4')\n",
    "plt.plot(nums,spv5,'c-o',label='speedup de la version 5')\n",
    "plt.xlabel('tamagno')\n",
    "plt.ylabel('speedup')\n",
    "plt.title('speedup vs tamagno')\n",
    "plt.legend()"
   ]
  },
  {
   "cell_type": "markdown",
   "id": "3404d6c2",
   "metadata": {},
   "source": [
    "La quinta forma parece ser, en términos generales, la opción ideal. "
   ]
  }
 ],
 "metadata": {
  "kernelspec": {
   "display_name": "Python 3 (ipykernel)",
   "language": "python",
   "name": "python3"
  },
  "language_info": {
   "codemirror_mode": {
    "name": "ipython",
    "version": 3
   },
   "file_extension": ".py",
   "mimetype": "text/x-python",
   "name": "python",
   "nbconvert_exporter": "python",
   "pygments_lexer": "ipython3",
   "version": "3.8.10"
  }
 },
 "nbformat": 4,
 "nbformat_minor": 5
}
